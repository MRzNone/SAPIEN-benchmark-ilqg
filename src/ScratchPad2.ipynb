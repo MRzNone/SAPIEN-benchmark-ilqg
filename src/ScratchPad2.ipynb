{
 "cells": [
  {
   "cell_type": "code",
   "execution_count": 1,
   "outputs": [
    {
     "name": "stdout",
     "output_type": "stream",
     "text": [
      "Using default glsl path /home/zack/anaconda3/envs/ml/lib/python3.7/site-packages/sapien/glsl_shader/130\n"
     ]
    }
   ],
   "source": [
    "import sapien.core as sapien\n",
    "from sapien.core import Pose\n",
    "from Tools import misc, ForwardKinematics, ModelSim, NumForwardDynamicsDer, MathForwardDynamics\n",
    "import numpy as onp\n",
    "import jax.numpy as np\n",
    "from jax import jit, jacfwd, jacrev, grad\n",
    "from ilq import ILQG\n",
    "import timeit\n",
    "import os\n",
    "import matplotlib.pyplot as plt\n",
    "\n",
    "os.environ[\"XLA_PYTHON_CLIENT_MEM_FRACTION\"] = \"0.4\"\n",
    "os.environ[\"XLA_FLAGS\"] = (\"--xla_cpu_multi_thread_eigen=false \"\n",
    "                           \"intra_op_parallelism_threads=12\")\n",
    "\n",
    "sim = sapien.Engine()\n",
    "renderer = sapien.OptifuserRenderer()\n",
    "sim.set_renderer(renderer)\n",
    "render_controller = sapien.OptifuserController(renderer)"
   ],
   "metadata": {
    "collapsed": false,
    "pycharm": {
     "name": "#%%\n"
    }
   }
  },
  {
   "cell_type": "code",
   "execution_count": 2,
   "outputs": [],
   "source": [
    "DEBUG = False\n",
    "\n",
    "\n",
    "def create_scene(timestep, visual):\n",
    "    s = sim.create_scene()\n",
    "    s.add_ground(-1)\n",
    "    s.set_timestep(timestep)\n",
    "\n",
    "    loader = s.create_urdf_loader()\n",
    "    loader.fix_root_link = False\n",
    "    if visual:\n",
    "        loader.collision_is_visual = True\n",
    "        s.set_ambient_light([0.5, 0.5, 0.5])\n",
    "        s.set_shadow_light([0, 1, -1], [0.5, 0.5, 0.5])\n",
    "\n",
    "    # build\n",
    "    robot = loader.load(\"../assets/Humanoid/humanoid.urdf\")\n",
    "\n",
    "    robot.set_root_pose(Pose([0,0,-0.7]))\n",
    "\n",
    "    for joint in robot.get_joints():\n",
    "        joint.set_drive_property(stiffness=0, damping=10)\n",
    "\n",
    "    return s, robot\n",
    "\n",
    "\n",
    "# renderer_timestep = 1 / 60\n",
    "optim_timestep = 1 / 500\n",
    "sim_timestep = 1 / 60\n",
    "render_steps = int(sim_timestep / optim_timestep) + 1\n",
    "s0, robot = create_scene(optim_timestep, True)\n",
    "\n",
    "render_controller.set_camera_position(-5, 0, 0)\n",
    "render_controller.set_current_scene(s0)\n",
    "render_controller.show_window()"
   ],
   "metadata": {
    "collapsed": false,
    "pycharm": {
     "name": "#%%\n"
    }
   }
  },
  {
   "cell_type": "code",
   "execution_count": 3,
   "outputs": [
    {
     "ename": "TypeError",
     "evalue": "set_qf(): incompatible function arguments. The following argument types are supported:\n    1. (self: sapien.core.pysapien.ArticulationBase, qf: numpy.ndarray[float32]) -> None\n\nInvoked with: <sapien.core.pysapien.Articulation object at 0x7f8718021630>, DeviceArray([-123.38324 ,  142.83313 ,  -63.891647,   47.163223,\n              -30.839325,   32.430603,  179.74063 ,  -51.49945 ,\n              193.77869 ,  103.16217 ,  -77.5741  , -136.06192 ,\n              140.39963 ,  -19.282684,   48.98123 ,   22.568207,\n             -166.49881 , -124.77914 , -108.85042 ,   77.34802 ,\n              -55.14804 ], dtype=float32)",
     "output_type": "error",
     "traceback": [
      "\u001B[0;31m---------------------------------------------------------------------------\u001B[0m",
      "\u001B[0;31mTypeError\u001B[0m                                 Traceback (most recent call last)",
      "\u001B[0;32m<ipython-input-3-9c283a801b71>\u001B[0m in \u001B[0;36m<module>\u001B[0;34m\u001B[0m\n\u001B[1;32m      5\u001B[0m     \u001B[0mu\u001B[0m \u001B[0;34m=\u001B[0m \u001B[0monp\u001B[0m\u001B[0;34m.\u001B[0m\u001B[0mrandom\u001B[0m\u001B[0;34m.\u001B[0m\u001B[0mrandom\u001B[0m\u001B[0;34m(\u001B[0m\u001B[0mrobot\u001B[0m\u001B[0;34m.\u001B[0m\u001B[0mdof\u001B[0m\u001B[0;34m)\u001B[0m \u001B[0;34m*\u001B[0m \u001B[0mfactor\u001B[0m \u001B[0;34m*\u001B[0m \u001B[0;36m2\u001B[0m \u001B[0;34m-\u001B[0m \u001B[0mfactor\u001B[0m\u001B[0;34m\u001B[0m\u001B[0;34m\u001B[0m\u001B[0m\n\u001B[1;32m      6\u001B[0m     \u001B[0mu\u001B[0m \u001B[0;34m=\u001B[0m \u001B[0mnp\u001B[0m\u001B[0;34m.\u001B[0m\u001B[0mclip\u001B[0m\u001B[0;34m(\u001B[0m\u001B[0mu\u001B[0m\u001B[0;34m,\u001B[0m \u001B[0mu_range\u001B[0m\u001B[0;34m[\u001B[0m\u001B[0;36m0\u001B[0m\u001B[0;34m]\u001B[0m\u001B[0;34m,\u001B[0m \u001B[0mu_range\u001B[0m\u001B[0;34m[\u001B[0m\u001B[0;36m1\u001B[0m\u001B[0;34m]\u001B[0m\u001B[0;34m)\u001B[0m\u001B[0;34m\u001B[0m\u001B[0;34m\u001B[0m\u001B[0m\n\u001B[0;32m----> 7\u001B[0;31m     \u001B[0mrobot\u001B[0m\u001B[0;34m.\u001B[0m\u001B[0mset_qf\u001B[0m\u001B[0;34m(\u001B[0m\u001B[0mu\u001B[0m\u001B[0;34m)\u001B[0m\u001B[0;34m\u001B[0m\u001B[0;34m\u001B[0m\u001B[0m\n\u001B[0m\u001B[1;32m      8\u001B[0m     \u001B[0;32mfor\u001B[0m \u001B[0m_\u001B[0m \u001B[0;32min\u001B[0m \u001B[0mrange\u001B[0m\u001B[0;34m(\u001B[0m\u001B[0mrender_steps\u001B[0m\u001B[0;34m)\u001B[0m\u001B[0;34m:\u001B[0m\u001B[0;34m\u001B[0m\u001B[0;34m\u001B[0m\u001B[0m\n\u001B[1;32m      9\u001B[0m         \u001B[0ms0\u001B[0m\u001B[0;34m.\u001B[0m\u001B[0mstep\u001B[0m\u001B[0;34m(\u001B[0m\u001B[0;34m)\u001B[0m\u001B[0;34m\u001B[0m\u001B[0;34m\u001B[0m\u001B[0m\n",
      "\u001B[0;31mTypeError\u001B[0m: set_qf(): incompatible function arguments. The following argument types are supported:\n    1. (self: sapien.core.pysapien.ArticulationBase, qf: numpy.ndarray[float32]) -> None\n\nInvoked with: <sapien.core.pysapien.Articulation object at 0x7f8718021630>, DeviceArray([-123.38324 ,  142.83313 ,  -63.891647,   47.163223,\n              -30.839325,   32.430603,  179.74063 ,  -51.49945 ,\n              193.77869 ,  103.16217 ,  -77.5741  , -136.06192 ,\n              140.39963 ,  -19.282684,   48.98123 ,   22.568207,\n             -166.49881 , -124.77914 , -108.85042 ,   77.34802 ,\n              -55.14804 ], dtype=float32)"
     ]
    }
   ],
   "source": [
    "factor = np.array([200] * robot.dof)\n",
    "u_range = np.array([-factor, factor])\n",
    "render_controller.focus(robot.get_links()[0])\n",
    "while not render_controller.should_quit:\n",
    "    u = onp.random.random(robot.dof) * factor * 2 - factor\n",
    "    u = np.clip(u, u_range[0], u_range[1])\n",
    "    robot.set_qf(u)\n",
    "    for _ in range(render_steps):\n",
    "        s0.step()\n",
    "    s0.update_render()\n",
    "    render_controller.render()"
   ],
   "metadata": {
    "collapsed": false,
    "pycharm": {
     "name": "#%%\n"
    }
   }
  },
  {
   "cell_type": "code",
   "execution_count": null,
   "outputs": [],
   "source": [],
   "metadata": {
    "collapsed": false,
    "pycharm": {
     "name": "#%%\n"
    }
   }
  },
  {
   "cell_type": "code",
   "execution_count": null,
   "outputs": [],
   "source": [
    "robot.get_root_pose()\n",
    "\n",
    "\n"
   ],
   "metadata": {
    "collapsed": false,
    "pycharm": {
     "name": "#%%\n"
    }
   }
  },
  {
   "cell_type": "code",
   "execution_count": null,
   "outputs": [],
   "source": [
    "\n"
   ],
   "metadata": {
    "collapsed": false,
    "pycharm": {
     "name": "#%%\n"
    }
   }
  }
 ],
 "metadata": {
  "kernelspec": {
   "display_name": "Python 3",
   "language": "python",
   "name": "python3"
  },
  "language_info": {
   "codemirror_mode": {
    "name": "ipython",
    "version": 2
   },
   "file_extension": ".py",
   "mimetype": "text/x-python",
   "name": "python",
   "nbconvert_exporter": "python",
   "pygments_lexer": "ipython2",
   "version": "2.7.6"
  }
 },
 "nbformat": 4,
 "nbformat_minor": 0
}