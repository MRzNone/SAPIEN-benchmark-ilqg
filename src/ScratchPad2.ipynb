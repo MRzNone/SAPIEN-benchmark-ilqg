{
 "cells": [
  {
   "cell_type": "code",
   "execution_count": 1,
   "outputs": [
    {
     "name": "stdout",
     "output_type": "stream",
     "text": [
      "Using default glsl path /home/zack/anaconda3/envs/ml/lib/python3.7/site-packages/sapien/glsl_shader/130\n"
     ]
    }
   ],
   "source": [
    "import sys\n",
    "from datetime import datetime\n",
    "\n",
    "import sapien.core as sapien\n",
    "from sapien.core import Pose\n",
    "from Tools import misc, ForwardKinematics, ModelSim, NumForwardDynamicsDer, MathForwardDynamics, DerivativeFactory, \\\n",
    "    DerivativeWorker\n",
    "import numpy as onp\n",
    "import jax.numpy as np\n",
    "from jax import jit, jacfwd, jacrev, grad\n",
    "from ilq import ILQG_Human\n",
    "import timeit\n",
    "import os\n",
    "import matplotlib.pyplot as plt\n",
    "\n",
    "os.environ[\"XLA_PYTHON_CLIENT_MEM_FRACTION\"] = \"0.4\"\n",
    "os.environ[\"XLA_FLAGS\"] = (\"--xla_cpu_multi_thread_eigen=false \"\n",
    "                           \"intra_op_parallelism_threads=12\")\n",
    "\n",
    "sim = sapien.Engine()\n",
    "renderer = sapien.OptifuserRenderer()\n",
    "sim.set_renderer(renderer)\n",
    "render_controller = sapien.OptifuserController(renderer)"
   ],
   "metadata": {
    "collapsed": false,
    "pycharm": {
     "name": "#%%\n"
    }
   }
  },
  {
   "cell_type": "code",
   "execution_count": 2,
   "outputs": [],
   "source": [
    "DEBUG = False\n",
    "\n",
    "\n",
    "def create_scene(timestep, visual):\n",
    "    s = sim.create_scene()\n",
    "    s.add_ground(-1)\n",
    "    s.set_timestep(timestep)\n",
    "\n",
    "    loader = s.create_urdf_loader()\n",
    "    loader.fix_root_link = False\n",
    "    if visual:\n",
    "        loader.collision_is_visual = True\n",
    "        s.set_ambient_light([0.5, 0.5, 0.5])\n",
    "        s.set_shadow_light([0, 1, -1], [0.5, 0.5, 0.5])\n",
    "\n",
    "    # build\n",
    "    robot = loader.load(\"../assets/Humanoid/humanoid.urdf\")\n",
    "    robot.set_pose(Pose([0, 0, -0.7], [0, 0.7071068, 0, 0.7071068]))\n",
    "    robot.set_qpos(onp.array([-0.07463598, 0.71799153, 0.00224937, 0.24503642, -0.69970787, -0.07047031,\n",
    "                              0.02011428, -0.2995666,  -0.07851388,  0.37046608,  1.0063629,   0.7287718,\n",
    "                              -0.8464428,  -0.6261912,  -0.61831105,  1.5032201,   1.2024844,   1.2001486,\n",
    "                              -1.5865482,   0.00861856, -0.13306628]))\n",
    "\n",
    "    for joint in robot.get_joints():\n",
    "        joint.set_drive_property(stiffness=0, damping=10)\n",
    "\n",
    "    for _ in range(int(1 / timestep) * 4):\n",
    "        s.step()\n",
    "\n",
    "    return s, robot\n",
    "\n",
    "\n",
    "# renderer_timestep = 1 / 60\n",
    "optim_timestep = 1 / 100\n",
    "sim_timestep = 1 / 30\n",
    "render_steps = int(sim_timestep / optim_timestep) + 1\n",
    "s0, robot = create_scene(optim_timestep, True)\n",
    "\n",
    "render_controller.set_camera_position(0, -5, 0)\n",
    "render_controller.set_current_scene(s0)\n",
    "\n",
    "state = misc.get_state(robot)\n",
    "num_x = len(state)\n",
    "num_u = robot.dof"
   ],
   "metadata": {
    "collapsed": false,
    "pycharm": {
     "name": "#%%\n"
    }
   }
  },
  {
   "cell_type": "code",
   "execution_count": 3,
   "outputs": [
    {
     "name": "stdout",
     "output_type": "stream",
     "text": [
      "[ 0.48666376  0.79409945  0.02513883  0.70838255 -0.5492408   0.89989704\n",
      " -3.0685534   0.09497914  0.24372202  0.56275046 -6.1733613  -0.07287689\n",
      " -0.21311814 -2.1692207   2.8448288   3.9054487  -4.7923527  -0.89456135\n",
      "  1.1735348   0.70226294  0.16475289]\n"
     ]
    }
   ],
   "source": [
    "render_controller.show_window()\n",
    "render_controller.focus(robot.get_links()[0])\n",
    "while not render_controller.should_quit:\n",
    "    s0.step()\n",
    "    s0.update_render()\n",
    "    render_controller.render()\n",
    "\n",
    "print(robot.get_qpos())"
   ],
   "metadata": {
    "collapsed": false,
    "pycharm": {
     "name": "#%%\n"
    }
   }
  },
  {
   "cell_type": "code",
   "execution_count": 3,
   "outputs": [],
   "source": [],
   "metadata": {
    "collapsed": false,
    "pycharm": {
     "name": "#%%"
    }
   }
  }
 ],
 "metadata": {
  "kernelspec": {
   "display_name": "Python 3",
   "language": "python",
   "name": "python3"
  },
  "language_info": {
   "codemirror_mode": {
    "name": "ipython",
    "version": 2
   },
   "file_extension": ".py",
   "mimetype": "text/x-python",
   "name": "python",
   "nbconvert_exporter": "python",
   "pygments_lexer": "ipython2",
   "version": "2.7.6"
  }
 },
 "nbformat": 4,
 "nbformat_minor": 0
}