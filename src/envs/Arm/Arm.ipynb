{
 "cells": [
  {
   "cell_type": "code",
   "execution_count": null,
   "outputs": [],
   "source": [
    "import sapien.core as sapien\n",
    "from Tools import misc, ForwardKinematics, ModelSim, NumForwardDynamicsDer, MathForwardDynamicsDer\n",
    "import numpy as onp\n",
    "import jax.numpy as np\n",
    "from jax import jit, jacfwd, jacrev, grad\n",
    "from ilqr import ILQR\n",
    "from datetime import datetime\n",
    "from tqdm import trange\n",
    "# from tqdm.notebook import trange\n",
    "import matplotlib.pyplot as plt\n",
    "\n",
    "sim = sapien.Engine()\n",
    "renderer = sapien.OptifuserRenderer()\n",
    "sim.set_renderer(renderer)\n",
    "render_controller = sapien.OptifuserController(renderer)"
   ],
   "metadata": {
    "collapsed": false,
    "pycharm": {
     "name": "#%%\n"
    }
   }
  },
  {
   "cell_type": "code",
   "execution_count": null,
   "outputs": [],
   "source": [
    "DEBUG = True\n",
    "\n",
    "stabled = False\n",
    "\n",
    "\n",
    "def create_scene(timestep, visual):\n",
    "    s = sim.create_scene([0, 0, 0])\n",
    "    s.add_ground(-1)\n",
    "    s.set_timestep(timestep)\n",
    "\n",
    "    loader = s.create_urdf_loader()\n",
    "    loader.fix_root_link = True\n",
    "    if visual:\n",
    "        loader.collision_is_visual = True\n",
    "        s.set_ambient_light([0.5, 0.5, 0.5])\n",
    "        s.set_shadow_light([0, 1, -1], [0.5, 0.5, 0.5])\n",
    "\n",
    "    # build\n",
    "    robot = loader.load(\"../../../assets/Arm/panda.urdf\")\n",
    "\n",
    "    for joint in robot.get_joints():\n",
    "        joint.set_drive_property(stiffness=0, damping=50)\n",
    "    robot.set_qpos(np.array([0, 1.7, 0, -1.5, 0, 2.5, 0.7, 0.4, 0.4]))\n",
    "\n",
    "    return s, robot\n",
    "\n",
    "\n",
    "# renderer_timestep = 1 / 60\n",
    "optim_timestep = 1 / 500\n",
    "sim_timestep = 1 / 60\n",
    "s0, robot = create_scene(sim_timestep, True)\n",
    "\n",
    "render_controller.set_camera_position(-5, 0, 0)\n",
    "render_controller.set_current_scene(s0)"
   ],
   "metadata": {
    "collapsed": false,
    "pycharm": {
     "name": "#%%\n"
    }
   }
  },
  {
   "cell_type": "code",
   "execution_count": null,
   "outputs": [],
   "source": [
    "# factor = np.array([150, 150, 150, 100, 300, 300, 300, 10, 10])\n",
    "# u_range = np.array([-factor, factor])\n",
    "# render_controller.show_window()\n",
    "# while not render_controller.should_quit:\n",
    "#     u = onp.random.random(robot.dof) * factor * 2 - factor\n",
    "#     u = np.clip(u, u_range[0], u_range[1])\n",
    "#     robot.set_qf(u)\n",
    "#     s0.step()\n",
    "#     s0.update_render()\n",
    "#     render_controller.render()"
   ],
   "metadata": {
    "collapsed": false,
    "pycharm": {
     "name": "#%%\n"
    }
   }
  },
  {
   "cell_type": "code",
   "execution_count": null,
   "outputs": [],
   "source": [
    "deri = MathForwardDynamicsDer(robot, optim_timestep, False, False, False)\n",
    "# deri = NumForwardDynamicsDer(robot, sim_timestep)\n",
    "fk = ForwardKinematics(robot)\n",
    "sim_worker = ModelSim(create_scene, optim_timestep)\n"
   ],
   "metadata": {
    "collapsed": false,
    "pycharm": {
     "name": "#%%\n"
    }
   }
  },
  {
   "cell_type": "code",
   "execution_count": null,
   "outputs": [],
   "source": [
    "def smooth_abs(x, alpha):\n",
    "    return np.mean((alpha ** 2) * (np.cosh(x / alpha) - 1))\n",
    "\n",
    "\n",
    "robo_pose = robot.get_root_pose()\n",
    "\n",
    "dof = robot.dof\n",
    "factor = np.array([150, 150, 150, 100, 300, 300, 300, 10, 10])\n",
    "u_range = np.array([-factor, factor])\n",
    "\n",
    "pred_time = 0.5\n",
    "horizon = int(pred_time / optim_timestep) + 1\n",
    "per_iter = 2\n",
    "\n",
    "\n",
    "@jit\n",
    "def final_cost(x, alpha1=0.3, alpha2=0.5):\n",
    "    # add base pose\n",
    "    qpos = x[:dof]\n",
    "    qvel = x[dof:]\n",
    "    pos = np.concatenate((qpos, robo_pose.p, robo_pose.q))\n",
    "\n",
    "    cart_pos = fk.fk(pos).reshape(-1, 3)[:, :3]\n",
    "    end_effector_pos = cart_pos[-3]\n",
    "\n",
    "    target_pos = robo_pose.p + [0, 0, 1.2]\n",
    "    term1 = smooth_abs(end_effector_pos[2] - target_pos[2], alpha1)\n",
    "\n",
    "    term2 = smooth_abs(qvel/50, alpha2)\n",
    "\n",
    "    return term1 * 5 + term2\n",
    "\n",
    "\n",
    "@jit\n",
    "def running_cost(x, u, alpha=0.3):\n",
    "    term1 = smooth_abs(u / factor, alpha) / horizon * 5\n",
    "    return term1\n"
   ],
   "metadata": {
    "collapsed": false,
    "pycharm": {
     "name": "#%%\n"
    }
   }
  },
  {
   "cell_type": "code",
   "execution_count": null,
   "outputs": [],
   "source": [
    "ilqr = ILQR(final_cost, running_cost, None, u_range, horizon, per_iter, deri, sim_worker, DEBUG)"
   ],
   "metadata": {
    "collapsed": false,
    "pycharm": {
     "name": "#%%\n"
    }
   }
  },
  {
   "cell_type": "code",
   "execution_count": null,
   "outputs": [],
   "source": [
    "state = misc.get_state(robot)\n",
    "num_x = len(state)\n",
    "num_u = robot.dof\n",
    "\n",
    "# prep seq\n",
    "x_seq = []\n",
    "u_seq = []\n",
    "pack_seq = []\n",
    "\n",
    "bak_pack = robot.pack()\n",
    "\n",
    "for i in range(horizon):\n",
    "    u = onp.random.random(robot.dof) * factor * 2 - factor\n",
    "    # u = np.clip(u, u_range[0], u_range[1])\n",
    "\n",
    "    x = misc.get_state(robot)\n",
    "    pack = robot.pack()\n",
    "\n",
    "    x_seq.append(x)\n",
    "    pack_seq.append(pack)\n",
    "    u_seq.append(u)\n",
    "\n",
    "    robot.set_qf(u)\n",
    "    s0.step()\n",
    "robot.unpack(bak_pack)"
   ],
   "metadata": {
    "collapsed": false,
    "pycharm": {
     "name": "#%%\n"
    }
   }
  },
  {
   "cell_type": "code",
   "execution_count": null,
   "outputs": [],
   "source": [
    "# records\n",
    "ctrl_record = []\n",
    "x_record = []\n",
    "u_record = []\n",
    "run_cost_record = []\n",
    "f_cost_record = []\n",
    "ini_state = [bak_pack]\n",
    "\n",
    "# plots\n",
    "IF_PLOT = True\n",
    "\n",
    "if IF_PLOT:\n",
    "    fig, axs = plt.subplots(3, figsize=(12, 9))\n",
    "\n",
    "    total = []\n",
    "    f_ax, r_ax, t_ax = axs\n",
    "    PLOT_LEN = 30\n",
    "\n",
    "    plt.ion()\n",
    "\n",
    "    fig.show()\n",
    "    fig.canvas.draw()\n",
    "\n",
    "render_controller.show_window()\n",
    "for i in trange(2000):\n",
    "    x_seq, u_seq, pack_seq = ilqr.predict(x_seq, u_seq, pack_seq)\n",
    "\n",
    "    u = u_seq[0]\n",
    "    print(u)\n",
    "\n",
    "    robot.set_qf(u + robot.compute_passive_force())\n",
    "    s0.step()\n",
    "    s0.update_render()\n",
    "    render_controller.render()\n",
    "\n",
    "    new_x = misc.get_state(robot)\n",
    "    new_pack = robot.pack()\n",
    "\n",
    "    f_cost = final_cost(x_seq[-1])\n",
    "    run_cost = onp.sum([running_cost(x, u) for x, u in zip(x_seq[:-1], u_seq[:-1])])\n",
    "    cost = f_cost + run_cost\n",
    "\n",
    "    # if f_cost < 0.01:\n",
    "    #     for u in u_seq[1:]:\n",
    "    #         robot.set_qf(u)\n",
    "    #         s0.step()\n",
    "    #         s0.update_render()\n",
    "    #     break\n",
    "\n",
    "    # record\n",
    "    #     print(u)\n",
    "    ctrl_record.append(u)\n",
    "    f_cost_record.append(f_cost)\n",
    "    run_cost_record.append(run_cost)\n",
    "    x_record.append(x_seq)\n",
    "    u_record.append(u_seq)\n",
    "\n",
    "    # update x and u, since we need to record old x u\n",
    "    x_seq[0] = new_x\n",
    "    pack_seq[0] = new_pack\n",
    "\n",
    "    # plot\n",
    "    if IF_PLOT:\n",
    "        total.append(cost)\n",
    "        f_ax.clear()\n",
    "        r_ax.clear()\n",
    "        t_ax.clear()\n",
    "\n",
    "        y_lim = np.max(total[-PLOT_LEN:]) * 1.2\n",
    "        f_ax.set_ylim(0, y_lim)\n",
    "        r_ax.set_ylim(0, y_lim)\n",
    "        t_ax.set_ylim(0, y_lim)\n",
    "\n",
    "        x_lim = max(0, i - PLOT_LEN)\n",
    "        f_ax.set_xlim(x_lim, i)\n",
    "        r_ax.set_xlim(x_lim, i)\n",
    "        t_ax.set_xlim(x_lim, i)\n",
    "\n",
    "        f_ax.plot(f_cost_record)\n",
    "        f_ax.set_title(\"Final\")\n",
    "        r_ax.plot(run_cost_record)\n",
    "        r_ax.set_title(\"Running\")\n",
    "\n",
    "        t_ax.plot(total, label=\"Total\")\n",
    "        t_ax.plot(f_cost_record, label=\"Final\")\n",
    "        t_ax.plot(run_cost_record, label=\"Running\")\n",
    "        t_ax.legend()\n",
    "        t_ax.set_title(\"Total\")\n",
    "\n",
    "        fig.canvas.draw()\n",
    "        fig.show()"
   ],
   "metadata": {
    "collapsed": false,
    "pycharm": {
     "name": "#%%\n"
    }
   }
  },
  {
   "cell_type": "code",
   "execution_count": null,
   "outputs": [],
   "source": [
    "records = {\n",
    "    'ctrl_record': ctrl_record,\n",
    "    'x_record': x_record,\n",
    "    'u_record': u_record,\n",
    "    'run_cost_record': run_cost_record,\n",
    "    'f_cost_record': f_cost_record,\n",
    "    'ini_state': ini_state,\n",
    "}\n",
    "\n",
    "np.save('records' + str(datetime.utcnow()), records)"
   ],
   "metadata": {
    "collapsed": false,
    "pycharm": {
     "name": "#%%\n"
    }
   }
  }
 ],
 "metadata": {
  "kernelspec": {
   "display_name": "Python 3.7.6 64-bit ('ml': conda)",
   "language": "python",
   "name": "python37664bitmlconda2e170bd122e545f6bb518a813f3b75e9"
  },
  "language_info": {
   "codemirror_mode": {
    "name": "ipython",
    "version": 3
   },
   "file_extension": ".py",
   "mimetype": "text/x-python",
   "name": "python",
   "nbconvert_exporter": "python",
   "pygments_lexer": "ipython3",
   "version": "3.7.6"
  }
 },
 "nbformat": 4,
 "nbformat_minor": 1
}