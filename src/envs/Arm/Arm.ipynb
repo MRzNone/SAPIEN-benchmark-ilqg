{
 "cells": [
  {
   "cell_type": "code",
   "execution_count": null,
   "metadata": {
    "pycharm": {
     "name": "#%%\n"
    }
   },
   "outputs": [],
   "source": [
    "import sapien.core as sapien\n",
    "from Tools import misc, ForwardKinematics, SimWorker, NumForwardDynamicsDer\n",
    "import numpy as onp\n",
    "import jax.numpy as np\n",
    "from jax import jit, jacfwd, jacrev, grad\n",
    "from ilqr import ILQR\n",
    "from datetime import datetime\n",
    "from tqdm.notebook import trange\n",
    "import matplotlib.pyplot as plt\n",
    "%matplotlib notebook"
   ]
  },
  {
   "cell_type": "code",
   "execution_count": null,
   "metadata": {
    "pycharm": {
     "name": "#%%\n"
    }
   },
   "outputs": [],
   "source": [
    "DEBUG = False\n",
    "\n",
    "sim = sapien.Engine()\n",
    "renderer = sapien.OptifuserRenderer()\n",
    "sim.set_renderer(renderer)\n",
    "render_controller = sapien.OptifuserController(renderer)\n",
    "\n",
    "stabled = False\n",
    "\n",
    "\n",
    "def create_scene(timestep, visual):\n",
    "    s = sim.create_scene([0, 0, 0])\n",
    "    s.add_ground(-1)\n",
    "    s.set_timestep(timestep)\n",
    "\n",
    "    loader = s.create_urdf_loader()\n",
    "    loader.fix_root_link = True\n",
    "    if visual:\n",
    "        loader.collision_is_visual = True\n",
    "        s.set_ambient_light([0.5, 0.5, 0.5])\n",
    "        s.set_shadow_light([0, 1, -1], [0.5, 0.5, 0.5])\n",
    "\n",
    "    # build\n",
    "    robot = loader.load(\"../../../assets/Arm/panda.urdf\")\n",
    "\n",
    "    return s, robot\n",
    "\n",
    "\n",
    "sim_timestep = 1 / 60\n",
    "optim_timestep = 1 / 60\n",
    "s0, robot = create_scene(sim_timestep, True)\n",
    "\n",
    "render_controller.set_camera_position(-5, 0, 0)\n",
    "render_controller.set_current_scene(s0)\n",
    "\n",
    "if not stabled:\n",
    "    for _ in range(3000):\n",
    "        s0.step()\n",
    "    stabled = True"
   ]
  },
  {
   "cell_type": "code",
   "execution_count": null,
   "metadata": {
    "pycharm": {
     "name": "#%%\n"
    }
   },
   "outputs": [],
   "source": [
    "num_deri = NumForwardDynamicsDer(robot, sim_timestep)\n",
    "fk = ForwardKinematics(robot)\n",
    "sim_worker = SimWorker(robot, create_scene, optim_timestep, DEBUG)"
   ]
  },
  {
   "cell_type": "code",
   "execution_count": null,
   "metadata": {
    "pycharm": {
     "name": "#%%\n"
    }
   },
   "outputs": [],
   "source": [
    "# render_controller.show_window()\n",
    "# while True:\n",
    "#     u = onp.random.randn(robot.dof) * 0.5\n",
    "#     u = onp.clip(u, -1, 1)\n",
    "#     robot.set_qf(u)\n",
    "#     s0.step()\n",
    "#     s0.update_render()\n",
    "#     render_controller.render()\n",
    "\n",
    "u_range = np.array([[-10] * robot.dof, [10] * robot.dof])\n",
    "pred_time = 1.3\n",
    "horizon = int(pred_time / optim_timestep) + 1\n",
    "per_iter = 3\n",
    "\n",
    "\n",
    "def smooth_abs(x, alpha):\n",
    "    return np.mean((alpha ** 2) * (np.cosh(x / alpha) - 1))\n",
    "\n",
    "\n",
    "robo_pose = robot.get_root_pose()\n",
    "\n",
    "\n",
    "@jit\n",
    "def final_cost(x, alpha=0.3):\n",
    "    # add base pose\n",
    "    x = np.concatenate((x, robo_pose.p, robo_pose.q))\n",
    "\n",
    "    cart_pos = fk.fk(x).reshape(-1, 3)[:, :3]\n",
    "    end_effector_pos = cart_pos[-3]\n",
    "\n",
    "    target_height = x[-1] + 1.2\n",
    "\n",
    "#     term1 = smooth_abs(target_height - end_effector_pos[2], alpha)\n",
    "    term1 = np.abd(target_height - end_effector_pos[2])\n",
    "\n",
    "    return term1 * 10\n",
    "\n",
    "limits = robot.get_qlimits().reshape(2, -1)\n",
    "limits_sum = np.abs((limits[1] - limits[0]))/2\n",
    "limits_mid = np.mean(limits, axis=0)\n",
    "\n",
    "@jit\n",
    "def running_cost(x, u, alpha=0.5):\n",
    "    term1 = np.sum(smooth_abs(u / 5, alpha)) / horizon * 2\n",
    "    \n",
    "    dist2limit = np.abs(x - limits_mid) / limits_sum\n",
    "    # term2 = np.sum(smooth_abs(dist2limit / limits_sum, alpha))\n",
    "    term2 = smooth_abs(dist2limit, 1) / horizon\n",
    "    \n",
    "    return term1 + term2"
   ]
  },
  {
   "cell_type": "code",
   "execution_count": null,
   "metadata": {
    "pycharm": {
     "name": "#%%\n"
    }
   },
   "outputs": [],
   "source": [
    "\n",
    "ilqr = ILQR(final_cost, running_cost, None, u_range, horizon, per_iter, num_deri, sim_worker, DEBUG)"
   ]
  },
  {
   "cell_type": "code",
   "execution_count": null,
   "metadata": {
    "pycharm": {
     "name": "#%%\n"
    }
   },
   "outputs": [],
   "source": [
    "state = misc.get_state(robot)\n",
    "num_x = len(state)\n",
    "num_u = robot.dof\n",
    "dof = robot.dof\n",
    "\n",
    "# prep seq\n",
    "x_seq = []\n",
    "u_seq = []\n",
    "pack_seq = []\n",
    "\n",
    "bak_pack = robot.pack()\n",
    "\n",
    "for i in range(horizon):\n",
    "    u = onp.random.randn(robot.dof) * 0.5\n",
    "    u = onp.clip(u, -1, 1)\n",
    "\n",
    "    x = misc.get_state(robot)\n",
    "    pack = robot.pack()\n",
    "\n",
    "    x_seq.append(x)\n",
    "    pack_seq.append(pack)\n",
    "    u_seq.append(u)\n",
    "\n",
    "    robot.set_qf(u)\n",
    "    s0.step()\n",
    "robot.unpack(bak_pack)"
   ]
  },
  {
   "cell_type": "code",
   "execution_count": null,
   "metadata": {
    "pycharm": {
     "name": "#%%\n"
    }
   },
   "outputs": [],
   "source": [
    "# records\n",
    "ctrl_record = []\n",
    "x_record = []\n",
    "u_record = []\n",
    "run_cost_record = []\n",
    "f_cost_record = []\n",
    "\n",
    "# plots\n",
    "fig, axs = plt.subplots(3,figsize=(15,9))\n",
    "plt.ion()\n",
    "\n",
    "fig.show()\n",
    "fig.canvas.draw()\n",
    "\n",
    "total = []\n",
    "f_ax, r_ax, t_ax = axs\n",
    "PLOT_LEN = 100\n",
    "\n",
    "render_controller.show_window()\n",
    "for i in trange(1000):\n",
    "    x_seq, u_seq, pack_seq = ilqr.predict(x_seq, u_seq, pack_seq)\n",
    "\n",
    "    u = u_seq[0]\n",
    "\n",
    "    robot.set_qf(u)\n",
    "    s0.step()\n",
    "    s0.update_render()\n",
    "    render_controller.render()\n",
    "\n",
    "    new_x = misc.get_state(robot)\n",
    "    new_pack = robot.pack()\n",
    "\n",
    "    x_seq[0] = new_x\n",
    "    pack_seq[0] = new_pack\n",
    "    \n",
    "    #record\n",
    "    f_cost = final_cost(x_seq[-1])\n",
    "    run_cost = onp.sum([running_cost(x, u) for x, u in zip(x_seq[:-1], u_seq[:-1])])\n",
    "    cost = f_cost + run_cost\n",
    "    \n",
    "    ctrl_record.append(u)\n",
    "    x_record.append(x_seq)\n",
    "    u_record.append(u_seq)\n",
    "    run_cost_record.append(run_cost)\n",
    "    f_cost_record.append(f_cost)\n",
    "\n",
    "    # plot\n",
    "    f_ax.clear()\n",
    "    r_ax.clear()\n",
    "    t_ax.clear()\n",
    "\n",
    "    total.append(cost)\n",
    "\n",
    "    y_lim = np.max(total[-PLOT_LEN:])\n",
    "    f_ax.set_ylim(0, y_lim)\n",
    "    r_ax.set_ylim(0, y_lim)\n",
    "    f_ax.set_ylim(0, y_lim)\n",
    "\n",
    "    x_lim = max(0, i - PLOT_LEN)\n",
    "    f_ax.set_xlim(x_lim, i)\n",
    "    r_ax.set_xlim(x_lim, i)\n",
    "    t_ax.set_xlim(x_lim, i)\n",
    "\n",
    "\n",
    "    f_ax.plot(f_cost_record)\n",
    "    r_ax.plot(run_cost_record)\n",
    "    t_ax.plot(total)\n",
    "\n",
    "\n",
    "    fig.canvas.draw()\n",
    "    fig.show()\n"
   ]
  },
  {
   "cell_type": "code",
   "execution_count": null,
   "metadata": {},
   "outputs": [],
   "source": [
    "record = {\n",
    "    'ctrl_record': ctrl_record,\n",
    "    'x_record': x_record,\n",
    "    'u_record': u_record,\n",
    "    'run_cost_record': run_cost_record,\n",
    "    'f_cost_record': f_cost_record\n",
    "}\n",
    "\n",
    "np.save(\"record\" + str(datetime.utcnow()), record)"
   ]
  },
  {
   "cell_type": "code",
   "execution_count": null,
   "metadata": {},
   "outputs": [],
   "source": []
  }
 ],
 "metadata": {
  "kernelspec": {
   "display_name": "Python 3.7.6 64-bit ('ml': conda)",
   "language": "python",
   "name": "python37664bitmlconda2e170bd122e545f6bb518a813f3b75e9"
  },
  "language_info": {
   "codemirror_mode": {
    "name": "ipython",
    "version": 3
   },
   "file_extension": ".py",
   "mimetype": "text/x-python",
   "name": "python",
   "nbconvert_exporter": "python",
   "pygments_lexer": "ipython3",
   "version": "3.7.6"
  }
 },
 "nbformat": 4,
 "nbformat_minor": 1
}
