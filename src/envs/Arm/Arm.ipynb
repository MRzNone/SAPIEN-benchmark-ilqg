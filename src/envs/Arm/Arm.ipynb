{
 "cells": [
  {
   "cell_type": "code",
   "execution_count": null,
   "metadata": {
    "collapsed": true,
    "pycharm": {
     "is_executing": true
    }
   },
   "outputs": [],
   "source": [
    "import sapien.core as sapien\n",
    "from Tools import DerivativeFactory, misc, ForwardKinematics, SimWorker\n",
    "import numpy as onp\n",
    "import jax.numpy as np\n",
    "import jax\n",
    "from jax import jit, jacfwd, jacrev, grad\n",
    "from ilqr import ILQR\n",
    "from tqdm.notebook import trange\n",
    "\n",
    "# from jax.config import config\n",
    "# config.update(\"jax_debug_nans\", True)"
   ]
  },
  {
   "cell_type": "code",
   "execution_count": null,
   "outputs": [],
   "source": [
    "sim = sapien.Engine()\n",
    "renderer = sapien.OptifuserRenderer()\n",
    "sim.set_renderer(renderer)\n",
    "render_controller = sapien.OptifuserController(renderer)\n",
    "\n",
    "stabled = False\n",
    "\n",
    "def create_scene(timestep, visual):\n",
    "    s = sim.create_scene([0,0,0])\n",
    "    s.add_ground(-1)\n",
    "    s.set_timestep(timestep)\n",
    "\n",
    "    loader = s.create_urdf_loader()\n",
    "    loader.fix_root_link = True\n",
    "    if visual:\n",
    "        loader.collision_is_visual = True\n",
    "        s.set_ambient_light([0.5, 0.5, 0.5])\n",
    "        s.set_shadow_light([0, 1, -1], [0.5, 0.5, 0.5])\n",
    "\n",
    "    # build\n",
    "    robot = loader.load(\"../../../assets/Arm/panda.urdf\")\n",
    "\n",
    "    return s, robot\n",
    "\n",
    "sim_timestep = 1/60\n",
    "optim_timestep = 1/60\n",
    "s0, robot = create_scene(sim_timestep, True)\n",
    "\n",
    "render_controller.set_camera_position(-5, 0, 0)\n",
    "render_controller.set_current_scene(s0)"
   ],
   "metadata": {
    "collapsed": false,
    "pycharm": {
     "name": "#%%\n"
    }
   }
  },
  {
   "cell_type": "code",
   "execution_count": null,
   "outputs": [],
   "source": [
    "if not stabled:\n",
    "    for _ in range(3000):\n",
    "        s0.step()\n",
    "    stabled = True\n"
   ],
   "metadata": {
    "collapsed": false,
    "pycharm": {
     "name": "#%%\n"
    }
   }
  },
  {
   "cell_type": "code",
   "execution_count": null,
   "outputs": [],
   "source": [
    "state = misc.get_state(robot)\n",
    "num_x = len(state)\n",
    "num_u = robot.dof\n",
    "dof = robot.dof\n",
    "\n",
    "num_deri = DerivativeFactory(num_x, num_u, dof, create_scene, 6, optim_timestep, True)\n",
    "fk = ForwardKinematics(robot)\n",
    "sim_worker = SimWorker(robot, create_scene, optim_timestep,True)"
   ],
   "metadata": {
    "collapsed": false,
    "pycharm": {
     "name": "#%%\n"
    }
   }
  },
  {
   "cell_type": "code",
   "execution_count": null,
   "outputs": [],
   "source": [
    "def smooth_abs(x, alpha):\n",
    "    return np.sum((alpha ** 2) * (np.cosh(x / alpha) - 1))\n",
    "\n",
    "@jit\n",
    "def final_cost(x, alpha=0.3):\n",
    "    cart_pos = fk.fk(x).reshape(-1, 3)[:, :3]\n",
    "    end_effector_pos = cart_pos[-3]\n",
    "\n",
    "    target_height = x[-1] + 1\n",
    "\n",
    "    term1 = smooth_abs((target_height - end_effector_pos[2]) * 2, alpha)\n",
    "\n",
    "    return term1 * 10\n",
    "\n",
    "@jit\n",
    "def running_cost(x, u, alpha=0.3):\n",
    "    return np.sum(smooth_abs(u/300, alpha))\n"
   ],
   "metadata": {
    "collapsed": false,
    "pycharm": {
     "name": "#%%\n"
    }
   }
  },
  {
   "cell_type": "code",
   "execution_count": null,
   "outputs": [],
   "source": [
    "u_range = np.array([[-100] * robot.dof, [100] * robot.dof])\n",
    "pred_time = 5\n",
    "horizon = int(pred_time / optim_timestep) + 1\n",
    "per_iter = 3\n",
    "\n",
    "ilqr = ILQR(final_cost, running_cost, None, u_range, horizon, per_iter, num_deri, sim_worker, True)"
   ],
   "metadata": {
    "collapsed": false,
    "pycharm": {
     "name": "#%%\n"
    }
   }
  },
  {
   "cell_type": "code",
   "execution_count": null,
   "outputs": [],
   "source": [
    "#prep seq\n",
    "x_seq = []\n",
    "u_seq = list(np.ones((horizon, dof)))\n",
    "pack_seq = []\n",
    "\n",
    "bak_pack = robot.pack()\n",
    "\n",
    "for i in range(horizon):\n",
    "    x = misc.get_state(robot)\n",
    "    pack = robot.pack()\n",
    "\n",
    "    x_seq.append(x)\n",
    "    pack_seq.append(pack)\n",
    "\n",
    "    u = u_seq[i]\n",
    "    robot.set_qf(u)\n",
    "    s0.step()\n",
    "robot.unpack(bak_pack)"
   ],
   "metadata": {
    "collapsed": false,
    "pycharm": {
     "name": "#%%\n"
    }
   }
  },
  {
   "cell_type": "code",
   "execution_count": null,
   "outputs": [],
   "source": [
    "ctrl = []\n",
    "\n",
    "render_controller.show_window()\n",
    "for i in trange(1000):\n",
    "   x_seq, u_seq, pack_seq = ilqr.predict(x_seq, u_seq, pack_seq)\n",
    "\n",
    "   u = u_seq[0]\n",
    "   ctrl.append(u)\n",
    "   print(u)\n",
    "\n",
    "   robot.set_qf(u)\n",
    "   s0.step()\n",
    "   s0.update_render()\n",
    "   render_controller.render()\n",
    "\n",
    "   new_x = misc.get_state(robot)\n",
    "   new_pack = robot.pack()\n",
    "\n",
    "   x_seq[0] = new_x\n",
    "   pack_seq[0] = new_pack\n",
    "\n",
    "np.save('ctrl', ctrl)"
   ],
   "metadata": {
    "collapsed": false,
    "pycharm": {
     "name": "#%%\n",
     "is_executing": true
    }
   }
  },
  {
   "cell_type": "code",
   "execution_count": null,
   "outputs": [],
   "source": [
    "for u in ctrl:\n",
    "   robot.set_qf(u)\n",
    "   s0.step()\n",
    "   s0.update_render()\n",
    "\n",
    "   render_controller.render()\n"
   ],
   "metadata": {
    "collapsed": false,
    "pycharm": {
     "name": "#%%\n"
    }
   }
  }
 ],
 "metadata": {
  "kernelspec": {
   "name": "python37664bitmlconda2e170bd122e545f6bb518a813f3b75e9",
   "language": "python",
   "display_name": "Python 3.7.6 64-bit ('ml': conda)"
  },
  "language_info": {
   "codemirror_mode": {
    "name": "ipython",
    "version": 2
   },
   "file_extension": ".py",
   "mimetype": "text/x-python",
   "name": "python",
   "nbconvert_exporter": "python",
   "pygments_lexer": "ipython2",
   "version": "2.7.6"
  }
 },
 "nbformat": 4,
 "nbformat_minor": 0
}