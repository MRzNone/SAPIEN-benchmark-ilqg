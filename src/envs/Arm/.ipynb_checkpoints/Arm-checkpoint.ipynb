{
 "cells": [
  {
   "cell_type": "code",
   "execution_count": 1,
   "metadata": {
    "pycharm": {
     "name": "#%%\n"
    }
   },
   "outputs": [
    {
     "name": "stdout",
     "output_type": "stream",
     "text": [
      "Using default glsl path /home/zack/anaconda3/envs/ml/lib/python3.7/site-packages/sapien/glsl_shader/130\n",
      "env: XLA_PYTHON_CLIENT_MEM_FRACTION=.40\n"
     ]
    }
   ],
   "source": [
    "import sapien.core as sapien\n",
    "from Tools import misc, ForwardKinematics, ModelSim, NumForwardDynamicsDer\n",
    "import numpy as onp\n",
    "import jax.numpy as np\n",
    "from jax import jit, jacfwd, jacrev, grad\n",
    "from ilqr import ILQR\n",
    "from datetime import datetime\n",
    "from tqdm.notebook import trange\n",
    "import matplotlib.pyplot as plt\n",
    "\n",
    "%matplotlib notebook\n",
    "%env XLA_PYTHON_CLIENT_MEM_FRACTION=.40\n",
    "\n",
    "\n",
    "sim = sapien.Engine()\n",
    "renderer = sapien.OptifuserRenderer()\n",
    "sim.set_renderer(renderer)\n",
    "render_controller = sapien.OptifuserController(renderer)"
   ]
  },
  {
   "cell_type": "code",
   "execution_count": 2,
   "metadata": {
    "pycharm": {
     "name": "#%%\n"
    }
   },
   "outputs": [],
   "source": [
    "DEBUG = False\n",
    "\n",
    "stabled = False\n",
    "\n",
    "\n",
    "def create_scene(timestep, visual):\n",
    "    s = sim.create_scene([0, 0, 0])\n",
    "    s.add_ground(-1)\n",
    "    s.set_timestep(timestep)\n",
    "\n",
    "    loader = s.create_urdf_loader()\n",
    "    loader.fix_root_link = True\n",
    "    if visual:\n",
    "        loader.collision_is_visual = True\n",
    "        s.set_ambient_light([0.5, 0.5, 0.5])\n",
    "        s.set_shadow_light([0, 1, -1], [0.5, 0.5, 0.5])\n",
    "\n",
    "    # build\n",
    "    robot = loader.load(\"../../../assets/Arm/panda.urdf\")\n",
    "\n",
    "    for joint in robot.get_joints():\n",
    "        joint.set_drive_property(stiffness=0, damping=0.5)\n",
    "    robot.set_qpos(np.array([0, 1.7, 0, -1.5, 0, 2.5, 0.7, 0.4, 0.4]))\n",
    "\n",
    "    return s, robot\n",
    "\n",
    "\n",
    "sim_timestep = 1 / 60\n",
    "optim_timestep = 1 / 60\n",
    "s0, robot = create_scene(sim_timestep, True)\n",
    "\n",
    "render_controller.set_camera_position(-5, 0, 0)\n",
    "render_controller.set_current_scene(s0)\n"
   ]
  },
  {
   "cell_type": "code",
   "execution_count": 3,
   "metadata": {
    "pycharm": {
     "name": "#%%\n"
    }
   },
   "outputs": [],
   "source": [
    "num_deri = NumForwardDynamicsDer(robot, sim_timestep)\n",
    "fk = ForwardKinematics(robot)\n",
    "sim_worker = ModelSim(create_scene, optim_timestep)"
   ]
  },
  {
   "cell_type": "code",
   "execution_count": 4,
   "metadata": {
    "pycharm": {
     "name": "#%%\n"
    }
   },
   "outputs": [],
   "source": [
    "# render_controller.show_window()\n",
    "# while True:\n",
    "#     u = onp.random.randn(robot.dof) * 0.5\n",
    "#     u = onp.clip(u, -1, 1)\n",
    "#     robot.set_qf(u)\n",
    "#     s0.step()\n",
    "#     s0.update_render()\n",
    "#     render_controller.render()\n",
    "\n",
    "\n",
    "def smooth_abs(x, alpha):\n",
    "    return np.mean((alpha ** 2) * (np.cosh(x / alpha) - 1))\n",
    "\n",
    "\n",
    "robo_pose = robot.get_root_pose()\n",
    "\n",
    "u_range = robot.get_qlimits().T * 3\n",
    "pred_time = 2\n",
    "horizon = int(pred_time / optim_timestep) + 1\n",
    "per_iter = 2\n",
    "\n",
    "@jit\n",
    "def final_cost(x, alpha=0.3):\n",
    "    # add base pose\n",
    "    x = np.concatenate((x, robo_pose.p, robo_pose.q))\n",
    "\n",
    "    cart_pos = fk.fk(x).reshape(-1, 3)[:, :3]\n",
    "    end_effector_pos = cart_pos[-3]\n",
    "\n",
    "    target_pos = robo_pose.p + [0, 0, 1.2]\n",
    "    term1 = smooth_abs(end_effector_pos[2] - target_pos[2], alpha)\n",
    "\n",
    "    return term1\n",
    "\n",
    "@jit\n",
    "def running_cost(x, u, alpha=0.5):\n",
    "    eps = 1e-9\n",
    "    u_normalized = np.where(u>=0, u/(u_range[1]+eps), u/(u_range[0] + eps))\n",
    "    term1 = smooth_abs(u_normalized, alpha) / horizon\n",
    "    return term1"
   ]
  },
  {
   "cell_type": "code",
   "execution_count": 5,
   "metadata": {
    "pycharm": {
     "name": "#%%\n"
    }
   },
   "outputs": [],
   "source": [
    "ilqr = ILQR(final_cost, running_cost, None, u_range, horizon, per_iter, num_deri, sim_worker, DEBUG)"
   ]
  },
  {
   "cell_type": "code",
   "execution_count": 6,
   "metadata": {
    "pycharm": {
     "name": "#%%\n"
    }
   },
   "outputs": [],
   "source": [
    "state = misc.get_state(robot)\n",
    "num_x = len(state)\n",
    "num_u = robot.dof\n",
    "dof = robot.dof\n",
    "\n",
    "# prep seq\n",
    "x_seq = []\n",
    "u_seq = []\n",
    "pack_seq = []\n",
    "\n",
    "bak_pack = robot.pack()\n",
    "\n",
    "for i in range(horizon):\n",
    "    u = onp.random.randn(robot.dof) * 3\n",
    "    u = onp.clip(u, u_range[0], u_range[1])\n",
    "\n",
    "    x = misc.get_state(robot)\n",
    "    pack = robot.pack()\n",
    "\n",
    "    x_seq.append(x)\n",
    "    pack_seq.append(pack)\n",
    "    u_seq.append(u)\n",
    "\n",
    "    robot.set_qf(u)\n",
    "    s0.step()\n",
    "robot.unpack(bak_pack)"
   ]
  },
  {
   "cell_type": "code",
   "execution_count": 7,
   "metadata": {
    "pycharm": {
     "name": "#%%\n"
    },
    "scrolled": false
   },
   "outputs": [
    {
     "data": {
      "application/javascript": [
       "/* Put everything inside the global mpl namespace */\n",
       "window.mpl = {};\n",
       "\n",
       "\n",
       "mpl.get_websocket_type = function() {\n",
       "    if (typeof(WebSocket) !== 'undefined') {\n",
       "        return WebSocket;\n",
       "    } else if (typeof(MozWebSocket) !== 'undefined') {\n",
       "        return MozWebSocket;\n",
       "    } else {\n",
       "        alert('Your browser does not have WebSocket support. ' +\n",
       "              'Please try Chrome, Safari or Firefox ≥ 6. ' +\n",
       "              'Firefox 4 and 5 are also supported but you ' +\n",
       "              'have to enable WebSockets in about:config.');\n",
       "    };\n",
       "}\n",
       "\n",
       "mpl.figure = function(figure_id, websocket, ondownload, parent_element) {\n",
       "    this.id = figure_id;\n",
       "\n",
       "    this.ws = websocket;\n",
       "\n",
       "    this.supports_binary = (this.ws.binaryType != undefined);\n",
       "\n",
       "    if (!this.supports_binary) {\n",
       "        var warnings = document.getElementById(\"mpl-warnings\");\n",
       "        if (warnings) {\n",
       "            warnings.style.display = 'block';\n",
       "            warnings.textContent = (\n",
       "                \"This browser does not support binary websocket messages. \" +\n",
       "                    \"Performance may be slow.\");\n",
       "        }\n",
       "    }\n",
       "\n",
       "    this.imageObj = new Image();\n",
       "\n",
       "    this.context = undefined;\n",
       "    this.message = undefined;\n",
       "    this.canvas = undefined;\n",
       "    this.rubberband_canvas = undefined;\n",
       "    this.rubberband_context = undefined;\n",
       "    this.format_dropdown = undefined;\n",
       "\n",
       "    this.image_mode = 'full';\n",
       "\n",
       "    this.root = $('<div/>');\n",
       "    this._root_extra_style(this.root)\n",
       "    this.root.attr('style', 'display: inline-block');\n",
       "\n",
       "    $(parent_element).append(this.root);\n",
       "\n",
       "    this._init_header(this);\n",
       "    this._init_canvas(this);\n",
       "    this._init_toolbar(this);\n",
       "\n",
       "    var fig = this;\n",
       "\n",
       "    this.waiting = false;\n",
       "\n",
       "    this.ws.onopen =  function () {\n",
       "            fig.send_message(\"supports_binary\", {value: fig.supports_binary});\n",
       "            fig.send_message(\"send_image_mode\", {});\n",
       "            if (mpl.ratio != 1) {\n",
       "                fig.send_message(\"set_dpi_ratio\", {'dpi_ratio': mpl.ratio});\n",
       "            }\n",
       "            fig.send_message(\"refresh\", {});\n",
       "        }\n",
       "\n",
       "    this.imageObj.onload = function() {\n",
       "            if (fig.image_mode == 'full') {\n",
       "                // Full images could contain transparency (where diff images\n",
       "                // almost always do), so we need to clear the canvas so that\n",
       "                // there is no ghosting.\n",
       "                fig.context.clearRect(0, 0, fig.canvas.width, fig.canvas.height);\n",
       "            }\n",
       "            fig.context.drawImage(fig.imageObj, 0, 0);\n",
       "        };\n",
       "\n",
       "    this.imageObj.onunload = function() {\n",
       "        fig.ws.close();\n",
       "    }\n",
       "\n",
       "    this.ws.onmessage = this._make_on_message_function(this);\n",
       "\n",
       "    this.ondownload = ondownload;\n",
       "}\n",
       "\n",
       "mpl.figure.prototype._init_header = function() {\n",
       "    var titlebar = $(\n",
       "        '<div class=\"ui-dialog-titlebar ui-widget-header ui-corner-all ' +\n",
       "        'ui-helper-clearfix\"/>');\n",
       "    var titletext = $(\n",
       "        '<div class=\"ui-dialog-title\" style=\"width: 100%; ' +\n",
       "        'text-align: center; padding: 3px;\"/>');\n",
       "    titlebar.append(titletext)\n",
       "    this.root.append(titlebar);\n",
       "    this.header = titletext[0];\n",
       "}\n",
       "\n",
       "\n",
       "\n",
       "mpl.figure.prototype._canvas_extra_style = function(canvas_div) {\n",
       "\n",
       "}\n",
       "\n",
       "\n",
       "mpl.figure.prototype._root_extra_style = function(canvas_div) {\n",
       "\n",
       "}\n",
       "\n",
       "mpl.figure.prototype._init_canvas = function() {\n",
       "    var fig = this;\n",
       "\n",
       "    var canvas_div = $('<div/>');\n",
       "\n",
       "    canvas_div.attr('style', 'position: relative; clear: both; outline: 0');\n",
       "\n",
       "    function canvas_keyboard_event(event) {\n",
       "        return fig.key_event(event, event['data']);\n",
       "    }\n",
       "\n",
       "    canvas_div.keydown('key_press', canvas_keyboard_event);\n",
       "    canvas_div.keyup('key_release', canvas_keyboard_event);\n",
       "    this.canvas_div = canvas_div\n",
       "    this._canvas_extra_style(canvas_div)\n",
       "    this.root.append(canvas_div);\n",
       "\n",
       "    var canvas = $('<canvas/>');\n",
       "    canvas.addClass('mpl-canvas');\n",
       "    canvas.attr('style', \"left: 0; top: 0; z-index: 0; outline: 0\")\n",
       "\n",
       "    this.canvas = canvas[0];\n",
       "    this.context = canvas[0].getContext(\"2d\");\n",
       "\n",
       "    var backingStore = this.context.backingStorePixelRatio ||\n",
       "\tthis.context.webkitBackingStorePixelRatio ||\n",
       "\tthis.context.mozBackingStorePixelRatio ||\n",
       "\tthis.context.msBackingStorePixelRatio ||\n",
       "\tthis.context.oBackingStorePixelRatio ||\n",
       "\tthis.context.backingStorePixelRatio || 1;\n",
       "\n",
       "    mpl.ratio = (window.devicePixelRatio || 1) / backingStore;\n",
       "\n",
       "    var rubberband = $('<canvas/>');\n",
       "    rubberband.attr('style', \"position: absolute; left: 0; top: 0; z-index: 1;\")\n",
       "\n",
       "    var pass_mouse_events = true;\n",
       "\n",
       "    canvas_div.resizable({\n",
       "        start: function(event, ui) {\n",
       "            pass_mouse_events = false;\n",
       "        },\n",
       "        resize: function(event, ui) {\n",
       "            fig.request_resize(ui.size.width, ui.size.height);\n",
       "        },\n",
       "        stop: function(event, ui) {\n",
       "            pass_mouse_events = true;\n",
       "            fig.request_resize(ui.size.width, ui.size.height);\n",
       "        },\n",
       "    });\n",
       "\n",
       "    function mouse_event_fn(event) {\n",
       "        if (pass_mouse_events)\n",
       "            return fig.mouse_event(event, event['data']);\n",
       "    }\n",
       "\n",
       "    rubberband.mousedown('button_press', mouse_event_fn);\n",
       "    rubberband.mouseup('button_release', mouse_event_fn);\n",
       "    // Throttle sequential mouse events to 1 every 20ms.\n",
       "    rubberband.mousemove('motion_notify', mouse_event_fn);\n",
       "\n",
       "    rubberband.mouseenter('figure_enter', mouse_event_fn);\n",
       "    rubberband.mouseleave('figure_leave', mouse_event_fn);\n",
       "\n",
       "    canvas_div.on(\"wheel\", function (event) {\n",
       "        event = event.originalEvent;\n",
       "        event['data'] = 'scroll'\n",
       "        if (event.deltaY < 0) {\n",
       "            event.step = 1;\n",
       "        } else {\n",
       "            event.step = -1;\n",
       "        }\n",
       "        mouse_event_fn(event);\n",
       "    });\n",
       "\n",
       "    canvas_div.append(canvas);\n",
       "    canvas_div.append(rubberband);\n",
       "\n",
       "    this.rubberband = rubberband;\n",
       "    this.rubberband_canvas = rubberband[0];\n",
       "    this.rubberband_context = rubberband[0].getContext(\"2d\");\n",
       "    this.rubberband_context.strokeStyle = \"#000000\";\n",
       "\n",
       "    this._resize_canvas = function(width, height) {\n",
       "        // Keep the size of the canvas, canvas container, and rubber band\n",
       "        // canvas in synch.\n",
       "        canvas_div.css('width', width)\n",
       "        canvas_div.css('height', height)\n",
       "\n",
       "        canvas.attr('width', width * mpl.ratio);\n",
       "        canvas.attr('height', height * mpl.ratio);\n",
       "        canvas.attr('style', 'width: ' + width + 'px; height: ' + height + 'px;');\n",
       "\n",
       "        rubberband.attr('width', width);\n",
       "        rubberband.attr('height', height);\n",
       "    }\n",
       "\n",
       "    // Set the figure to an initial 600x600px, this will subsequently be updated\n",
       "    // upon first draw.\n",
       "    this._resize_canvas(600, 600);\n",
       "\n",
       "    // Disable right mouse context menu.\n",
       "    $(this.rubberband_canvas).bind(\"contextmenu\",function(e){\n",
       "        return false;\n",
       "    });\n",
       "\n",
       "    function set_focus () {\n",
       "        canvas.focus();\n",
       "        canvas_div.focus();\n",
       "    }\n",
       "\n",
       "    window.setTimeout(set_focus, 100);\n",
       "}\n",
       "\n",
       "mpl.figure.prototype._init_toolbar = function() {\n",
       "    var fig = this;\n",
       "\n",
       "    var nav_element = $('<div/>');\n",
       "    nav_element.attr('style', 'width: 100%');\n",
       "    this.root.append(nav_element);\n",
       "\n",
       "    // Define a callback function for later on.\n",
       "    function toolbar_event(event) {\n",
       "        return fig.toolbar_button_onclick(event['data']);\n",
       "    }\n",
       "    function toolbar_mouse_event(event) {\n",
       "        return fig.toolbar_button_onmouseover(event['data']);\n",
       "    }\n",
       "\n",
       "    for(var toolbar_ind in mpl.toolbar_items) {\n",
       "        var name = mpl.toolbar_items[toolbar_ind][0];\n",
       "        var tooltip = mpl.toolbar_items[toolbar_ind][1];\n",
       "        var image = mpl.toolbar_items[toolbar_ind][2];\n",
       "        var method_name = mpl.toolbar_items[toolbar_ind][3];\n",
       "\n",
       "        if (!name) {\n",
       "            // put a spacer in here.\n",
       "            continue;\n",
       "        }\n",
       "        var button = $('<button/>');\n",
       "        button.addClass('ui-button ui-widget ui-state-default ui-corner-all ' +\n",
       "                        'ui-button-icon-only');\n",
       "        button.attr('role', 'button');\n",
       "        button.attr('aria-disabled', 'false');\n",
       "        button.click(method_name, toolbar_event);\n",
       "        button.mouseover(tooltip, toolbar_mouse_event);\n",
       "\n",
       "        var icon_img = $('<span/>');\n",
       "        icon_img.addClass('ui-button-icon-primary ui-icon');\n",
       "        icon_img.addClass(image);\n",
       "        icon_img.addClass('ui-corner-all');\n",
       "\n",
       "        var tooltip_span = $('<span/>');\n",
       "        tooltip_span.addClass('ui-button-text');\n",
       "        tooltip_span.html(tooltip);\n",
       "\n",
       "        button.append(icon_img);\n",
       "        button.append(tooltip_span);\n",
       "\n",
       "        nav_element.append(button);\n",
       "    }\n",
       "\n",
       "    var fmt_picker_span = $('<span/>');\n",
       "\n",
       "    var fmt_picker = $('<select/>');\n",
       "    fmt_picker.addClass('mpl-toolbar-option ui-widget ui-widget-content');\n",
       "    fmt_picker_span.append(fmt_picker);\n",
       "    nav_element.append(fmt_picker_span);\n",
       "    this.format_dropdown = fmt_picker[0];\n",
       "\n",
       "    for (var ind in mpl.extensions) {\n",
       "        var fmt = mpl.extensions[ind];\n",
       "        var option = $(\n",
       "            '<option/>', {selected: fmt === mpl.default_extension}).html(fmt);\n",
       "        fmt_picker.append(option);\n",
       "    }\n",
       "\n",
       "    // Add hover states to the ui-buttons\n",
       "    $( \".ui-button\" ).hover(\n",
       "        function() { $(this).addClass(\"ui-state-hover\");},\n",
       "        function() { $(this).removeClass(\"ui-state-hover\");}\n",
       "    );\n",
       "\n",
       "    var status_bar = $('<span class=\"mpl-message\"/>');\n",
       "    nav_element.append(status_bar);\n",
       "    this.message = status_bar[0];\n",
       "}\n",
       "\n",
       "mpl.figure.prototype.request_resize = function(x_pixels, y_pixels) {\n",
       "    // Request matplotlib to resize the figure. Matplotlib will then trigger a resize in the client,\n",
       "    // which will in turn request a refresh of the image.\n",
       "    this.send_message('resize', {'width': x_pixels, 'height': y_pixels});\n",
       "}\n",
       "\n",
       "mpl.figure.prototype.send_message = function(type, properties) {\n",
       "    properties['type'] = type;\n",
       "    properties['figure_id'] = this.id;\n",
       "    this.ws.send(JSON.stringify(properties));\n",
       "}\n",
       "\n",
       "mpl.figure.prototype.send_draw_message = function() {\n",
       "    if (!this.waiting) {\n",
       "        this.waiting = true;\n",
       "        this.ws.send(JSON.stringify({type: \"draw\", figure_id: this.id}));\n",
       "    }\n",
       "}\n",
       "\n",
       "\n",
       "mpl.figure.prototype.handle_save = function(fig, msg) {\n",
       "    var format_dropdown = fig.format_dropdown;\n",
       "    var format = format_dropdown.options[format_dropdown.selectedIndex].value;\n",
       "    fig.ondownload(fig, format);\n",
       "}\n",
       "\n",
       "\n",
       "mpl.figure.prototype.handle_resize = function(fig, msg) {\n",
       "    var size = msg['size'];\n",
       "    if (size[0] != fig.canvas.width || size[1] != fig.canvas.height) {\n",
       "        fig._resize_canvas(size[0], size[1]);\n",
       "        fig.send_message(\"refresh\", {});\n",
       "    };\n",
       "}\n",
       "\n",
       "mpl.figure.prototype.handle_rubberband = function(fig, msg) {\n",
       "    var x0 = msg['x0'] / mpl.ratio;\n",
       "    var y0 = (fig.canvas.height - msg['y0']) / mpl.ratio;\n",
       "    var x1 = msg['x1'] / mpl.ratio;\n",
       "    var y1 = (fig.canvas.height - msg['y1']) / mpl.ratio;\n",
       "    x0 = Math.floor(x0) + 0.5;\n",
       "    y0 = Math.floor(y0) + 0.5;\n",
       "    x1 = Math.floor(x1) + 0.5;\n",
       "    y1 = Math.floor(y1) + 0.5;\n",
       "    var min_x = Math.min(x0, x1);\n",
       "    var min_y = Math.min(y0, y1);\n",
       "    var width = Math.abs(x1 - x0);\n",
       "    var height = Math.abs(y1 - y0);\n",
       "\n",
       "    fig.rubberband_context.clearRect(\n",
       "        0, 0, fig.canvas.width / mpl.ratio, fig.canvas.height / mpl.ratio);\n",
       "\n",
       "    fig.rubberband_context.strokeRect(min_x, min_y, width, height);\n",
       "}\n",
       "\n",
       "mpl.figure.prototype.handle_figure_label = function(fig, msg) {\n",
       "    // Updates the figure title.\n",
       "    fig.header.textContent = msg['label'];\n",
       "}\n",
       "\n",
       "mpl.figure.prototype.handle_cursor = function(fig, msg) {\n",
       "    var cursor = msg['cursor'];\n",
       "    switch(cursor)\n",
       "    {\n",
       "    case 0:\n",
       "        cursor = 'pointer';\n",
       "        break;\n",
       "    case 1:\n",
       "        cursor = 'default';\n",
       "        break;\n",
       "    case 2:\n",
       "        cursor = 'crosshair';\n",
       "        break;\n",
       "    case 3:\n",
       "        cursor = 'move';\n",
       "        break;\n",
       "    }\n",
       "    fig.rubberband_canvas.style.cursor = cursor;\n",
       "}\n",
       "\n",
       "mpl.figure.prototype.handle_message = function(fig, msg) {\n",
       "    fig.message.textContent = msg['message'];\n",
       "}\n",
       "\n",
       "mpl.figure.prototype.handle_draw = function(fig, msg) {\n",
       "    // Request the server to send over a new figure.\n",
       "    fig.send_draw_message();\n",
       "}\n",
       "\n",
       "mpl.figure.prototype.handle_image_mode = function(fig, msg) {\n",
       "    fig.image_mode = msg['mode'];\n",
       "}\n",
       "\n",
       "mpl.figure.prototype.updated_canvas_event = function() {\n",
       "    // Called whenever the canvas gets updated.\n",
       "    this.send_message(\"ack\", {});\n",
       "}\n",
       "\n",
       "// A function to construct a web socket function for onmessage handling.\n",
       "// Called in the figure constructor.\n",
       "mpl.figure.prototype._make_on_message_function = function(fig) {\n",
       "    return function socket_on_message(evt) {\n",
       "        if (evt.data instanceof Blob) {\n",
       "            /* FIXME: We get \"Resource interpreted as Image but\n",
       "             * transferred with MIME type text/plain:\" errors on\n",
       "             * Chrome.  But how to set the MIME type?  It doesn't seem\n",
       "             * to be part of the websocket stream */\n",
       "            evt.data.type = \"image/png\";\n",
       "\n",
       "            /* Free the memory for the previous frames */\n",
       "            if (fig.imageObj.src) {\n",
       "                (window.URL || window.webkitURL).revokeObjectURL(\n",
       "                    fig.imageObj.src);\n",
       "            }\n",
       "\n",
       "            fig.imageObj.src = (window.URL || window.webkitURL).createObjectURL(\n",
       "                evt.data);\n",
       "            fig.updated_canvas_event();\n",
       "            fig.waiting = false;\n",
       "            return;\n",
       "        }\n",
       "        else if (typeof evt.data === 'string' && evt.data.slice(0, 21) == \"data:image/png;base64\") {\n",
       "            fig.imageObj.src = evt.data;\n",
       "            fig.updated_canvas_event();\n",
       "            fig.waiting = false;\n",
       "            return;\n",
       "        }\n",
       "\n",
       "        var msg = JSON.parse(evt.data);\n",
       "        var msg_type = msg['type'];\n",
       "\n",
       "        // Call the  \"handle_{type}\" callback, which takes\n",
       "        // the figure and JSON message as its only arguments.\n",
       "        try {\n",
       "            var callback = fig[\"handle_\" + msg_type];\n",
       "        } catch (e) {\n",
       "            console.log(\"No handler for the '\" + msg_type + \"' message type: \", msg);\n",
       "            return;\n",
       "        }\n",
       "\n",
       "        if (callback) {\n",
       "            try {\n",
       "                // console.log(\"Handling '\" + msg_type + \"' message: \", msg);\n",
       "                callback(fig, msg);\n",
       "            } catch (e) {\n",
       "                console.log(\"Exception inside the 'handler_\" + msg_type + \"' callback:\", e, e.stack, msg);\n",
       "            }\n",
       "        }\n",
       "    };\n",
       "}\n",
       "\n",
       "// from http://stackoverflow.com/questions/1114465/getting-mouse-location-in-canvas\n",
       "mpl.findpos = function(e) {\n",
       "    //this section is from http://www.quirksmode.org/js/events_properties.html\n",
       "    var targ;\n",
       "    if (!e)\n",
       "        e = window.event;\n",
       "    if (e.target)\n",
       "        targ = e.target;\n",
       "    else if (e.srcElement)\n",
       "        targ = e.srcElement;\n",
       "    if (targ.nodeType == 3) // defeat Safari bug\n",
       "        targ = targ.parentNode;\n",
       "\n",
       "    // jQuery normalizes the pageX and pageY\n",
       "    // pageX,Y are the mouse positions relative to the document\n",
       "    // offset() returns the position of the element relative to the document\n",
       "    var x = e.pageX - $(targ).offset().left;\n",
       "    var y = e.pageY - $(targ).offset().top;\n",
       "\n",
       "    return {\"x\": x, \"y\": y};\n",
       "};\n",
       "\n",
       "/*\n",
       " * return a copy of an object with only non-object keys\n",
       " * we need this to avoid circular references\n",
       " * http://stackoverflow.com/a/24161582/3208463\n",
       " */\n",
       "function simpleKeys (original) {\n",
       "  return Object.keys(original).reduce(function (obj, key) {\n",
       "    if (typeof original[key] !== 'object')\n",
       "        obj[key] = original[key]\n",
       "    return obj;\n",
       "  }, {});\n",
       "}\n",
       "\n",
       "mpl.figure.prototype.mouse_event = function(event, name) {\n",
       "    var canvas_pos = mpl.findpos(event)\n",
       "\n",
       "    if (name === 'button_press')\n",
       "    {\n",
       "        this.canvas.focus();\n",
       "        this.canvas_div.focus();\n",
       "    }\n",
       "\n",
       "    var x = canvas_pos.x * mpl.ratio;\n",
       "    var y = canvas_pos.y * mpl.ratio;\n",
       "\n",
       "    this.send_message(name, {x: x, y: y, button: event.button,\n",
       "                             step: event.step,\n",
       "                             guiEvent: simpleKeys(event)});\n",
       "\n",
       "    /* This prevents the web browser from automatically changing to\n",
       "     * the text insertion cursor when the button is pressed.  We want\n",
       "     * to control all of the cursor setting manually through the\n",
       "     * 'cursor' event from matplotlib */\n",
       "    event.preventDefault();\n",
       "    return false;\n",
       "}\n",
       "\n",
       "mpl.figure.prototype._key_event_extra = function(event, name) {\n",
       "    // Handle any extra behaviour associated with a key event\n",
       "}\n",
       "\n",
       "mpl.figure.prototype.key_event = function(event, name) {\n",
       "\n",
       "    // Prevent repeat events\n",
       "    if (name == 'key_press')\n",
       "    {\n",
       "        if (event.which === this._key)\n",
       "            return;\n",
       "        else\n",
       "            this._key = event.which;\n",
       "    }\n",
       "    if (name == 'key_release')\n",
       "        this._key = null;\n",
       "\n",
       "    var value = '';\n",
       "    if (event.ctrlKey && event.which != 17)\n",
       "        value += \"ctrl+\";\n",
       "    if (event.altKey && event.which != 18)\n",
       "        value += \"alt+\";\n",
       "    if (event.shiftKey && event.which != 16)\n",
       "        value += \"shift+\";\n",
       "\n",
       "    value += 'k';\n",
       "    value += event.which.toString();\n",
       "\n",
       "    this._key_event_extra(event, name);\n",
       "\n",
       "    this.send_message(name, {key: value,\n",
       "                             guiEvent: simpleKeys(event)});\n",
       "    return false;\n",
       "}\n",
       "\n",
       "mpl.figure.prototype.toolbar_button_onclick = function(name) {\n",
       "    if (name == 'download') {\n",
       "        this.handle_save(this, null);\n",
       "    } else {\n",
       "        this.send_message(\"toolbar_button\", {name: name});\n",
       "    }\n",
       "};\n",
       "\n",
       "mpl.figure.prototype.toolbar_button_onmouseover = function(tooltip) {\n",
       "    this.message.textContent = tooltip;\n",
       "};\n",
       "mpl.toolbar_items = [[\"Home\", \"Reset original view\", \"fa fa-home icon-home\", \"home\"], [\"Back\", \"Back to previous view\", \"fa fa-arrow-left icon-arrow-left\", \"back\"], [\"Forward\", \"Forward to next view\", \"fa fa-arrow-right icon-arrow-right\", \"forward\"], [\"\", \"\", \"\", \"\"], [\"Pan\", \"Pan axes with left mouse, zoom with right\", \"fa fa-arrows icon-move\", \"pan\"], [\"Zoom\", \"Zoom to rectangle\", \"fa fa-square-o icon-check-empty\", \"zoom\"], [\"\", \"\", \"\", \"\"], [\"Download\", \"Download plot\", \"fa fa-floppy-o icon-save\", \"download\"]];\n",
       "\n",
       "mpl.extensions = [\"eps\", \"jpeg\", \"pdf\", \"png\", \"ps\", \"raw\", \"svg\", \"tif\"];\n",
       "\n",
       "mpl.default_extension = \"png\";var comm_websocket_adapter = function(comm) {\n",
       "    // Create a \"websocket\"-like object which calls the given IPython comm\n",
       "    // object with the appropriate methods. Currently this is a non binary\n",
       "    // socket, so there is still some room for performance tuning.\n",
       "    var ws = {};\n",
       "\n",
       "    ws.close = function() {\n",
       "        comm.close()\n",
       "    };\n",
       "    ws.send = function(m) {\n",
       "        //console.log('sending', m);\n",
       "        comm.send(m);\n",
       "    };\n",
       "    // Register the callback with on_msg.\n",
       "    comm.on_msg(function(msg) {\n",
       "        //console.log('receiving', msg['content']['data'], msg);\n",
       "        // Pass the mpl event to the overridden (by mpl) onmessage function.\n",
       "        ws.onmessage(msg['content']['data'])\n",
       "    });\n",
       "    return ws;\n",
       "}\n",
       "\n",
       "mpl.mpl_figure_comm = function(comm, msg) {\n",
       "    // This is the function which gets called when the mpl process\n",
       "    // starts-up an IPython Comm through the \"matplotlib\" channel.\n",
       "\n",
       "    var id = msg.content.data.id;\n",
       "    // Get hold of the div created by the display call when the Comm\n",
       "    // socket was opened in Python.\n",
       "    var element = $(\"#\" + id);\n",
       "    var ws_proxy = comm_websocket_adapter(comm)\n",
       "\n",
       "    function ondownload(figure, format) {\n",
       "        window.open(figure.imageObj.src);\n",
       "    }\n",
       "\n",
       "    var fig = new mpl.figure(id, ws_proxy,\n",
       "                           ondownload,\n",
       "                           element.get(0));\n",
       "\n",
       "    // Call onopen now - mpl needs it, as it is assuming we've passed it a real\n",
       "    // web socket which is closed, not our websocket->open comm proxy.\n",
       "    ws_proxy.onopen();\n",
       "\n",
       "    fig.parent_element = element.get(0);\n",
       "    fig.cell_info = mpl.find_output_cell(\"<div id='\" + id + \"'></div>\");\n",
       "    if (!fig.cell_info) {\n",
       "        console.error(\"Failed to find cell for figure\", id, fig);\n",
       "        return;\n",
       "    }\n",
       "\n",
       "    var output_index = fig.cell_info[2]\n",
       "    var cell = fig.cell_info[0];\n",
       "\n",
       "};\n",
       "\n",
       "mpl.figure.prototype.handle_close = function(fig, msg) {\n",
       "    var width = fig.canvas.width/mpl.ratio\n",
       "    fig.root.unbind('remove')\n",
       "\n",
       "    // Update the output cell to use the data from the current canvas.\n",
       "    fig.push_to_output();\n",
       "    var dataURL = fig.canvas.toDataURL();\n",
       "    // Re-enable the keyboard manager in IPython - without this line, in FF,\n",
       "    // the notebook keyboard shortcuts fail.\n",
       "    IPython.keyboard_manager.enable()\n",
       "    $(fig.parent_element).html('<img src=\"' + dataURL + '\" width=\"' + width + '\">');\n",
       "    fig.close_ws(fig, msg);\n",
       "}\n",
       "\n",
       "mpl.figure.prototype.close_ws = function(fig, msg){\n",
       "    fig.send_message('closing', msg);\n",
       "    // fig.ws.close()\n",
       "}\n",
       "\n",
       "mpl.figure.prototype.push_to_output = function(remove_interactive) {\n",
       "    // Turn the data on the canvas into data in the output cell.\n",
       "    var width = this.canvas.width/mpl.ratio\n",
       "    var dataURL = this.canvas.toDataURL();\n",
       "    this.cell_info[1]['text/html'] = '<img src=\"' + dataURL + '\" width=\"' + width + '\">';\n",
       "}\n",
       "\n",
       "mpl.figure.prototype.updated_canvas_event = function() {\n",
       "    // Tell IPython that the notebook contents must change.\n",
       "    IPython.notebook.set_dirty(true);\n",
       "    this.send_message(\"ack\", {});\n",
       "    var fig = this;\n",
       "    // Wait a second, then push the new image to the DOM so\n",
       "    // that it is saved nicely (might be nice to debounce this).\n",
       "    setTimeout(function () { fig.push_to_output() }, 1000);\n",
       "}\n",
       "\n",
       "mpl.figure.prototype._init_toolbar = function() {\n",
       "    var fig = this;\n",
       "\n",
       "    var nav_element = $('<div/>');\n",
       "    nav_element.attr('style', 'width: 100%');\n",
       "    this.root.append(nav_element);\n",
       "\n",
       "    // Define a callback function for later on.\n",
       "    function toolbar_event(event) {\n",
       "        return fig.toolbar_button_onclick(event['data']);\n",
       "    }\n",
       "    function toolbar_mouse_event(event) {\n",
       "        return fig.toolbar_button_onmouseover(event['data']);\n",
       "    }\n",
       "\n",
       "    for(var toolbar_ind in mpl.toolbar_items){\n",
       "        var name = mpl.toolbar_items[toolbar_ind][0];\n",
       "        var tooltip = mpl.toolbar_items[toolbar_ind][1];\n",
       "        var image = mpl.toolbar_items[toolbar_ind][2];\n",
       "        var method_name = mpl.toolbar_items[toolbar_ind][3];\n",
       "\n",
       "        if (!name) { continue; };\n",
       "\n",
       "        var button = $('<button class=\"btn btn-default\" href=\"#\" title=\"' + name + '\"><i class=\"fa ' + image + ' fa-lg\"></i></button>');\n",
       "        button.click(method_name, toolbar_event);\n",
       "        button.mouseover(tooltip, toolbar_mouse_event);\n",
       "        nav_element.append(button);\n",
       "    }\n",
       "\n",
       "    // Add the status bar.\n",
       "    var status_bar = $('<span class=\"mpl-message\" style=\"text-align:right; float: right;\"/>');\n",
       "    nav_element.append(status_bar);\n",
       "    this.message = status_bar[0];\n",
       "\n",
       "    // Add the close button to the window.\n",
       "    var buttongrp = $('<div class=\"btn-group inline pull-right\"></div>');\n",
       "    var button = $('<button class=\"btn btn-mini btn-primary\" href=\"#\" title=\"Stop Interaction\"><i class=\"fa fa-power-off icon-remove icon-large\"></i></button>');\n",
       "    button.click(function (evt) { fig.handle_close(fig, {}); } );\n",
       "    button.mouseover('Stop Interaction', toolbar_mouse_event);\n",
       "    buttongrp.append(button);\n",
       "    var titlebar = this.root.find($('.ui-dialog-titlebar'));\n",
       "    titlebar.prepend(buttongrp);\n",
       "}\n",
       "\n",
       "mpl.figure.prototype._root_extra_style = function(el){\n",
       "    var fig = this\n",
       "    el.on(\"remove\", function(){\n",
       "\tfig.close_ws(fig, {});\n",
       "    });\n",
       "}\n",
       "\n",
       "mpl.figure.prototype._canvas_extra_style = function(el){\n",
       "    // this is important to make the div 'focusable\n",
       "    el.attr('tabindex', 0)\n",
       "    // reach out to IPython and tell the keyboard manager to turn it's self\n",
       "    // off when our div gets focus\n",
       "\n",
       "    // location in version 3\n",
       "    if (IPython.notebook.keyboard_manager) {\n",
       "        IPython.notebook.keyboard_manager.register_events(el);\n",
       "    }\n",
       "    else {\n",
       "        // location in version 2\n",
       "        IPython.keyboard_manager.register_events(el);\n",
       "    }\n",
       "\n",
       "}\n",
       "\n",
       "mpl.figure.prototype._key_event_extra = function(event, name) {\n",
       "    var manager = IPython.notebook.keyboard_manager;\n",
       "    if (!manager)\n",
       "        manager = IPython.keyboard_manager;\n",
       "\n",
       "    // Check for shift+enter\n",
       "    if (event.shiftKey && event.which == 13) {\n",
       "        this.canvas_div.blur();\n",
       "        // select the cell after this one\n",
       "        var index = IPython.notebook.find_cell_index(this.cell_info[0]);\n",
       "        IPython.notebook.select(index + 1);\n",
       "    }\n",
       "}\n",
       "\n",
       "mpl.figure.prototype.handle_save = function(fig, msg) {\n",
       "    fig.ondownload(fig, null);\n",
       "}\n",
       "\n",
       "\n",
       "mpl.find_output_cell = function(html_output) {\n",
       "    // Return the cell and output element which can be found *uniquely* in the notebook.\n",
       "    // Note - this is a bit hacky, but it is done because the \"notebook_saving.Notebook\"\n",
       "    // IPython event is triggered only after the cells have been serialised, which for\n",
       "    // our purposes (turning an active figure into a static one), is too late.\n",
       "    var cells = IPython.notebook.get_cells();\n",
       "    var ncells = cells.length;\n",
       "    for (var i=0; i<ncells; i++) {\n",
       "        var cell = cells[i];\n",
       "        if (cell.cell_type === 'code'){\n",
       "            for (var j=0; j<cell.output_area.outputs.length; j++) {\n",
       "                var data = cell.output_area.outputs[j];\n",
       "                if (data.data) {\n",
       "                    // IPython >= 3 moved mimebundle to data attribute of output\n",
       "                    data = data.data;\n",
       "                }\n",
       "                if (data['text/html'] == html_output) {\n",
       "                    return [cell, data, j];\n",
       "                }\n",
       "            }\n",
       "        }\n",
       "    }\n",
       "}\n",
       "\n",
       "// Register the function which deals with the matplotlib target/channel.\n",
       "// The kernel may be null if the page has been refreshed.\n",
       "if (IPython.notebook.kernel != null) {\n",
       "    IPython.notebook.kernel.comm_manager.register_target('matplotlib', mpl.mpl_figure_comm);\n",
       "}\n"
      ],
      "text/plain": [
       "<IPython.core.display.Javascript object>"
      ]
     },
     "metadata": {},
     "output_type": "display_data"
    },
    {
     "data": {
      "text/html": [
       "<img src=\"data:image/png;base64,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\" width=\"1200\">"
      ],
      "text/plain": [
       "<IPython.core.display.HTML object>"
      ]
     },
     "metadata": {},
     "output_type": "display_data"
    },
    {
     "data": {
      "application/vnd.jupyter.widget-view+json": {
       "model_id": "0de02fb8f5af406b84d8e5a9f387cfa0",
       "version_major": 2,
       "version_minor": 0
      },
      "text/plain": [
       "HBox(children=(FloatProgress(value=0.0, max=500.0), HTML(value='')))"
      ]
     },
     "metadata": {},
     "output_type": "display_data"
    },
    {
     "data": {
      "application/vnd.jupyter.widget-view+json": {
       "model_id": "",
       "version_major": 2,
       "version_minor": 0
      },
      "text/plain": [
       "HBox(children=(FloatProgress(value=0.0, description='ILQR', max=2.0, style=ProgressStyle(description_width='in…"
      ]
     },
     "metadata": {},
     "output_type": "display_data"
    },
    {
     "data": {
      "application/vnd.jupyter.widget-view+json": {
       "model_id": "",
       "version_major": 2,
       "version_minor": 0
      },
      "text/plain": [
       "HBox(children=(FloatProgress(value=0.0, description='backward', max=120.0, style=ProgressStyle(description_wid…"
      ]
     },
     "metadata": {},
     "output_type": "display_data"
    },
    {
     "data": {
      "application/vnd.jupyter.widget-view+json": {
       "model_id": "",
       "version_major": 2,
       "version_minor": 0
      },
      "text/plain": [
       "HBox(children=(FloatProgress(value=0.0, description='forward', max=120.0, style=ProgressStyle(description_widt…"
      ]
     },
     "metadata": {},
     "output_type": "display_data"
    },
    {
     "data": {
      "application/vnd.jupyter.widget-view+json": {
       "model_id": "",
       "version_major": 2,
       "version_minor": 0
      },
      "text/plain": [
       "HBox(children=(FloatProgress(value=0.0, description='backward', max=120.0, style=ProgressStyle(description_wid…"
      ]
     },
     "metadata": {},
     "output_type": "display_data"
    },
    {
     "data": {
      "application/vnd.jupyter.widget-view+json": {
       "model_id": "",
       "version_major": 2,
       "version_minor": 0
      },
      "text/plain": [
       "HBox(children=(FloatProgress(value=0.0, description='forward', max=120.0, style=ProgressStyle(description_widt…"
      ]
     },
     "metadata": {},
     "output_type": "display_data"
    },
    {
     "name": "stderr",
     "output_type": "stream",
     "text": [
      "/home/zack/anaconda3/envs/ml/lib/python3.7/site-packages/ipykernel_launcher.py:67: UserWarning: Attempting to set identical left == right == 0 results in singular transformations; automatically expanding.\n",
      "/home/zack/anaconda3/envs/ml/lib/python3.7/site-packages/ipykernel_launcher.py:68: UserWarning: Attempting to set identical left == right == 0 results in singular transformations; automatically expanding.\n",
      "/home/zack/anaconda3/envs/ml/lib/python3.7/site-packages/ipykernel_launcher.py:69: UserWarning: Attempting to set identical left == right == 0 results in singular transformations; automatically expanding.\n"
     ]
    },
    {
     "data": {
      "application/vnd.jupyter.widget-view+json": {
       "model_id": "",
       "version_major": 2,
       "version_minor": 0
      },
      "text/plain": [
       "HBox(children=(FloatProgress(value=0.0, description='ILQR', max=2.0, style=ProgressStyle(description_width='in…"
      ]
     },
     "metadata": {},
     "output_type": "display_data"
    },
    {
     "data": {
      "application/vnd.jupyter.widget-view+json": {
       "model_id": "",
       "version_major": 2,
       "version_minor": 0
      },
      "text/plain": [
       "HBox(children=(FloatProgress(value=0.0, description='backward', max=120.0, style=ProgressStyle(description_wid…"
      ]
     },
     "metadata": {},
     "output_type": "display_data"
    },
    {
     "data": {
      "application/vnd.jupyter.widget-view+json": {
       "model_id": "",
       "version_major": 2,
       "version_minor": 0
      },
      "text/plain": [
       "HBox(children=(FloatProgress(value=0.0, description='forward', max=120.0, style=ProgressStyle(description_widt…"
      ]
     },
     "metadata": {},
     "output_type": "display_data"
    },
    {
     "data": {
      "application/vnd.jupyter.widget-view+json": {
       "model_id": "",
       "version_major": 2,
       "version_minor": 0
      },
      "text/plain": [
       "HBox(children=(FloatProgress(value=0.0, description='backward', max=120.0, style=ProgressStyle(description_wid…"
      ]
     },
     "metadata": {},
     "output_type": "display_data"
    },
    {
     "data": {
      "application/vnd.jupyter.widget-view+json": {
       "model_id": "",
       "version_major": 2,
       "version_minor": 0
      },
      "text/plain": [
       "HBox(children=(FloatProgress(value=0.0, description='forward', max=120.0, style=ProgressStyle(description_widt…"
      ]
     },
     "metadata": {},
     "output_type": "display_data"
    },
    {
     "data": {
      "application/vnd.jupyter.widget-view+json": {
       "model_id": "",
       "version_major": 2,
       "version_minor": 0
      },
      "text/plain": [
       "HBox(children=(FloatProgress(value=0.0, description='ILQR', max=2.0, style=ProgressStyle(description_width='in…"
      ]
     },
     "metadata": {},
     "output_type": "display_data"
    },
    {
     "data": {
      "application/vnd.jupyter.widget-view+json": {
       "model_id": "",
       "version_major": 2,
       "version_minor": 0
      },
      "text/plain": [
       "HBox(children=(FloatProgress(value=0.0, description='backward', max=120.0, style=ProgressStyle(description_wid…"
      ]
     },
     "metadata": {},
     "output_type": "display_data"
    },
    {
     "data": {
      "application/vnd.jupyter.widget-view+json": {
       "model_id": "",
       "version_major": 2,
       "version_minor": 0
      },
      "text/plain": [
       "HBox(children=(FloatProgress(value=0.0, description='forward', max=120.0, style=ProgressStyle(description_widt…"
      ]
     },
     "metadata": {},
     "output_type": "display_data"
    },
    {
     "data": {
      "application/vnd.jupyter.widget-view+json": {
       "model_id": "",
       "version_major": 2,
       "version_minor": 0
      },
      "text/plain": [
       "HBox(children=(FloatProgress(value=0.0, description='backward', max=120.0, style=ProgressStyle(description_wid…"
      ]
     },
     "metadata": {},
     "output_type": "display_data"
    },
    {
     "data": {
      "application/vnd.jupyter.widget-view+json": {
       "model_id": "",
       "version_major": 2,
       "version_minor": 0
      },
      "text/plain": [
       "HBox(children=(FloatProgress(value=0.0, description='forward', max=120.0, style=ProgressStyle(description_widt…"
      ]
     },
     "metadata": {},
     "output_type": "display_data"
    },
    {
     "data": {
      "application/vnd.jupyter.widget-view+json": {
       "model_id": "",
       "version_major": 2,
       "version_minor": 0
      },
      "text/plain": [
       "HBox(children=(FloatProgress(value=0.0, description='ILQR', max=2.0, style=ProgressStyle(description_width='in…"
      ]
     },
     "metadata": {},
     "output_type": "display_data"
    },
    {
     "data": {
      "application/vnd.jupyter.widget-view+json": {
       "model_id": "",
       "version_major": 2,
       "version_minor": 0
      },
      "text/plain": [
       "HBox(children=(FloatProgress(value=0.0, description='backward', max=120.0, style=ProgressStyle(description_wid…"
      ]
     },
     "metadata": {},
     "output_type": "display_data"
    },
    {
     "data": {
      "application/vnd.jupyter.widget-view+json": {
       "model_id": "",
       "version_major": 2,
       "version_minor": 0
      },
      "text/plain": [
       "HBox(children=(FloatProgress(value=0.0, description='forward', max=120.0, style=ProgressStyle(description_widt…"
      ]
     },
     "metadata": {},
     "output_type": "display_data"
    },
    {
     "data": {
      "application/vnd.jupyter.widget-view+json": {
       "model_id": "",
       "version_major": 2,
       "version_minor": 0
      },
      "text/plain": [
       "HBox(children=(FloatProgress(value=0.0, description='backward', max=120.0, style=ProgressStyle(description_wid…"
      ]
     },
     "metadata": {},
     "output_type": "display_data"
    },
    {
     "data": {
      "application/vnd.jupyter.widget-view+json": {
       "model_id": "",
       "version_major": 2,
       "version_minor": 0
      },
      "text/plain": [
       "HBox(children=(FloatProgress(value=0.0, description='forward', max=120.0, style=ProgressStyle(description_widt…"
      ]
     },
     "metadata": {},
     "output_type": "display_data"
    },
    {
     "data": {
      "application/vnd.jupyter.widget-view+json": {
       "model_id": "",
       "version_major": 2,
       "version_minor": 0
      },
      "text/plain": [
       "HBox(children=(FloatProgress(value=0.0, description='ILQR', max=2.0, style=ProgressStyle(description_width='in…"
      ]
     },
     "metadata": {},
     "output_type": "display_data"
    },
    {
     "data": {
      "application/vnd.jupyter.widget-view+json": {
       "model_id": "",
       "version_major": 2,
       "version_minor": 0
      },
      "text/plain": [
       "HBox(children=(FloatProgress(value=0.0, description='backward', max=120.0, style=ProgressStyle(description_wid…"
      ]
     },
     "metadata": {},
     "output_type": "display_data"
    },
    {
     "data": {
      "application/vnd.jupyter.widget-view+json": {
       "model_id": "",
       "version_major": 2,
       "version_minor": 0
      },
      "text/plain": [
       "HBox(children=(FloatProgress(value=0.0, description='forward', max=120.0, style=ProgressStyle(description_widt…"
      ]
     },
     "metadata": {},
     "output_type": "display_data"
    },
    {
     "data": {
      "application/vnd.jupyter.widget-view+json": {
       "model_id": "",
       "version_major": 2,
       "version_minor": 0
      },
      "text/plain": [
       "HBox(children=(FloatProgress(value=0.0, description='backward', max=120.0, style=ProgressStyle(description_wid…"
      ]
     },
     "metadata": {},
     "output_type": "display_data"
    },
    {
     "data": {
      "application/vnd.jupyter.widget-view+json": {
       "model_id": "",
       "version_major": 2,
       "version_minor": 0
      },
      "text/plain": [
       "HBox(children=(FloatProgress(value=0.0, description='forward', max=120.0, style=ProgressStyle(description_widt…"
      ]
     },
     "metadata": {},
     "output_type": "display_data"
    },
    {
     "data": {
      "application/vnd.jupyter.widget-view+json": {
       "model_id": "",
       "version_major": 2,
       "version_minor": 0
      },
      "text/plain": [
       "HBox(children=(FloatProgress(value=0.0, description='ILQR', max=2.0, style=ProgressStyle(description_width='in…"
      ]
     },
     "metadata": {},
     "output_type": "display_data"
    },
    {
     "data": {
      "application/vnd.jupyter.widget-view+json": {
       "model_id": "",
       "version_major": 2,
       "version_minor": 0
      },
      "text/plain": [
       "HBox(children=(FloatProgress(value=0.0, description='backward', max=120.0, style=ProgressStyle(description_wid…"
      ]
     },
     "metadata": {},
     "output_type": "display_data"
    },
    {
     "data": {
      "application/vnd.jupyter.widget-view+json": {
       "model_id": "",
       "version_major": 2,
       "version_minor": 0
      },
      "text/plain": [
       "HBox(children=(FloatProgress(value=0.0, description='forward', max=120.0, style=ProgressStyle(description_widt…"
      ]
     },
     "metadata": {},
     "output_type": "display_data"
    },
    {
     "data": {
      "application/vnd.jupyter.widget-view+json": {
       "model_id": "",
       "version_major": 2,
       "version_minor": 0
      },
      "text/plain": [
       "HBox(children=(FloatProgress(value=0.0, description='backward', max=120.0, style=ProgressStyle(description_wid…"
      ]
     },
     "metadata": {},
     "output_type": "display_data"
    },
    {
     "data": {
      "application/vnd.jupyter.widget-view+json": {
       "model_id": "",
       "version_major": 2,
       "version_minor": 0
      },
      "text/plain": [
       "HBox(children=(FloatProgress(value=0.0, description='forward', max=120.0, style=ProgressStyle(description_widt…"
      ]
     },
     "metadata": {},
     "output_type": "display_data"
    },
    {
     "data": {
      "application/vnd.jupyter.widget-view+json": {
       "model_id": "",
       "version_major": 2,
       "version_minor": 0
      },
      "text/plain": [
       "HBox(children=(FloatProgress(value=0.0, description='ILQR', max=2.0, style=ProgressStyle(description_width='in…"
      ]
     },
     "metadata": {},
     "output_type": "display_data"
    },
    {
     "data": {
      "application/vnd.jupyter.widget-view+json": {
       "model_id": "",
       "version_major": 2,
       "version_minor": 0
      },
      "text/plain": [
       "HBox(children=(FloatProgress(value=0.0, description='backward', max=120.0, style=ProgressStyle(description_wid…"
      ]
     },
     "metadata": {},
     "output_type": "display_data"
    },
    {
     "data": {
      "application/vnd.jupyter.widget-view+json": {
       "model_id": "",
       "version_major": 2,
       "version_minor": 0
      },
      "text/plain": [
       "HBox(children=(FloatProgress(value=0.0, description='forward', max=120.0, style=ProgressStyle(description_widt…"
      ]
     },
     "metadata": {},
     "output_type": "display_data"
    },
    {
     "data": {
      "application/vnd.jupyter.widget-view+json": {
       "model_id": "",
       "version_major": 2,
       "version_minor": 0
      },
      "text/plain": [
       "HBox(children=(FloatProgress(value=0.0, description='backward', max=120.0, style=ProgressStyle(description_wid…"
      ]
     },
     "metadata": {},
     "output_type": "display_data"
    },
    {
     "data": {
      "application/vnd.jupyter.widget-view+json": {
       "model_id": "",
       "version_major": 2,
       "version_minor": 0
      },
      "text/plain": [
       "HBox(children=(FloatProgress(value=0.0, description='forward', max=120.0, style=ProgressStyle(description_widt…"
      ]
     },
     "metadata": {},
     "output_type": "display_data"
    },
    {
     "data": {
      "application/vnd.jupyter.widget-view+json": {
       "model_id": "",
       "version_major": 2,
       "version_minor": 0
      },
      "text/plain": [
       "HBox(children=(FloatProgress(value=0.0, description='ILQR', max=2.0, style=ProgressStyle(description_width='in…"
      ]
     },
     "metadata": {},
     "output_type": "display_data"
    },
    {
     "data": {
      "application/vnd.jupyter.widget-view+json": {
       "model_id": "",
       "version_major": 2,
       "version_minor": 0
      },
      "text/plain": [
       "HBox(children=(FloatProgress(value=0.0, description='backward', max=120.0, style=ProgressStyle(description_wid…"
      ]
     },
     "metadata": {},
     "output_type": "display_data"
    },
    {
     "data": {
      "application/vnd.jupyter.widget-view+json": {
       "model_id": "",
       "version_major": 2,
       "version_minor": 0
      },
      "text/plain": [
       "HBox(children=(FloatProgress(value=0.0, description='forward', max=120.0, style=ProgressStyle(description_widt…"
      ]
     },
     "metadata": {},
     "output_type": "display_data"
    },
    {
     "data": {
      "application/vnd.jupyter.widget-view+json": {
       "model_id": "",
       "version_major": 2,
       "version_minor": 0
      },
      "text/plain": [
       "HBox(children=(FloatProgress(value=0.0, description='backward', max=120.0, style=ProgressStyle(description_wid…"
      ]
     },
     "metadata": {},
     "output_type": "display_data"
    },
    {
     "data": {
      "application/vnd.jupyter.widget-view+json": {
       "model_id": "",
       "version_major": 2,
       "version_minor": 0
      },
      "text/plain": [
       "HBox(children=(FloatProgress(value=0.0, description='forward', max=120.0, style=ProgressStyle(description_widt…"
      ]
     },
     "metadata": {},
     "output_type": "display_data"
    },
    {
     "data": {
      "application/vnd.jupyter.widget-view+json": {
       "model_id": "5bc59a64b5474c4aa9960308bc8d140d",
       "version_major": 2,
       "version_minor": 0
      },
      "text/plain": [
       "HBox(children=(FloatProgress(value=0.0, description='ILQR', max=2.0, style=ProgressStyle(description_width='in…"
      ]
     },
     "metadata": {},
     "output_type": "display_data"
    },
    {
     "data": {
      "application/vnd.jupyter.widget-view+json": {
       "model_id": "098875548b1741deb59deaad20715ec2",
       "version_major": 2,
       "version_minor": 0
      },
      "text/plain": [
       "HBox(children=(FloatProgress(value=0.0, description='backward', max=120.0, style=ProgressStyle(description_wid…"
      ]
     },
     "metadata": {},
     "output_type": "display_data"
    },
    {
     "name": "stdout",
     "output_type": "stream",
     "text": [
      "\n"
     ]
    },
    {
     "ename": "KeyboardInterrupt",
     "evalue": "",
     "output_type": "error",
     "traceback": [
      "\u001b[0;31m---------------------------------------------------------------------------\u001b[0m",
      "\u001b[0;31mKeyboardInterrupt\u001b[0m                         Traceback (most recent call last)",
      "\u001b[0;32m<ipython-input-7-fe7bb1fbd62d>\u001b[0m in \u001b[0;36m<module>\u001b[0;34m\u001b[0m\n\u001b[1;32m     24\u001b[0m \u001b[0mrender_controller\u001b[0m\u001b[0;34m.\u001b[0m\u001b[0mshow_window\u001b[0m\u001b[0;34m(\u001b[0m\u001b[0;34m)\u001b[0m\u001b[0;34m\u001b[0m\u001b[0;34m\u001b[0m\u001b[0m\n\u001b[1;32m     25\u001b[0m \u001b[0;32mfor\u001b[0m \u001b[0mi\u001b[0m \u001b[0;32min\u001b[0m \u001b[0mtrange\u001b[0m\u001b[0;34m(\u001b[0m\u001b[0;36m500\u001b[0m\u001b[0;34m)\u001b[0m\u001b[0;34m:\u001b[0m\u001b[0;34m\u001b[0m\u001b[0;34m\u001b[0m\u001b[0m\n\u001b[0;32m---> 26\u001b[0;31m     \u001b[0mx_seq\u001b[0m\u001b[0;34m,\u001b[0m \u001b[0mu_seq\u001b[0m\u001b[0;34m,\u001b[0m \u001b[0mpack_seq\u001b[0m \u001b[0;34m=\u001b[0m \u001b[0milqr\u001b[0m\u001b[0;34m.\u001b[0m\u001b[0mpredict\u001b[0m\u001b[0;34m(\u001b[0m\u001b[0mx_seq\u001b[0m\u001b[0;34m,\u001b[0m \u001b[0mu_seq\u001b[0m\u001b[0;34m,\u001b[0m \u001b[0mpack_seq\u001b[0m\u001b[0;34m)\u001b[0m\u001b[0;34m\u001b[0m\u001b[0;34m\u001b[0m\u001b[0m\n\u001b[0m\u001b[1;32m     27\u001b[0m \u001b[0;34m\u001b[0m\u001b[0m\n\u001b[1;32m     28\u001b[0m     \u001b[0mu\u001b[0m \u001b[0;34m=\u001b[0m \u001b[0mu_seq\u001b[0m\u001b[0;34m[\u001b[0m\u001b[0;36m0\u001b[0m\u001b[0;34m]\u001b[0m\u001b[0;34m\u001b[0m\u001b[0;34m\u001b[0m\u001b[0m\n",
      "\u001b[0;32m~/Desktop/SAPIEN-benchmark-ilqg/src/ilqr/ILQR.py\u001b[0m in \u001b[0;36mpredict\u001b[0;34m(self, x_seq, u_seq, packs)\u001b[0m\n\u001b[1;32m    193\u001b[0m         \u001b[0;32mfor\u001b[0m \u001b[0m_\u001b[0m \u001b[0;32min\u001b[0m \u001b[0mtrange\u001b[0m\u001b[0;34m(\u001b[0m\u001b[0mself\u001b[0m\u001b[0;34m.\u001b[0m\u001b[0mper_iter\u001b[0m\u001b[0;34m,\u001b[0m \u001b[0mdesc\u001b[0m\u001b[0;34m=\u001b[0m\u001b[0;34m'ILQR'\u001b[0m\u001b[0;34m,\u001b[0m \u001b[0mleave\u001b[0m\u001b[0;34m=\u001b[0m\u001b[0;32mFalse\u001b[0m\u001b[0;34m)\u001b[0m\u001b[0;34m:\u001b[0m\u001b[0;34m\u001b[0m\u001b[0;34m\u001b[0m\u001b[0m\n\u001b[1;32m    194\u001b[0m         \u001b[0;31m# for _ in range(self.per_iter):\u001b[0m\u001b[0;34m\u001b[0m\u001b[0;34m\u001b[0m\u001b[0;34m\u001b[0m\u001b[0m\n\u001b[0;32m--> 195\u001b[0;31m             \u001b[0mk_seq\u001b[0m\u001b[0;34m,\u001b[0m \u001b[0mkk_seq\u001b[0m \u001b[0;34m=\u001b[0m \u001b[0mself\u001b[0m\u001b[0;34m.\u001b[0m\u001b[0mcal_K\u001b[0m\u001b[0;34m(\u001b[0m\u001b[0mx_seq\u001b[0m\u001b[0;34m,\u001b[0m \u001b[0mu_seq\u001b[0m\u001b[0;34m)\u001b[0m\u001b[0;34m\u001b[0m\u001b[0;34m\u001b[0m\u001b[0m\n\u001b[0m\u001b[1;32m    196\u001b[0m \u001b[0;34m\u001b[0m\u001b[0m\n\u001b[1;32m    197\u001b[0m             \u001b[0;32mif\u001b[0m \u001b[0mself\u001b[0m\u001b[0;34m.\u001b[0m\u001b[0mmodel_sim\u001b[0m \u001b[0;32mis\u001b[0m \u001b[0;32mnot\u001b[0m \u001b[0;32mNone\u001b[0m\u001b[0;34m:\u001b[0m\u001b[0;34m\u001b[0m\u001b[0;34m\u001b[0m\u001b[0m\n",
      "\u001b[0;32m~/Desktop/SAPIEN-benchmark-ilqg/src/ilqr/ILQR.py\u001b[0m in \u001b[0;36mcal_K\u001b[0;34m(self, x_seq, u_seq)\u001b[0m\n\u001b[1;32m    148\u001b[0m                      'qxx', 'quu', 'qux', 'x', 'u']\n\u001b[1;32m    149\u001b[0m             \u001b[0;32mfor\u001b[0m \u001b[0mn\u001b[0m\u001b[0;34m,\u001b[0m \u001b[0mval\u001b[0m \u001b[0;32min\u001b[0m \u001b[0mzip\u001b[0m\u001b[0;34m(\u001b[0m\u001b[0mnames\u001b[0m\u001b[0;34m,\u001b[0m \u001b[0mMs\u001b[0m\u001b[0;34m)\u001b[0m\u001b[0;34m:\u001b[0m\u001b[0;34m\u001b[0m\u001b[0;34m\u001b[0m\u001b[0m\n\u001b[0;32m--> 150\u001b[0;31m                 \u001b[0mdebug_dict\u001b[0m\u001b[0;34m[\u001b[0m\u001b[0mn\u001b[0m\u001b[0;34m]\u001b[0m\u001b[0;34m.\u001b[0m\u001b[0mappend\u001b[0m\u001b[0;34m(\u001b[0m\u001b[0mnp\u001b[0m\u001b[0;34m.\u001b[0m\u001b[0marray\u001b[0m\u001b[0;34m(\u001b[0m\u001b[0mval\u001b[0m\u001b[0;34m)\u001b[0m\u001b[0;34m.\u001b[0m\u001b[0mtolist\u001b[0m\u001b[0;34m(\u001b[0m\u001b[0;34m)\u001b[0m\u001b[0;34m)\u001b[0m\u001b[0;34m\u001b[0m\u001b[0;34m\u001b[0m\u001b[0m\n\u001b[0m\u001b[1;32m    151\u001b[0m \u001b[0;34m\u001b[0m\u001b[0m\n\u001b[1;32m    152\u001b[0m         \u001b[0;32mreturn\u001b[0m \u001b[0mk_seq\u001b[0m\u001b[0;34m,\u001b[0m \u001b[0mkk_seq\u001b[0m\u001b[0;34m\u001b[0m\u001b[0;34m\u001b[0m\u001b[0m\n",
      "\u001b[0;32m~/anaconda3/envs/ml/lib/python3.7/site-packages/jax/numpy/lax_numpy.py\u001b[0m in \u001b[0;36marray\u001b[0;34m(object, dtype, copy, order, ndmin)\u001b[0m\n\u001b[1;32m   1791\u001b[0m       \u001b[0mout\u001b[0m \u001b[0;34m=\u001b[0m \u001b[0mlax\u001b[0m\u001b[0;34m.\u001b[0m\u001b[0mconvert_element_type\u001b[0m\u001b[0;34m(\u001b[0m\u001b[0mobject\u001b[0m\u001b[0;34m,\u001b[0m \u001b[0mdtype\u001b[0m\u001b[0;34m)\u001b[0m\u001b[0;34m\u001b[0m\u001b[0;34m\u001b[0m\u001b[0m\n\u001b[1;32m   1792\u001b[0m     \u001b[0;32melse\u001b[0m\u001b[0;34m:\u001b[0m\u001b[0;34m\u001b[0m\u001b[0;34m\u001b[0m\u001b[0m\n\u001b[0;32m-> 1793\u001b[0;31m       \u001b[0mout\u001b[0m \u001b[0;34m=\u001b[0m \u001b[0mdevice_put\u001b[0m\u001b[0;34m(\u001b[0m\u001b[0mobject\u001b[0m\u001b[0;34m)\u001b[0m\u001b[0;34m\u001b[0m\u001b[0;34m\u001b[0m\u001b[0m\n\u001b[0m\u001b[1;32m   1794\u001b[0m   \u001b[0;32melif\u001b[0m \u001b[0misscalar\u001b[0m\u001b[0;34m(\u001b[0m\u001b[0mobject\u001b[0m\u001b[0;34m)\u001b[0m\u001b[0;34m:\u001b[0m\u001b[0;34m\u001b[0m\u001b[0;34m\u001b[0m\u001b[0m\n\u001b[1;32m   1795\u001b[0m     \u001b[0mout\u001b[0m \u001b[0;34m=\u001b[0m \u001b[0mlax\u001b[0m\u001b[0;34m.\u001b[0m\u001b[0mreshape\u001b[0m\u001b[0;34m(\u001b[0m\u001b[0mobject\u001b[0m\u001b[0;34m,\u001b[0m \u001b[0;34m(\u001b[0m\u001b[0;34m)\u001b[0m\u001b[0;34m)\u001b[0m\u001b[0;34m\u001b[0m\u001b[0;34m\u001b[0m\u001b[0m\n",
      "\u001b[0;32m~/anaconda3/envs/ml/lib/python3.7/site-packages/jax/api.py\u001b[0m in \u001b[0;36mdevice_put\u001b[0;34m(x, device)\u001b[0m\n\u001b[1;32m   1424\u001b[0m     \u001b[0;31m`\u001b[0m\u001b[0;31m`\u001b[0m\u001b[0mdevice\u001b[0m\u001b[0;31m`\u001b[0m\u001b[0;31m`\u001b[0m\u001b[0;34m,\u001b[0m \u001b[0mreturns\u001b[0m\u001b[0;31m \u001b[0m\u001b[0;31m`\u001b[0m\u001b[0;31m`\u001b[0m\u001b[0mx\u001b[0m\u001b[0;31m`\u001b[0m\u001b[0;31m`\u001b[0m\u001b[0;34m.\u001b[0m\u001b[0;34m\u001b[0m\u001b[0;34m\u001b[0m\u001b[0m\n\u001b[1;32m   1425\u001b[0m   \"\"\"\n\u001b[0;32m-> 1426\u001b[0;31m   \u001b[0;32mreturn\u001b[0m \u001b[0mtree_map\u001b[0m\u001b[0;34m(\u001b[0m\u001b[0;32mlambda\u001b[0m \u001b[0my\u001b[0m\u001b[0;34m:\u001b[0m \u001b[0mxla\u001b[0m\u001b[0;34m.\u001b[0m\u001b[0mdevice_put_p\u001b[0m\u001b[0;34m.\u001b[0m\u001b[0mbind\u001b[0m\u001b[0;34m(\u001b[0m\u001b[0my\u001b[0m\u001b[0;34m,\u001b[0m \u001b[0mdevice\u001b[0m\u001b[0;34m=\u001b[0m\u001b[0mdevice\u001b[0m\u001b[0;34m)\u001b[0m\u001b[0;34m,\u001b[0m \u001b[0mx\u001b[0m\u001b[0;34m)\u001b[0m\u001b[0;34m\u001b[0m\u001b[0;34m\u001b[0m\u001b[0m\n\u001b[0m\u001b[1;32m   1427\u001b[0m \u001b[0;34m\u001b[0m\u001b[0m\n\u001b[1;32m   1428\u001b[0m \u001b[0;34m\u001b[0m\u001b[0m\n",
      "\u001b[0;32m~/anaconda3/envs/ml/lib/python3.7/site-packages/jax/tree_util.py\u001b[0m in \u001b[0;36mtree_map\u001b[0;34m(f, tree)\u001b[0m\n\u001b[1;32m    139\u001b[0m     \u001b[0;31m`\u001b[0m\u001b[0mtree\u001b[0m\u001b[0;31m`\u001b[0m\u001b[0;34m.\u001b[0m\u001b[0;34m\u001b[0m\u001b[0;34m\u001b[0m\u001b[0m\n\u001b[1;32m    140\u001b[0m   \"\"\"\n\u001b[0;32m--> 141\u001b[0;31m   \u001b[0mleaves\u001b[0m\u001b[0;34m,\u001b[0m \u001b[0mtreedef\u001b[0m \u001b[0;34m=\u001b[0m \u001b[0mpytree\u001b[0m\u001b[0;34m.\u001b[0m\u001b[0mflatten\u001b[0m\u001b[0;34m(\u001b[0m\u001b[0mtree\u001b[0m\u001b[0;34m)\u001b[0m\u001b[0;34m\u001b[0m\u001b[0;34m\u001b[0m\u001b[0m\n\u001b[0m\u001b[1;32m    142\u001b[0m   \u001b[0;32mreturn\u001b[0m \u001b[0mtreedef\u001b[0m\u001b[0;34m.\u001b[0m\u001b[0munflatten\u001b[0m\u001b[0;34m(\u001b[0m\u001b[0mmap\u001b[0m\u001b[0;34m(\u001b[0m\u001b[0mf\u001b[0m\u001b[0;34m,\u001b[0m \u001b[0mleaves\u001b[0m\u001b[0;34m)\u001b[0m\u001b[0;34m)\u001b[0m\u001b[0;34m\u001b[0m\u001b[0;34m\u001b[0m\u001b[0m\n\u001b[1;32m    143\u001b[0m \u001b[0;34m\u001b[0m\u001b[0m\n",
      "\u001b[0;31mKeyboardInterrupt\u001b[0m: "
     ]
    }
   ],
   "source": [
    "# records\n",
    "ctrl_record = []\n",
    "x_record = []\n",
    "u_record = []\n",
    "run_cost_record = []\n",
    "f_cost_record = []\n",
    "ini_state = [bak_pack]\n",
    "\n",
    "# plots\n",
    "IF_PLOT = True\n",
    "\n",
    "if IF_PLOT:\n",
    "    fig, axs = plt.subplots(3,figsize=(12,9))\n",
    "\n",
    "    total = []\n",
    "    f_ax, r_ax, t_ax = axs\n",
    "    PLOT_LEN = 30\n",
    "\n",
    "    plt.ion()\n",
    "\n",
    "    fig.show()\n",
    "    fig.canvas.draw()\n",
    "\n",
    "render_controller.show_window()\n",
    "for i in trange(2000):\n",
    "    x_seq, u_seq, pack_seq = ilqr.predict(x_seq, u_seq, pack_seq)\n",
    "\n",
    "    u = u_seq[0]\n",
    "\n",
    "    robot.set_qf(u)\n",
    "    s0.step()\n",
    "    s0.update_render()\n",
    "    render_controller.render()\n",
    "\n",
    "    new_x = misc.get_state(robot)\n",
    "    new_pack = robot.pack()\n",
    "\n",
    "    f_cost = final_cost(x_seq[-1])\n",
    "    run_cost = onp.sum([running_cost(x, u) for x, u in zip(x_seq[:-1], u_seq[:-1])])\n",
    "    cost = f_cost + run_cost\n",
    "\n",
    "    # record\n",
    "#     print(u)\n",
    "    ctrl_record.append(u)\n",
    "    f_cost_record.append(f_cost)\n",
    "    run_cost_record.append(run_cost)\n",
    "    x_record.append(x_seq)\n",
    "    u_record.append(u_seq)\n",
    "\n",
    "    # update x and u, since we need to record old x u\n",
    "    x_seq[0] = new_x\n",
    "    pack_seq[0] = new_pack\n",
    "\n",
    "    # plot\n",
    "    if IF_PLOT:\n",
    "        total.append(cost)\n",
    "        f_ax.clear()\n",
    "        r_ax.clear()\n",
    "        t_ax.clear()\n",
    "\n",
    "        y_lim = np.max(total[-PLOT_LEN:])\n",
    "        f_ax.set_ylim(0, y_lim)\n",
    "        r_ax.set_ylim(0, y_lim)\n",
    "        f_ax.set_ylim(0, y_lim)\n",
    "\n",
    "        x_lim = max(0, i - PLOT_LEN)\n",
    "        f_ax.set_xlim(x_lim, i)\n",
    "        r_ax.set_xlim(x_lim, i)\n",
    "        t_ax.set_xlim(x_lim, i)\n",
    "\n",
    "\n",
    "        f_ax.plot(f_cost_record)\n",
    "        f_ax.set_title(\"Final\")\n",
    "        r_ax.plot(run_cost_record)\n",
    "        r_ax.set_title(\"Running\")\n",
    "\n",
    "        t_ax.plot(total, label=\"Total\")\n",
    "        t_ax.plot(f_cost_record, label=\"Final\")\n",
    "        t_ax.plot(run_cost_record, label=\"Running\")\n",
    "        t_ax.legend()\n",
    "        t_ax.set_title(\"Total\")\n",
    "\n",
    "        fig.canvas.draw()\n",
    "        fig.show()\n"
   ]
  },
  {
   "cell_type": "code",
   "execution_count": null,
   "metadata": {
    "pycharm": {
     "name": "#%%\n"
    }
   },
   "outputs": [],
   "source": [
    "records = {\n",
    "    'ctrl_record': ctrl_record,\n",
    "    'x_record': x_record,\n",
    "    'u_record': u_record,\n",
    "    'run_cost_record': run_cost_record,\n",
    "    'f_cost_record': f_cost_record,\n",
    "    'ini_state': ini_state,\n",
    "}\n",
    "\n",
    "np.save('records' + str(datetime.utcnow()), records)\n"
   ]
  }
 ],
 "metadata": {
  "kernelspec": {
   "display_name": "Python 3.7.6 64-bit ('ml': conda)",
   "language": "python",
   "name": "python37664bitmlconda2e170bd122e545f6bb518a813f3b75e9"
  },
  "language_info": {
   "codemirror_mode": {
    "name": "ipython",
    "version": 3
   },
   "file_extension": ".py",
   "mimetype": "text/x-python",
   "name": "python",
   "nbconvert_exporter": "python",
   "pygments_lexer": "ipython3",
   "version": "3.7.6"
  }
 },
 "nbformat": 4,
 "nbformat_minor": 1
}
