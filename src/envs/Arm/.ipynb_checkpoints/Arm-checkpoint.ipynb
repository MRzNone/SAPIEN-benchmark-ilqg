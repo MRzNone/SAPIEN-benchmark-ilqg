{
 "cells": [
  {
   "cell_type": "code",
   "execution_count": 1,
   "metadata": {
    "pycharm": {
     "name": "#%%\n"
    }
   },
   "outputs": [
    {
     "name": "stdout",
     "output_type": "stream",
     "text": [
      "Using default glsl path /home/zack/anaconda3/envs/ml/lib/python3.7/site-packages/sapien/glsl_shader/130\n",
      "env: XLA_PYTHON_CLIENT_MEM_FRACTION=.40\n"
     ]
    }
   ],
   "source": [
    "import sapien.core as sapien\n",
    "from Tools import misc, ForwardKinematics, ModelSim, NumForwardDynamicsDer\n",
    "import numpy as onp\n",
    "import jax.numpy as np\n",
    "from jax import jit, jacfwd, jacrev, grad\n",
    "from ilqr import ILQR\n",
    "from datetime import datetime\n",
    "from tqdm.notebook import trange\n",
    "import matplotlib.pyplot as plt\n",
    "\n",
    "%matplotlib notebook\n",
    "%env XLA_PYTHON_CLIENT_MEM_FRACTION=.40"
   ]
  },
  {
   "cell_type": "code",
   "execution_count": 2,
   "metadata": {
    "pycharm": {
     "name": "#%%\n"
    }
   },
   "outputs": [],
   "source": [
    "DEBUG = False\n",
    "\n",
    "sim = sapien.Engine()\n",
    "renderer = sapien.OptifuserRenderer()\n",
    "sim.set_renderer(renderer)\n",
    "render_controller = sapien.OptifuserController(renderer)\n",
    "\n",
    "stabled = False\n",
    "\n",
    "\n",
    "def create_scene(timestep, visual):\n",
    "    s = sim.create_scene([0, 0, 0])\n",
    "    s.add_ground(-1)\n",
    "    s.set_timestep(timestep)\n",
    "\n",
    "    loader = s.create_urdf_loader()\n",
    "    loader.fix_root_link = True\n",
    "    if visual:\n",
    "        loader.collision_is_visual = True\n",
    "        s.set_ambient_light([0.5, 0.5, 0.5])\n",
    "        s.set_shadow_light([0, 1, -1], [0.5, 0.5, 0.5])\n",
    "\n",
    "    # build\n",
    "    robot = loader.load(\"../../../assets/Arm/panda.urdf\")\n",
    "    \n",
    "    for _ in range(3000):\n",
    "        s.step()\n",
    "\n",
    "    return s, robot\n",
    "\n",
    "\n",
    "sim_timestep = 1 / 60\n",
    "optim_timestep = 1 / 60\n",
    "s0, robot = create_scene(sim_timestep, True)\n",
    "\n",
    "render_controller.set_camera_position(-5, 0, 0)\n",
    "render_controller.set_current_scene(s0)\n"
   ]
  },
  {
   "cell_type": "code",
   "execution_count": 3,
   "metadata": {
    "pycharm": {
     "name": "#%%\n"
    }
   },
   "outputs": [],
   "source": [
    "num_deri = NumForwardDynamicsDer(robot, sim_timestep)\n",
    "fk = ForwardKinematics(robot)\n",
    "sim_worker = ModelSim(create_scene, optim_timestep)"
   ]
  },
  {
   "cell_type": "code",
   "execution_count": 4,
   "metadata": {
    "pycharm": {
     "name": "#%%\n"
    }
   },
   "outputs": [],
   "source": [
    "# render_controller.show_window()\n",
    "# while True:\n",
    "#     u = onp.random.randn(robot.dof) * 0.5\n",
    "#     u = onp.clip(u, -1, 1)\n",
    "#     robot.set_qf(u)\n",
    "#     s0.step()\n",
    "#     s0.update_render()\n",
    "#     render_controller.render()\n",
    "\n",
    "\n",
    "def smooth_abs(x, alpha):\n",
    "    return np.mean((alpha ** 2) * (np.cosh(x / alpha) - 1))\n",
    "\n",
    "\n",
    "robo_pose = robot.get_root_pose()\n",
    "\n",
    "u_range = robot.get_qlimits().T\n",
    "pred_time = 5\n",
    "horizon = int(pred_time / optim_timestep) + 1\n",
    "per_iter = 2\n",
    "\n",
    "@jit\n",
    "def final_cost(x, alpha=0.3):\n",
    "    # add base pose\n",
    "    x = np.concatenate((x, robo_pose.p, robo_pose.q))\n",
    "\n",
    "    cart_pos = fk.fk(x).reshape(-1, 3)[:, :3]\n",
    "    end_effector_pos = cart_pos[-3]\n",
    "\n",
    "    target_pos = robo_pose.p + [0, 0, 1.2]\n",
    "    term1 = smooth_abs(end_effector_pos[2] - target_pos[2], alpha)\n",
    "\n",
    "    return term1\n",
    "\n",
    "@jit\n",
    "def running_cost(x, u, alpha=0.5):\n",
    "    eps = 1e-9\n",
    "    u_normalized = np.where(u>=0, u/(u_range[1]+eps), u/(u_range[0] + eps))\n",
    "    term1 = smooth_abs(u_normalized, alpha) / horizon\n",
    "    return term1"
   ]
  },
  {
   "cell_type": "code",
   "execution_count": 5,
   "metadata": {
    "pycharm": {
     "name": "#%%\n"
    }
   },
   "outputs": [],
   "source": [
    "ilqr = ILQR(final_cost, running_cost, None, u_range, horizon, per_iter, num_deri, sim_worker, DEBUG)"
   ]
  },
  {
   "cell_type": "code",
   "execution_count": 6,
   "metadata": {
    "pycharm": {
     "is_executing": true,
     "name": "#%%\n"
    }
   },
   "outputs": [],
   "source": [
    "state = misc.get_state(robot)\n",
    "num_x = len(state)\n",
    "num_u = robot.dof\n",
    "dof = robot.dof\n",
    "\n",
    "# prep seq\n",
    "x_seq = []\n",
    "u_seq = []\n",
    "pack_seq = []\n",
    "\n",
    "bak_pack = robot.pack()\n",
    "\n",
    "for i in range(horizon):\n",
    "    u = onp.random.randn(robot.dof) * 0.5\n",
    "    u = onp.clip(u, u_range[0], u_range[1])\n",
    "\n",
    "    x = misc.get_state(robot)\n",
    "    pack = robot.pack()\n",
    "\n",
    "    x_seq.append(x)\n",
    "    pack_seq.append(pack)\n",
    "    u_seq.append(u)\n",
    "\n",
    "    robot.set_qf(u)\n",
    "    s0.step()\n",
    "robot.unpack(bak_pack)"
   ]
  },
  {
   "cell_type": "code",
   "execution_count": 7,
   "metadata": {
    "pycharm": {
     "is_executing": true,
     "name": "#%%\n"
    },
    "scrolled": false
   },
   "outputs": [
    {
     "data": {
      "application/javascript": [
       "/* Put everything inside the global mpl namespace */\n",
       "window.mpl = {};\n",
       "\n",
       "\n",
       "mpl.get_websocket_type = function() {\n",
       "    if (typeof(WebSocket) !== 'undefined') {\n",
       "        return WebSocket;\n",
       "    } else if (typeof(MozWebSocket) !== 'undefined') {\n",
       "        return MozWebSocket;\n",
       "    } else {\n",
       "        alert('Your browser does not have WebSocket support. ' +\n",
       "              'Please try Chrome, Safari or Firefox ≥ 6. ' +\n",
       "              'Firefox 4 and 5 are also supported but you ' +\n",
       "              'have to enable WebSockets in about:config.');\n",
       "    };\n",
       "}\n",
       "\n",
       "mpl.figure = function(figure_id, websocket, ondownload, parent_element) {\n",
       "    this.id = figure_id;\n",
       "\n",
       "    this.ws = websocket;\n",
       "\n",
       "    this.supports_binary = (this.ws.binaryType != undefined);\n",
       "\n",
       "    if (!this.supports_binary) {\n",
       "        var warnings = document.getElementById(\"mpl-warnings\");\n",
       "        if (warnings) {\n",
       "            warnings.style.display = 'block';\n",
       "            warnings.textContent = (\n",
       "                \"This browser does not support binary websocket messages. \" +\n",
       "                    \"Performance may be slow.\");\n",
       "        }\n",
       "    }\n",
       "\n",
       "    this.imageObj = new Image();\n",
       "\n",
       "    this.context = undefined;\n",
       "    this.message = undefined;\n",
       "    this.canvas = undefined;\n",
       "    this.rubberband_canvas = undefined;\n",
       "    this.rubberband_context = undefined;\n",
       "    this.format_dropdown = undefined;\n",
       "\n",
       "    this.image_mode = 'full';\n",
       "\n",
       "    this.root = $('<div/>');\n",
       "    this._root_extra_style(this.root)\n",
       "    this.root.attr('style', 'display: inline-block');\n",
       "\n",
       "    $(parent_element).append(this.root);\n",
       "\n",
       "    this._init_header(this);\n",
       "    this._init_canvas(this);\n",
       "    this._init_toolbar(this);\n",
       "\n",
       "    var fig = this;\n",
       "\n",
       "    this.waiting = false;\n",
       "\n",
       "    this.ws.onopen =  function () {\n",
       "            fig.send_message(\"supports_binary\", {value: fig.supports_binary});\n",
       "            fig.send_message(\"send_image_mode\", {});\n",
       "            if (mpl.ratio != 1) {\n",
       "                fig.send_message(\"set_dpi_ratio\", {'dpi_ratio': mpl.ratio});\n",
       "            }\n",
       "            fig.send_message(\"refresh\", {});\n",
       "        }\n",
       "\n",
       "    this.imageObj.onload = function() {\n",
       "            if (fig.image_mode == 'full') {\n",
       "                // Full images could contain transparency (where diff images\n",
       "                // almost always do), so we need to clear the canvas so that\n",
       "                // there is no ghosting.\n",
       "                fig.context.clearRect(0, 0, fig.canvas.width, fig.canvas.height);\n",
       "            }\n",
       "            fig.context.drawImage(fig.imageObj, 0, 0);\n",
       "        };\n",
       "\n",
       "    this.imageObj.onunload = function() {\n",
       "        fig.ws.close();\n",
       "    }\n",
       "\n",
       "    this.ws.onmessage = this._make_on_message_function(this);\n",
       "\n",
       "    this.ondownload = ondownload;\n",
       "}\n",
       "\n",
       "mpl.figure.prototype._init_header = function() {\n",
       "    var titlebar = $(\n",
       "        '<div class=\"ui-dialog-titlebar ui-widget-header ui-corner-all ' +\n",
       "        'ui-helper-clearfix\"/>');\n",
       "    var titletext = $(\n",
       "        '<div class=\"ui-dialog-title\" style=\"width: 100%; ' +\n",
       "        'text-align: center; padding: 3px;\"/>');\n",
       "    titlebar.append(titletext)\n",
       "    this.root.append(titlebar);\n",
       "    this.header = titletext[0];\n",
       "}\n",
       "\n",
       "\n",
       "\n",
       "mpl.figure.prototype._canvas_extra_style = function(canvas_div) {\n",
       "\n",
       "}\n",
       "\n",
       "\n",
       "mpl.figure.prototype._root_extra_style = function(canvas_div) {\n",
       "\n",
       "}\n",
       "\n",
       "mpl.figure.prototype._init_canvas = function() {\n",
       "    var fig = this;\n",
       "\n",
       "    var canvas_div = $('<div/>');\n",
       "\n",
       "    canvas_div.attr('style', 'position: relative; clear: both; outline: 0');\n",
       "\n",
       "    function canvas_keyboard_event(event) {\n",
       "        return fig.key_event(event, event['data']);\n",
       "    }\n",
       "\n",
       "    canvas_div.keydown('key_press', canvas_keyboard_event);\n",
       "    canvas_div.keyup('key_release', canvas_keyboard_event);\n",
       "    this.canvas_div = canvas_div\n",
       "    this._canvas_extra_style(canvas_div)\n",
       "    this.root.append(canvas_div);\n",
       "\n",
       "    var canvas = $('<canvas/>');\n",
       "    canvas.addClass('mpl-canvas');\n",
       "    canvas.attr('style', \"left: 0; top: 0; z-index: 0; outline: 0\")\n",
       "\n",
       "    this.canvas = canvas[0];\n",
       "    this.context = canvas[0].getContext(\"2d\");\n",
       "\n",
       "    var backingStore = this.context.backingStorePixelRatio ||\n",
       "\tthis.context.webkitBackingStorePixelRatio ||\n",
       "\tthis.context.mozBackingStorePixelRatio ||\n",
       "\tthis.context.msBackingStorePixelRatio ||\n",
       "\tthis.context.oBackingStorePixelRatio ||\n",
       "\tthis.context.backingStorePixelRatio || 1;\n",
       "\n",
       "    mpl.ratio = (window.devicePixelRatio || 1) / backingStore;\n",
       "\n",
       "    var rubberband = $('<canvas/>');\n",
       "    rubberband.attr('style', \"position: absolute; left: 0; top: 0; z-index: 1;\")\n",
       "\n",
       "    var pass_mouse_events = true;\n",
       "\n",
       "    canvas_div.resizable({\n",
       "        start: function(event, ui) {\n",
       "            pass_mouse_events = false;\n",
       "        },\n",
       "        resize: function(event, ui) {\n",
       "            fig.request_resize(ui.size.width, ui.size.height);\n",
       "        },\n",
       "        stop: function(event, ui) {\n",
       "            pass_mouse_events = true;\n",
       "            fig.request_resize(ui.size.width, ui.size.height);\n",
       "        },\n",
       "    });\n",
       "\n",
       "    function mouse_event_fn(event) {\n",
       "        if (pass_mouse_events)\n",
       "            return fig.mouse_event(event, event['data']);\n",
       "    }\n",
       "\n",
       "    rubberband.mousedown('button_press', mouse_event_fn);\n",
       "    rubberband.mouseup('button_release', mouse_event_fn);\n",
       "    // Throttle sequential mouse events to 1 every 20ms.\n",
       "    rubberband.mousemove('motion_notify', mouse_event_fn);\n",
       "\n",
       "    rubberband.mouseenter('figure_enter', mouse_event_fn);\n",
       "    rubberband.mouseleave('figure_leave', mouse_event_fn);\n",
       "\n",
       "    canvas_div.on(\"wheel\", function (event) {\n",
       "        event = event.originalEvent;\n",
       "        event['data'] = 'scroll'\n",
       "        if (event.deltaY < 0) {\n",
       "            event.step = 1;\n",
       "        } else {\n",
       "            event.step = -1;\n",
       "        }\n",
       "        mouse_event_fn(event);\n",
       "    });\n",
       "\n",
       "    canvas_div.append(canvas);\n",
       "    canvas_div.append(rubberband);\n",
       "\n",
       "    this.rubberband = rubberband;\n",
       "    this.rubberband_canvas = rubberband[0];\n",
       "    this.rubberband_context = rubberband[0].getContext(\"2d\");\n",
       "    this.rubberband_context.strokeStyle = \"#000000\";\n",
       "\n",
       "    this._resize_canvas = function(width, height) {\n",
       "        // Keep the size of the canvas, canvas container, and rubber band\n",
       "        // canvas in synch.\n",
       "        canvas_div.css('width', width)\n",
       "        canvas_div.css('height', height)\n",
       "\n",
       "        canvas.attr('width', width * mpl.ratio);\n",
       "        canvas.attr('height', height * mpl.ratio);\n",
       "        canvas.attr('style', 'width: ' + width + 'px; height: ' + height + 'px;');\n",
       "\n",
       "        rubberband.attr('width', width);\n",
       "        rubberband.attr('height', height);\n",
       "    }\n",
       "\n",
       "    // Set the figure to an initial 600x600px, this will subsequently be updated\n",
       "    // upon first draw.\n",
       "    this._resize_canvas(600, 600);\n",
       "\n",
       "    // Disable right mouse context menu.\n",
       "    $(this.rubberband_canvas).bind(\"contextmenu\",function(e){\n",
       "        return false;\n",
       "    });\n",
       "\n",
       "    function set_focus () {\n",
       "        canvas.focus();\n",
       "        canvas_div.focus();\n",
       "    }\n",
       "\n",
       "    window.setTimeout(set_focus, 100);\n",
       "}\n",
       "\n",
       "mpl.figure.prototype._init_toolbar = function() {\n",
       "    var fig = this;\n",
       "\n",
       "    var nav_element = $('<div/>');\n",
       "    nav_element.attr('style', 'width: 100%');\n",
       "    this.root.append(nav_element);\n",
       "\n",
       "    // Define a callback function for later on.\n",
       "    function toolbar_event(event) {\n",
       "        return fig.toolbar_button_onclick(event['data']);\n",
       "    }\n",
       "    function toolbar_mouse_event(event) {\n",
       "        return fig.toolbar_button_onmouseover(event['data']);\n",
       "    }\n",
       "\n",
       "    for(var toolbar_ind in mpl.toolbar_items) {\n",
       "        var name = mpl.toolbar_items[toolbar_ind][0];\n",
       "        var tooltip = mpl.toolbar_items[toolbar_ind][1];\n",
       "        var image = mpl.toolbar_items[toolbar_ind][2];\n",
       "        var method_name = mpl.toolbar_items[toolbar_ind][3];\n",
       "\n",
       "        if (!name) {\n",
       "            // put a spacer in here.\n",
       "            continue;\n",
       "        }\n",
       "        var button = $('<button/>');\n",
       "        button.addClass('ui-button ui-widget ui-state-default ui-corner-all ' +\n",
       "                        'ui-button-icon-only');\n",
       "        button.attr('role', 'button');\n",
       "        button.attr('aria-disabled', 'false');\n",
       "        button.click(method_name, toolbar_event);\n",
       "        button.mouseover(tooltip, toolbar_mouse_event);\n",
       "\n",
       "        var icon_img = $('<span/>');\n",
       "        icon_img.addClass('ui-button-icon-primary ui-icon');\n",
       "        icon_img.addClass(image);\n",
       "        icon_img.addClass('ui-corner-all');\n",
       "\n",
       "        var tooltip_span = $('<span/>');\n",
       "        tooltip_span.addClass('ui-button-text');\n",
       "        tooltip_span.html(tooltip);\n",
       "\n",
       "        button.append(icon_img);\n",
       "        button.append(tooltip_span);\n",
       "\n",
       "        nav_element.append(button);\n",
       "    }\n",
       "\n",
       "    var fmt_picker_span = $('<span/>');\n",
       "\n",
       "    var fmt_picker = $('<select/>');\n",
       "    fmt_picker.addClass('mpl-toolbar-option ui-widget ui-widget-content');\n",
       "    fmt_picker_span.append(fmt_picker);\n",
       "    nav_element.append(fmt_picker_span);\n",
       "    this.format_dropdown = fmt_picker[0];\n",
       "\n",
       "    for (var ind in mpl.extensions) {\n",
       "        var fmt = mpl.extensions[ind];\n",
       "        var option = $(\n",
       "            '<option/>', {selected: fmt === mpl.default_extension}).html(fmt);\n",
       "        fmt_picker.append(option);\n",
       "    }\n",
       "\n",
       "    // Add hover states to the ui-buttons\n",
       "    $( \".ui-button\" ).hover(\n",
       "        function() { $(this).addClass(\"ui-state-hover\");},\n",
       "        function() { $(this).removeClass(\"ui-state-hover\");}\n",
       "    );\n",
       "\n",
       "    var status_bar = $('<span class=\"mpl-message\"/>');\n",
       "    nav_element.append(status_bar);\n",
       "    this.message = status_bar[0];\n",
       "}\n",
       "\n",
       "mpl.figure.prototype.request_resize = function(x_pixels, y_pixels) {\n",
       "    // Request matplotlib to resize the figure. Matplotlib will then trigger a resize in the client,\n",
       "    // which will in turn request a refresh of the image.\n",
       "    this.send_message('resize', {'width': x_pixels, 'height': y_pixels});\n",
       "}\n",
       "\n",
       "mpl.figure.prototype.send_message = function(type, properties) {\n",
       "    properties['type'] = type;\n",
       "    properties['figure_id'] = this.id;\n",
       "    this.ws.send(JSON.stringify(properties));\n",
       "}\n",
       "\n",
       "mpl.figure.prototype.send_draw_message = function() {\n",
       "    if (!this.waiting) {\n",
       "        this.waiting = true;\n",
       "        this.ws.send(JSON.stringify({type: \"draw\", figure_id: this.id}));\n",
       "    }\n",
       "}\n",
       "\n",
       "\n",
       "mpl.figure.prototype.handle_save = function(fig, msg) {\n",
       "    var format_dropdown = fig.format_dropdown;\n",
       "    var format = format_dropdown.options[format_dropdown.selectedIndex].value;\n",
       "    fig.ondownload(fig, format);\n",
       "}\n",
       "\n",
       "\n",
       "mpl.figure.prototype.handle_resize = function(fig, msg) {\n",
       "    var size = msg['size'];\n",
       "    if (size[0] != fig.canvas.width || size[1] != fig.canvas.height) {\n",
       "        fig._resize_canvas(size[0], size[1]);\n",
       "        fig.send_message(\"refresh\", {});\n",
       "    };\n",
       "}\n",
       "\n",
       "mpl.figure.prototype.handle_rubberband = function(fig, msg) {\n",
       "    var x0 = msg['x0'] / mpl.ratio;\n",
       "    var y0 = (fig.canvas.height - msg['y0']) / mpl.ratio;\n",
       "    var x1 = msg['x1'] / mpl.ratio;\n",
       "    var y1 = (fig.canvas.height - msg['y1']) / mpl.ratio;\n",
       "    x0 = Math.floor(x0) + 0.5;\n",
       "    y0 = Math.floor(y0) + 0.5;\n",
       "    x1 = Math.floor(x1) + 0.5;\n",
       "    y1 = Math.floor(y1) + 0.5;\n",
       "    var min_x = Math.min(x0, x1);\n",
       "    var min_y = Math.min(y0, y1);\n",
       "    var width = Math.abs(x1 - x0);\n",
       "    var height = Math.abs(y1 - y0);\n",
       "\n",
       "    fig.rubberband_context.clearRect(\n",
       "        0, 0, fig.canvas.width / mpl.ratio, fig.canvas.height / mpl.ratio);\n",
       "\n",
       "    fig.rubberband_context.strokeRect(min_x, min_y, width, height);\n",
       "}\n",
       "\n",
       "mpl.figure.prototype.handle_figure_label = function(fig, msg) {\n",
       "    // Updates the figure title.\n",
       "    fig.header.textContent = msg['label'];\n",
       "}\n",
       "\n",
       "mpl.figure.prototype.handle_cursor = function(fig, msg) {\n",
       "    var cursor = msg['cursor'];\n",
       "    switch(cursor)\n",
       "    {\n",
       "    case 0:\n",
       "        cursor = 'pointer';\n",
       "        break;\n",
       "    case 1:\n",
       "        cursor = 'default';\n",
       "        break;\n",
       "    case 2:\n",
       "        cursor = 'crosshair';\n",
       "        break;\n",
       "    case 3:\n",
       "        cursor = 'move';\n",
       "        break;\n",
       "    }\n",
       "    fig.rubberband_canvas.style.cursor = cursor;\n",
       "}\n",
       "\n",
       "mpl.figure.prototype.handle_message = function(fig, msg) {\n",
       "    fig.message.textContent = msg['message'];\n",
       "}\n",
       "\n",
       "mpl.figure.prototype.handle_draw = function(fig, msg) {\n",
       "    // Request the server to send over a new figure.\n",
       "    fig.send_draw_message();\n",
       "}\n",
       "\n",
       "mpl.figure.prototype.handle_image_mode = function(fig, msg) {\n",
       "    fig.image_mode = msg['mode'];\n",
       "}\n",
       "\n",
       "mpl.figure.prototype.updated_canvas_event = function() {\n",
       "    // Called whenever the canvas gets updated.\n",
       "    this.send_message(\"ack\", {});\n",
       "}\n",
       "\n",
       "// A function to construct a web socket function for onmessage handling.\n",
       "// Called in the figure constructor.\n",
       "mpl.figure.prototype._make_on_message_function = function(fig) {\n",
       "    return function socket_on_message(evt) {\n",
       "        if (evt.data instanceof Blob) {\n",
       "            /* FIXME: We get \"Resource interpreted as Image but\n",
       "             * transferred with MIME type text/plain:\" errors on\n",
       "             * Chrome.  But how to set the MIME type?  It doesn't seem\n",
       "             * to be part of the websocket stream */\n",
       "            evt.data.type = \"image/png\";\n",
       "\n",
       "            /* Free the memory for the previous frames */\n",
       "            if (fig.imageObj.src) {\n",
       "                (window.URL || window.webkitURL).revokeObjectURL(\n",
       "                    fig.imageObj.src);\n",
       "            }\n",
       "\n",
       "            fig.imageObj.src = (window.URL || window.webkitURL).createObjectURL(\n",
       "                evt.data);\n",
       "            fig.updated_canvas_event();\n",
       "            fig.waiting = false;\n",
       "            return;\n",
       "        }\n",
       "        else if (typeof evt.data === 'string' && evt.data.slice(0, 21) == \"data:image/png;base64\") {\n",
       "            fig.imageObj.src = evt.data;\n",
       "            fig.updated_canvas_event();\n",
       "            fig.waiting = false;\n",
       "            return;\n",
       "        }\n",
       "\n",
       "        var msg = JSON.parse(evt.data);\n",
       "        var msg_type = msg['type'];\n",
       "\n",
       "        // Call the  \"handle_{type}\" callback, which takes\n",
       "        // the figure and JSON message as its only arguments.\n",
       "        try {\n",
       "            var callback = fig[\"handle_\" + msg_type];\n",
       "        } catch (e) {\n",
       "            console.log(\"No handler for the '\" + msg_type + \"' message type: \", msg);\n",
       "            return;\n",
       "        }\n",
       "\n",
       "        if (callback) {\n",
       "            try {\n",
       "                // console.log(\"Handling '\" + msg_type + \"' message: \", msg);\n",
       "                callback(fig, msg);\n",
       "            } catch (e) {\n",
       "                console.log(\"Exception inside the 'handler_\" + msg_type + \"' callback:\", e, e.stack, msg);\n",
       "            }\n",
       "        }\n",
       "    };\n",
       "}\n",
       "\n",
       "// from http://stackoverflow.com/questions/1114465/getting-mouse-location-in-canvas\n",
       "mpl.findpos = function(e) {\n",
       "    //this section is from http://www.quirksmode.org/js/events_properties.html\n",
       "    var targ;\n",
       "    if (!e)\n",
       "        e = window.event;\n",
       "    if (e.target)\n",
       "        targ = e.target;\n",
       "    else if (e.srcElement)\n",
       "        targ = e.srcElement;\n",
       "    if (targ.nodeType == 3) // defeat Safari bug\n",
       "        targ = targ.parentNode;\n",
       "\n",
       "    // jQuery normalizes the pageX and pageY\n",
       "    // pageX,Y are the mouse positions relative to the document\n",
       "    // offset() returns the position of the element relative to the document\n",
       "    var x = e.pageX - $(targ).offset().left;\n",
       "    var y = e.pageY - $(targ).offset().top;\n",
       "\n",
       "    return {\"x\": x, \"y\": y};\n",
       "};\n",
       "\n",
       "/*\n",
       " * return a copy of an object with only non-object keys\n",
       " * we need this to avoid circular references\n",
       " * http://stackoverflow.com/a/24161582/3208463\n",
       " */\n",
       "function simpleKeys (original) {\n",
       "  return Object.keys(original).reduce(function (obj, key) {\n",
       "    if (typeof original[key] !== 'object')\n",
       "        obj[key] = original[key]\n",
       "    return obj;\n",
       "  }, {});\n",
       "}\n",
       "\n",
       "mpl.figure.prototype.mouse_event = function(event, name) {\n",
       "    var canvas_pos = mpl.findpos(event)\n",
       "\n",
       "    if (name === 'button_press')\n",
       "    {\n",
       "        this.canvas.focus();\n",
       "        this.canvas_div.focus();\n",
       "    }\n",
       "\n",
       "    var x = canvas_pos.x * mpl.ratio;\n",
       "    var y = canvas_pos.y * mpl.ratio;\n",
       "\n",
       "    this.send_message(name, {x: x, y: y, button: event.button,\n",
       "                             step: event.step,\n",
       "                             guiEvent: simpleKeys(event)});\n",
       "\n",
       "    /* This prevents the web browser from automatically changing to\n",
       "     * the text insertion cursor when the button is pressed.  We want\n",
       "     * to control all of the cursor setting manually through the\n",
       "     * 'cursor' event from matplotlib */\n",
       "    event.preventDefault();\n",
       "    return false;\n",
       "}\n",
       "\n",
       "mpl.figure.prototype._key_event_extra = function(event, name) {\n",
       "    // Handle any extra behaviour associated with a key event\n",
       "}\n",
       "\n",
       "mpl.figure.prototype.key_event = function(event, name) {\n",
       "\n",
       "    // Prevent repeat events\n",
       "    if (name == 'key_press')\n",
       "    {\n",
       "        if (event.which === this._key)\n",
       "            return;\n",
       "        else\n",
       "            this._key = event.which;\n",
       "    }\n",
       "    if (name == 'key_release')\n",
       "        this._key = null;\n",
       "\n",
       "    var value = '';\n",
       "    if (event.ctrlKey && event.which != 17)\n",
       "        value += \"ctrl+\";\n",
       "    if (event.altKey && event.which != 18)\n",
       "        value += \"alt+\";\n",
       "    if (event.shiftKey && event.which != 16)\n",
       "        value += \"shift+\";\n",
       "\n",
       "    value += 'k';\n",
       "    value += event.which.toString();\n",
       "\n",
       "    this._key_event_extra(event, name);\n",
       "\n",
       "    this.send_message(name, {key: value,\n",
       "                             guiEvent: simpleKeys(event)});\n",
       "    return false;\n",
       "}\n",
       "\n",
       "mpl.figure.prototype.toolbar_button_onclick = function(name) {\n",
       "    if (name == 'download') {\n",
       "        this.handle_save(this, null);\n",
       "    } else {\n",
       "        this.send_message(\"toolbar_button\", {name: name});\n",
       "    }\n",
       "};\n",
       "\n",
       "mpl.figure.prototype.toolbar_button_onmouseover = function(tooltip) {\n",
       "    this.message.textContent = tooltip;\n",
       "};\n",
       "mpl.toolbar_items = [[\"Home\", \"Reset original view\", \"fa fa-home icon-home\", \"home\"], [\"Back\", \"Back to previous view\", \"fa fa-arrow-left icon-arrow-left\", \"back\"], [\"Forward\", \"Forward to next view\", \"fa fa-arrow-right icon-arrow-right\", \"forward\"], [\"\", \"\", \"\", \"\"], [\"Pan\", \"Pan axes with left mouse, zoom with right\", \"fa fa-arrows icon-move\", \"pan\"], [\"Zoom\", \"Zoom to rectangle\", \"fa fa-square-o icon-check-empty\", \"zoom\"], [\"\", \"\", \"\", \"\"], [\"Download\", \"Download plot\", \"fa fa-floppy-o icon-save\", \"download\"]];\n",
       "\n",
       "mpl.extensions = [\"eps\", \"jpeg\", \"pdf\", \"png\", \"ps\", \"raw\", \"svg\", \"tif\"];\n",
       "\n",
       "mpl.default_extension = \"png\";var comm_websocket_adapter = function(comm) {\n",
       "    // Create a \"websocket\"-like object which calls the given IPython comm\n",
       "    // object with the appropriate methods. Currently this is a non binary\n",
       "    // socket, so there is still some room for performance tuning.\n",
       "    var ws = {};\n",
       "\n",
       "    ws.close = function() {\n",
       "        comm.close()\n",
       "    };\n",
       "    ws.send = function(m) {\n",
       "        //console.log('sending', m);\n",
       "        comm.send(m);\n",
       "    };\n",
       "    // Register the callback with on_msg.\n",
       "    comm.on_msg(function(msg) {\n",
       "        //console.log('receiving', msg['content']['data'], msg);\n",
       "        // Pass the mpl event to the overridden (by mpl) onmessage function.\n",
       "        ws.onmessage(msg['content']['data'])\n",
       "    });\n",
       "    return ws;\n",
       "}\n",
       "\n",
       "mpl.mpl_figure_comm = function(comm, msg) {\n",
       "    // This is the function which gets called when the mpl process\n",
       "    // starts-up an IPython Comm through the \"matplotlib\" channel.\n",
       "\n",
       "    var id = msg.content.data.id;\n",
       "    // Get hold of the div created by the display call when the Comm\n",
       "    // socket was opened in Python.\n",
       "    var element = $(\"#\" + id);\n",
       "    var ws_proxy = comm_websocket_adapter(comm)\n",
       "\n",
       "    function ondownload(figure, format) {\n",
       "        window.open(figure.imageObj.src);\n",
       "    }\n",
       "\n",
       "    var fig = new mpl.figure(id, ws_proxy,\n",
       "                           ondownload,\n",
       "                           element.get(0));\n",
       "\n",
       "    // Call onopen now - mpl needs it, as it is assuming we've passed it a real\n",
       "    // web socket which is closed, not our websocket->open comm proxy.\n",
       "    ws_proxy.onopen();\n",
       "\n",
       "    fig.parent_element = element.get(0);\n",
       "    fig.cell_info = mpl.find_output_cell(\"<div id='\" + id + \"'></div>\");\n",
       "    if (!fig.cell_info) {\n",
       "        console.error(\"Failed to find cell for figure\", id, fig);\n",
       "        return;\n",
       "    }\n",
       "\n",
       "    var output_index = fig.cell_info[2]\n",
       "    var cell = fig.cell_info[0];\n",
       "\n",
       "};\n",
       "\n",
       "mpl.figure.prototype.handle_close = function(fig, msg) {\n",
       "    var width = fig.canvas.width/mpl.ratio\n",
       "    fig.root.unbind('remove')\n",
       "\n",
       "    // Update the output cell to use the data from the current canvas.\n",
       "    fig.push_to_output();\n",
       "    var dataURL = fig.canvas.toDataURL();\n",
       "    // Re-enable the keyboard manager in IPython - without this line, in FF,\n",
       "    // the notebook keyboard shortcuts fail.\n",
       "    IPython.keyboard_manager.enable()\n",
       "    $(fig.parent_element).html('<img src=\"' + dataURL + '\" width=\"' + width + '\">');\n",
       "    fig.close_ws(fig, msg);\n",
       "}\n",
       "\n",
       "mpl.figure.prototype.close_ws = function(fig, msg){\n",
       "    fig.send_message('closing', msg);\n",
       "    // fig.ws.close()\n",
       "}\n",
       "\n",
       "mpl.figure.prototype.push_to_output = function(remove_interactive) {\n",
       "    // Turn the data on the canvas into data in the output cell.\n",
       "    var width = this.canvas.width/mpl.ratio\n",
       "    var dataURL = this.canvas.toDataURL();\n",
       "    this.cell_info[1]['text/html'] = '<img src=\"' + dataURL + '\" width=\"' + width + '\">';\n",
       "}\n",
       "\n",
       "mpl.figure.prototype.updated_canvas_event = function() {\n",
       "    // Tell IPython that the notebook contents must change.\n",
       "    IPython.notebook.set_dirty(true);\n",
       "    this.send_message(\"ack\", {});\n",
       "    var fig = this;\n",
       "    // Wait a second, then push the new image to the DOM so\n",
       "    // that it is saved nicely (might be nice to debounce this).\n",
       "    setTimeout(function () { fig.push_to_output() }, 1000);\n",
       "}\n",
       "\n",
       "mpl.figure.prototype._init_toolbar = function() {\n",
       "    var fig = this;\n",
       "\n",
       "    var nav_element = $('<div/>');\n",
       "    nav_element.attr('style', 'width: 100%');\n",
       "    this.root.append(nav_element);\n",
       "\n",
       "    // Define a callback function for later on.\n",
       "    function toolbar_event(event) {\n",
       "        return fig.toolbar_button_onclick(event['data']);\n",
       "    }\n",
       "    function toolbar_mouse_event(event) {\n",
       "        return fig.toolbar_button_onmouseover(event['data']);\n",
       "    }\n",
       "\n",
       "    for(var toolbar_ind in mpl.toolbar_items){\n",
       "        var name = mpl.toolbar_items[toolbar_ind][0];\n",
       "        var tooltip = mpl.toolbar_items[toolbar_ind][1];\n",
       "        var image = mpl.toolbar_items[toolbar_ind][2];\n",
       "        var method_name = mpl.toolbar_items[toolbar_ind][3];\n",
       "\n",
       "        if (!name) { continue; };\n",
       "\n",
       "        var button = $('<button class=\"btn btn-default\" href=\"#\" title=\"' + name + '\"><i class=\"fa ' + image + ' fa-lg\"></i></button>');\n",
       "        button.click(method_name, toolbar_event);\n",
       "        button.mouseover(tooltip, toolbar_mouse_event);\n",
       "        nav_element.append(button);\n",
       "    }\n",
       "\n",
       "    // Add the status bar.\n",
       "    var status_bar = $('<span class=\"mpl-message\" style=\"text-align:right; float: right;\"/>');\n",
       "    nav_element.append(status_bar);\n",
       "    this.message = status_bar[0];\n",
       "\n",
       "    // Add the close button to the window.\n",
       "    var buttongrp = $('<div class=\"btn-group inline pull-right\"></div>');\n",
       "    var button = $('<button class=\"btn btn-mini btn-primary\" href=\"#\" title=\"Stop Interaction\"><i class=\"fa fa-power-off icon-remove icon-large\"></i></button>');\n",
       "    button.click(function (evt) { fig.handle_close(fig, {}); } );\n",
       "    button.mouseover('Stop Interaction', toolbar_mouse_event);\n",
       "    buttongrp.append(button);\n",
       "    var titlebar = this.root.find($('.ui-dialog-titlebar'));\n",
       "    titlebar.prepend(buttongrp);\n",
       "}\n",
       "\n",
       "mpl.figure.prototype._root_extra_style = function(el){\n",
       "    var fig = this\n",
       "    el.on(\"remove\", function(){\n",
       "\tfig.close_ws(fig, {});\n",
       "    });\n",
       "}\n",
       "\n",
       "mpl.figure.prototype._canvas_extra_style = function(el){\n",
       "    // this is important to make the div 'focusable\n",
       "    el.attr('tabindex', 0)\n",
       "    // reach out to IPython and tell the keyboard manager to turn it's self\n",
       "    // off when our div gets focus\n",
       "\n",
       "    // location in version 3\n",
       "    if (IPython.notebook.keyboard_manager) {\n",
       "        IPython.notebook.keyboard_manager.register_events(el);\n",
       "    }\n",
       "    else {\n",
       "        // location in version 2\n",
       "        IPython.keyboard_manager.register_events(el);\n",
       "    }\n",
       "\n",
       "}\n",
       "\n",
       "mpl.figure.prototype._key_event_extra = function(event, name) {\n",
       "    var manager = IPython.notebook.keyboard_manager;\n",
       "    if (!manager)\n",
       "        manager = IPython.keyboard_manager;\n",
       "\n",
       "    // Check for shift+enter\n",
       "    if (event.shiftKey && event.which == 13) {\n",
       "        this.canvas_div.blur();\n",
       "        // select the cell after this one\n",
       "        var index = IPython.notebook.find_cell_index(this.cell_info[0]);\n",
       "        IPython.notebook.select(index + 1);\n",
       "    }\n",
       "}\n",
       "\n",
       "mpl.figure.prototype.handle_save = function(fig, msg) {\n",
       "    fig.ondownload(fig, null);\n",
       "}\n",
       "\n",
       "\n",
       "mpl.find_output_cell = function(html_output) {\n",
       "    // Return the cell and output element which can be found *uniquely* in the notebook.\n",
       "    // Note - this is a bit hacky, but it is done because the \"notebook_saving.Notebook\"\n",
       "    // IPython event is triggered only after the cells have been serialised, which for\n",
       "    // our purposes (turning an active figure into a static one), is too late.\n",
       "    var cells = IPython.notebook.get_cells();\n",
       "    var ncells = cells.length;\n",
       "    for (var i=0; i<ncells; i++) {\n",
       "        var cell = cells[i];\n",
       "        if (cell.cell_type === 'code'){\n",
       "            for (var j=0; j<cell.output_area.outputs.length; j++) {\n",
       "                var data = cell.output_area.outputs[j];\n",
       "                if (data.data) {\n",
       "                    // IPython >= 3 moved mimebundle to data attribute of output\n",
       "                    data = data.data;\n",
       "                }\n",
       "                if (data['text/html'] == html_output) {\n",
       "                    return [cell, data, j];\n",
       "                }\n",
       "            }\n",
       "        }\n",
       "    }\n",
       "}\n",
       "\n",
       "// Register the function which deals with the matplotlib target/channel.\n",
       "// The kernel may be null if the page has been refreshed.\n",
       "if (IPython.notebook.kernel != null) {\n",
       "    IPython.notebook.kernel.comm_manager.register_target('matplotlib', mpl.mpl_figure_comm);\n",
       "}\n"
      ],
      "text/plain": [
       "<IPython.core.display.Javascript object>"
      ]
     },
     "metadata": {},
     "output_type": "display_data"
    },
    {
     "data": {
      "text/html": [
       "<img src=\"data:image/png;base64,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\" width=\"1200\">"
      ],
      "text/plain": [
       "<IPython.core.display.HTML object>"
      ]
     },
     "metadata": {},
     "output_type": "display_data"
    },
    {
     "data": {
      "application/vnd.jupyter.widget-view+json": {
       "model_id": "b3437187f2a54223ade5ea3e86a51c6e",
       "version_major": 2,
       "version_minor": 0
      },
      "text/plain": [
       "HBox(children=(FloatProgress(value=0.0, max=500.0), HTML(value='')))"
      ]
     },
     "metadata": {},
     "output_type": "display_data"
    },
    {
     "data": {
      "application/vnd.jupyter.widget-view+json": {
       "model_id": "",
       "version_major": 2,
       "version_minor": 0
      },
      "text/plain": [
       "HBox(children=(FloatProgress(value=0.0, description='ILQR', max=2.0, style=ProgressStyle(description_width='in…"
      ]
     },
     "metadata": {},
     "output_type": "display_data"
    },
    {
     "data": {
      "application/vnd.jupyter.widget-view+json": {
       "model_id": "",
       "version_major": 2,
       "version_minor": 0
      },
      "text/plain": [
       "HBox(children=(FloatProgress(value=0.0, description='backward', max=66.0, style=ProgressStyle(description_widt…"
      ]
     },
     "metadata": {},
     "output_type": "display_data"
    },
    {
     "data": {
      "application/vnd.jupyter.widget-view+json": {
       "model_id": "",
       "version_major": 2,
       "version_minor": 0
      },
      "text/plain": [
       "HBox(children=(FloatProgress(value=0.0, description='forward', max=66.0, style=ProgressStyle(description_width…"
      ]
     },
     "metadata": {},
     "output_type": "display_data"
    },
    {
     "data": {
      "application/vnd.jupyter.widget-view+json": {
       "model_id": "",
       "version_major": 2,
       "version_minor": 0
      },
      "text/plain": [
       "HBox(children=(FloatProgress(value=0.0, description='backward', max=66.0, style=ProgressStyle(description_widt…"
      ]
     },
     "metadata": {},
     "output_type": "display_data"
    },
    {
     "data": {
      "application/vnd.jupyter.widget-view+json": {
       "model_id": "",
       "version_major": 2,
       "version_minor": 0
      },
      "text/plain": [
       "HBox(children=(FloatProgress(value=0.0, description='forward', max=66.0, style=ProgressStyle(description_width…"
      ]
     },
     "metadata": {},
     "output_type": "display_data"
    },
    {
     "name": "stderr",
     "output_type": "stream",
     "text": [
      "/home/zack/anaconda3/envs/ml/lib/python3.7/site-packages/ipykernel_launcher.py:66: UserWarning: Attempting to set identical left == right == 0 results in singular transformations; automatically expanding.\n",
      "/home/zack/anaconda3/envs/ml/lib/python3.7/site-packages/ipykernel_launcher.py:67: UserWarning: Attempting to set identical left == right == 0 results in singular transformations; automatically expanding.\n",
      "/home/zack/anaconda3/envs/ml/lib/python3.7/site-packages/ipykernel_launcher.py:68: UserWarning: Attempting to set identical left == right == 0 results in singular transformations; automatically expanding.\n"
     ]
    },
    {
     "data": {
      "application/vnd.jupyter.widget-view+json": {
       "model_id": "",
       "version_major": 2,
       "version_minor": 0
      },
      "text/plain": [
       "HBox(children=(FloatProgress(value=0.0, description='ILQR', max=2.0, style=ProgressStyle(description_width='in…"
      ]
     },
     "metadata": {},
     "output_type": "display_data"
    },
    {
     "data": {
      "application/vnd.jupyter.widget-view+json": {
       "model_id": "",
       "version_major": 2,
       "version_minor": 0
      },
      "text/plain": [
       "HBox(children=(FloatProgress(value=0.0, description='backward', max=66.0, style=ProgressStyle(description_widt…"
      ]
     },
     "metadata": {},
     "output_type": "display_data"
    },
    {
     "data": {
      "application/vnd.jupyter.widget-view+json": {
       "model_id": "",
       "version_major": 2,
       "version_minor": 0
      },
      "text/plain": [
       "HBox(children=(FloatProgress(value=0.0, description='forward', max=66.0, style=ProgressStyle(description_width…"
      ]
     },
     "metadata": {},
     "output_type": "display_data"
    },
    {
     "data": {
      "application/vnd.jupyter.widget-view+json": {
       "model_id": "",
       "version_major": 2,
       "version_minor": 0
      },
      "text/plain": [
       "HBox(children=(FloatProgress(value=0.0, description='backward', max=66.0, style=ProgressStyle(description_widt…"
      ]
     },
     "metadata": {},
     "output_type": "display_data"
    },
    {
     "data": {
      "application/vnd.jupyter.widget-view+json": {
       "model_id": "",
       "version_major": 2,
       "version_minor": 0
      },
      "text/plain": [
       "HBox(children=(FloatProgress(value=0.0, description='forward', max=66.0, style=ProgressStyle(description_width…"
      ]
     },
     "metadata": {},
     "output_type": "display_data"
    },
    {
     "data": {
      "application/vnd.jupyter.widget-view+json": {
       "model_id": "",
       "version_major": 2,
       "version_minor": 0
      },
      "text/plain": [
       "HBox(children=(FloatProgress(value=0.0, description='ILQR', max=2.0, style=ProgressStyle(description_width='in…"
      ]
     },
     "metadata": {},
     "output_type": "display_data"
    },
    {
     "data": {
      "application/vnd.jupyter.widget-view+json": {
       "model_id": "",
       "version_major": 2,
       "version_minor": 0
      },
      "text/plain": [
       "HBox(children=(FloatProgress(value=0.0, description='backward', max=66.0, style=ProgressStyle(description_widt…"
      ]
     },
     "metadata": {},
     "output_type": "display_data"
    },
    {
     "data": {
      "application/vnd.jupyter.widget-view+json": {
       "model_id": "",
       "version_major": 2,
       "version_minor": 0
      },
      "text/plain": [
       "HBox(children=(FloatProgress(value=0.0, description='forward', max=66.0, style=ProgressStyle(description_width…"
      ]
     },
     "metadata": {},
     "output_type": "display_data"
    },
    {
     "data": {
      "application/vnd.jupyter.widget-view+json": {
       "model_id": "",
       "version_major": 2,
       "version_minor": 0
      },
      "text/plain": [
       "HBox(children=(FloatProgress(value=0.0, description='backward', max=66.0, style=ProgressStyle(description_widt…"
      ]
     },
     "metadata": {},
     "output_type": "display_data"
    },
    {
     "data": {
      "application/vnd.jupyter.widget-view+json": {
       "model_id": "",
       "version_major": 2,
       "version_minor": 0
      },
      "text/plain": [
       "HBox(children=(FloatProgress(value=0.0, description='forward', max=66.0, style=ProgressStyle(description_width…"
      ]
     },
     "metadata": {},
     "output_type": "display_data"
    },
    {
     "data": {
      "application/vnd.jupyter.widget-view+json": {
       "model_id": "",
       "version_major": 2,
       "version_minor": 0
      },
      "text/plain": [
       "HBox(children=(FloatProgress(value=0.0, description='ILQR', max=2.0, style=ProgressStyle(description_width='in…"
      ]
     },
     "metadata": {},
     "output_type": "display_data"
    },
    {
     "data": {
      "application/vnd.jupyter.widget-view+json": {
       "model_id": "",
       "version_major": 2,
       "version_minor": 0
      },
      "text/plain": [
       "HBox(children=(FloatProgress(value=0.0, description='backward', max=66.0, style=ProgressStyle(description_widt…"
      ]
     },
     "metadata": {},
     "output_type": "display_data"
    },
    {
     "data": {
      "application/vnd.jupyter.widget-view+json": {
       "model_id": "",
       "version_major": 2,
       "version_minor": 0
      },
      "text/plain": [
       "HBox(children=(FloatProgress(value=0.0, description='forward', max=66.0, style=ProgressStyle(description_width…"
      ]
     },
     "metadata": {},
     "output_type": "display_data"
    },
    {
     "data": {
      "application/vnd.jupyter.widget-view+json": {
       "model_id": "",
       "version_major": 2,
       "version_minor": 0
      },
      "text/plain": [
       "HBox(children=(FloatProgress(value=0.0, description='backward', max=66.0, style=ProgressStyle(description_widt…"
      ]
     },
     "metadata": {},
     "output_type": "display_data"
    },
    {
     "data": {
      "application/vnd.jupyter.widget-view+json": {
       "model_id": "",
       "version_major": 2,
       "version_minor": 0
      },
      "text/plain": [
       "HBox(children=(FloatProgress(value=0.0, description='forward', max=66.0, style=ProgressStyle(description_width…"
      ]
     },
     "metadata": {},
     "output_type": "display_data"
    },
    {
     "data": {
      "application/vnd.jupyter.widget-view+json": {
       "model_id": "",
       "version_major": 2,
       "version_minor": 0
      },
      "text/plain": [
       "HBox(children=(FloatProgress(value=0.0, description='ILQR', max=2.0, style=ProgressStyle(description_width='in…"
      ]
     },
     "metadata": {},
     "output_type": "display_data"
    },
    {
     "data": {
      "application/vnd.jupyter.widget-view+json": {
       "model_id": "",
       "version_major": 2,
       "version_minor": 0
      },
      "text/plain": [
       "HBox(children=(FloatProgress(value=0.0, description='backward', max=66.0, style=ProgressStyle(description_widt…"
      ]
     },
     "metadata": {},
     "output_type": "display_data"
    },
    {
     "data": {
      "application/vnd.jupyter.widget-view+json": {
       "model_id": "",
       "version_major": 2,
       "version_minor": 0
      },
      "text/plain": [
       "HBox(children=(FloatProgress(value=0.0, description='forward', max=66.0, style=ProgressStyle(description_width…"
      ]
     },
     "metadata": {},
     "output_type": "display_data"
    },
    {
     "data": {
      "application/vnd.jupyter.widget-view+json": {
       "model_id": "",
       "version_major": 2,
       "version_minor": 0
      },
      "text/plain": [
       "HBox(children=(FloatProgress(value=0.0, description='backward', max=66.0, style=ProgressStyle(description_widt…"
      ]
     },
     "metadata": {},
     "output_type": "display_data"
    },
    {
     "data": {
      "application/vnd.jupyter.widget-view+json": {
       "model_id": "",
       "version_major": 2,
       "version_minor": 0
      },
      "text/plain": [
       "HBox(children=(FloatProgress(value=0.0, description='forward', max=66.0, style=ProgressStyle(description_width…"
      ]
     },
     "metadata": {},
     "output_type": "display_data"
    },
    {
     "data": {
      "application/vnd.jupyter.widget-view+json": {
       "model_id": "",
       "version_major": 2,
       "version_minor": 0
      },
      "text/plain": [
       "HBox(children=(FloatProgress(value=0.0, description='ILQR', max=2.0, style=ProgressStyle(description_width='in…"
      ]
     },
     "metadata": {},
     "output_type": "display_data"
    },
    {
     "data": {
      "application/vnd.jupyter.widget-view+json": {
       "model_id": "",
       "version_major": 2,
       "version_minor": 0
      },
      "text/plain": [
       "HBox(children=(FloatProgress(value=0.0, description='backward', max=66.0, style=ProgressStyle(description_widt…"
      ]
     },
     "metadata": {},
     "output_type": "display_data"
    },
    {
     "data": {
      "application/vnd.jupyter.widget-view+json": {
       "model_id": "",
       "version_major": 2,
       "version_minor": 0
      },
      "text/plain": [
       "HBox(children=(FloatProgress(value=0.0, description='forward', max=66.0, style=ProgressStyle(description_width…"
      ]
     },
     "metadata": {},
     "output_type": "display_data"
    },
    {
     "data": {
      "application/vnd.jupyter.widget-view+json": {
       "model_id": "",
       "version_major": 2,
       "version_minor": 0
      },
      "text/plain": [
       "HBox(children=(FloatProgress(value=0.0, description='backward', max=66.0, style=ProgressStyle(description_widt…"
      ]
     },
     "metadata": {},
     "output_type": "display_data"
    },
    {
     "data": {
      "application/vnd.jupyter.widget-view+json": {
       "model_id": "",
       "version_major": 2,
       "version_minor": 0
      },
      "text/plain": [
       "HBox(children=(FloatProgress(value=0.0, description='forward', max=66.0, style=ProgressStyle(description_width…"
      ]
     },
     "metadata": {},
     "output_type": "display_data"
    },
    {
     "data": {
      "application/vnd.jupyter.widget-view+json": {
       "model_id": "f8d28cb9e94842b1aa7265f02f456261",
       "version_major": 2,
       "version_minor": 0
      },
      "text/plain": [
       "HBox(children=(FloatProgress(value=0.0, description='ILQR', max=2.0, style=ProgressStyle(description_width='in…"
      ]
     },
     "metadata": {},
     "output_type": "display_data"
    },
    {
     "data": {
      "application/vnd.jupyter.widget-view+json": {
       "model_id": "dcbaf156633e4edebd67e977e6846a2f",
       "version_major": 2,
       "version_minor": 0
      },
      "text/plain": [
       "HBox(children=(FloatProgress(value=0.0, description='backward', max=66.0, style=ProgressStyle(description_widt…"
      ]
     },
     "metadata": {},
     "output_type": "display_data"
    },
    {
     "name": "stdout",
     "output_type": "stream",
     "text": [
      "\n"
     ]
    },
    {
     "ename": "KeyboardInterrupt",
     "evalue": "",
     "output_type": "error",
     "traceback": [
      "\u001b[0;31m---------------------------------------------------------------------------\u001b[0m",
      "\u001b[0;31mKeyboardInterrupt\u001b[0m                         Traceback (most recent call last)",
      "\u001b[0;32m<ipython-input-7-64f1a39de755>\u001b[0m in \u001b[0;36m<module>\u001b[0;34m\u001b[0m\n\u001b[1;32m     24\u001b[0m \u001b[0mrender_controller\u001b[0m\u001b[0;34m.\u001b[0m\u001b[0mshow_window\u001b[0m\u001b[0;34m(\u001b[0m\u001b[0;34m)\u001b[0m\u001b[0;34m\u001b[0m\u001b[0;34m\u001b[0m\u001b[0m\n\u001b[1;32m     25\u001b[0m \u001b[0;32mfor\u001b[0m \u001b[0mi\u001b[0m \u001b[0;32min\u001b[0m \u001b[0mtrange\u001b[0m\u001b[0;34m(\u001b[0m\u001b[0;36m500\u001b[0m\u001b[0;34m)\u001b[0m\u001b[0;34m:\u001b[0m\u001b[0;34m\u001b[0m\u001b[0;34m\u001b[0m\u001b[0m\n\u001b[0;32m---> 26\u001b[0;31m     \u001b[0mx_seq\u001b[0m\u001b[0;34m,\u001b[0m \u001b[0mu_seq\u001b[0m\u001b[0;34m,\u001b[0m \u001b[0mpack_seq\u001b[0m \u001b[0;34m=\u001b[0m \u001b[0milqr\u001b[0m\u001b[0;34m.\u001b[0m\u001b[0mpredict\u001b[0m\u001b[0;34m(\u001b[0m\u001b[0mx_seq\u001b[0m\u001b[0;34m,\u001b[0m \u001b[0mu_seq\u001b[0m\u001b[0;34m,\u001b[0m \u001b[0mpack_seq\u001b[0m\u001b[0;34m)\u001b[0m\u001b[0;34m\u001b[0m\u001b[0;34m\u001b[0m\u001b[0m\n\u001b[0m\u001b[1;32m     27\u001b[0m \u001b[0;34m\u001b[0m\u001b[0m\n\u001b[1;32m     28\u001b[0m     \u001b[0mu\u001b[0m \u001b[0;34m=\u001b[0m \u001b[0mu_seq\u001b[0m\u001b[0;34m[\u001b[0m\u001b[0;36m0\u001b[0m\u001b[0;34m]\u001b[0m\u001b[0;34m\u001b[0m\u001b[0;34m\u001b[0m\u001b[0m\n",
      "\u001b[0;32m~/Desktop/SAPIEN-benchmark-ilqg/src/ilqr/ILQR.py\u001b[0m in \u001b[0;36mpredict\u001b[0;34m(self, x_seq, u_seq, packs)\u001b[0m\n\u001b[1;32m    193\u001b[0m         \u001b[0;32mfor\u001b[0m \u001b[0m_\u001b[0m \u001b[0;32min\u001b[0m \u001b[0mtrange\u001b[0m\u001b[0;34m(\u001b[0m\u001b[0mself\u001b[0m\u001b[0;34m.\u001b[0m\u001b[0mper_iter\u001b[0m\u001b[0;34m,\u001b[0m \u001b[0mdesc\u001b[0m\u001b[0;34m=\u001b[0m\u001b[0;34m'ILQR'\u001b[0m\u001b[0;34m,\u001b[0m \u001b[0mleave\u001b[0m\u001b[0;34m=\u001b[0m\u001b[0;32mFalse\u001b[0m\u001b[0;34m)\u001b[0m\u001b[0;34m:\u001b[0m\u001b[0;34m\u001b[0m\u001b[0;34m\u001b[0m\u001b[0m\n\u001b[1;32m    194\u001b[0m         \u001b[0;31m# for _ in range(self.per_iter):\u001b[0m\u001b[0;34m\u001b[0m\u001b[0;34m\u001b[0m\u001b[0;34m\u001b[0m\u001b[0m\n\u001b[0;32m--> 195\u001b[0;31m             \u001b[0mk_seq\u001b[0m\u001b[0;34m,\u001b[0m \u001b[0mkk_seq\u001b[0m \u001b[0;34m=\u001b[0m \u001b[0mself\u001b[0m\u001b[0;34m.\u001b[0m\u001b[0mcal_K\u001b[0m\u001b[0;34m(\u001b[0m\u001b[0mx_seq\u001b[0m\u001b[0;34m,\u001b[0m \u001b[0mu_seq\u001b[0m\u001b[0;34m)\u001b[0m\u001b[0;34m\u001b[0m\u001b[0;34m\u001b[0m\u001b[0m\n\u001b[0m\u001b[1;32m    196\u001b[0m \u001b[0;34m\u001b[0m\u001b[0m\n\u001b[1;32m    197\u001b[0m             \u001b[0;32mif\u001b[0m \u001b[0mself\u001b[0m\u001b[0;34m.\u001b[0m\u001b[0mmodel_sim\u001b[0m \u001b[0;32mis\u001b[0m \u001b[0;32mnot\u001b[0m \u001b[0;32mNone\u001b[0m\u001b[0;34m:\u001b[0m\u001b[0;34m\u001b[0m\u001b[0;34m\u001b[0m\u001b[0m\n",
      "\u001b[0;32m~/Desktop/SAPIEN-benchmark-ilqg/src/ilqr/ILQR.py\u001b[0m in \u001b[0;36mcal_K\u001b[0;34m(self, x_seq, u_seq)\u001b[0m\n\u001b[1;32m     92\u001b[0m \u001b[0;34m\u001b[0m\u001b[0m\n\u001b[1;32m     93\u001b[0m             \u001b[0mfx\u001b[0m \u001b[0;34m=\u001b[0m \u001b[0mself\u001b[0m\u001b[0;34m.\u001b[0m\u001b[0mf_x\u001b[0m\u001b[0;34m(\u001b[0m\u001b[0mx\u001b[0m\u001b[0;34m,\u001b[0m \u001b[0mu\u001b[0m\u001b[0;34m)\u001b[0m\u001b[0;34m\u001b[0m\u001b[0;34m\u001b[0m\u001b[0m\n\u001b[0;32m---> 94\u001b[0;31m             \u001b[0mfu\u001b[0m \u001b[0;34m=\u001b[0m \u001b[0mself\u001b[0m\u001b[0;34m.\u001b[0m\u001b[0mf_u\u001b[0m\u001b[0;34m(\u001b[0m\u001b[0mx\u001b[0m\u001b[0;34m,\u001b[0m \u001b[0mu\u001b[0m\u001b[0;34m)\u001b[0m\u001b[0;34m\u001b[0m\u001b[0;34m\u001b[0m\u001b[0m\n\u001b[0m\u001b[1;32m     95\u001b[0m             \u001b[0;31m#             fxx = self.f_xx(x, u)\u001b[0m\u001b[0;34m\u001b[0m\u001b[0;34m\u001b[0m\u001b[0;34m\u001b[0m\u001b[0m\n\u001b[1;32m     96\u001b[0m             \u001b[0;31m#             fuu = self.f_uu(x, u)\u001b[0m\u001b[0;34m\u001b[0m\u001b[0;34m\u001b[0m\u001b[0;34m\u001b[0m\u001b[0m\n",
      "\u001b[0;32m~/Desktop/SAPIEN-benchmark-ilqg/src/ilqr/ILQR.py\u001b[0m in \u001b[0;36m<lambda>\u001b[0;34m(x, u)\u001b[0m\n\u001b[1;32m     48\u001b[0m             \u001b[0;31m# using provided function for step\u001b[0m\u001b[0;34m\u001b[0m\u001b[0;34m\u001b[0m\u001b[0;34m\u001b[0m\u001b[0m\n\u001b[1;32m     49\u001b[0m             \u001b[0mself\u001b[0m\u001b[0;34m.\u001b[0m\u001b[0mf_x\u001b[0m \u001b[0;34m=\u001b[0m \u001b[0;32mlambda\u001b[0m \u001b[0mx\u001b[0m\u001b[0;34m,\u001b[0m \u001b[0mu\u001b[0m\u001b[0;34m:\u001b[0m \u001b[0mmodel_der\u001b[0m\u001b[0;34m.\u001b[0m\u001b[0mfx\u001b[0m\u001b[0;34m(\u001b[0m\u001b[0mu\u001b[0m\u001b[0;34m,\u001b[0m \u001b[0mx\u001b[0m\u001b[0;34m)\u001b[0m\u001b[0;34m\u001b[0m\u001b[0;34m\u001b[0m\u001b[0m\n\u001b[0;32m---> 50\u001b[0;31m             \u001b[0mself\u001b[0m\u001b[0;34m.\u001b[0m\u001b[0mf_u\u001b[0m \u001b[0;34m=\u001b[0m \u001b[0;32mlambda\u001b[0m \u001b[0mx\u001b[0m\u001b[0;34m,\u001b[0m \u001b[0mu\u001b[0m\u001b[0;34m:\u001b[0m \u001b[0mmodel_der\u001b[0m\u001b[0;34m.\u001b[0m\u001b[0mfu\u001b[0m\u001b[0;34m(\u001b[0m\u001b[0mu\u001b[0m\u001b[0;34m,\u001b[0m \u001b[0mx\u001b[0m\u001b[0;34m)\u001b[0m\u001b[0;34m\u001b[0m\u001b[0;34m\u001b[0m\u001b[0m\n\u001b[0m\u001b[1;32m     51\u001b[0m             \u001b[0mself\u001b[0m\u001b[0;34m.\u001b[0m\u001b[0mmodel_der\u001b[0m \u001b[0;34m=\u001b[0m \u001b[0mmodel_der\u001b[0m\u001b[0;34m\u001b[0m\u001b[0;34m\u001b[0m\u001b[0m\n\u001b[1;32m     52\u001b[0m \u001b[0;34m\u001b[0m\u001b[0m\n",
      "\u001b[0;32m~/Desktop/SAPIEN-benchmark-ilqg/src/Tools/NumSim.py\u001b[0m in \u001b[0;36mfu\u001b[0;34m(self, u, x, eps)\u001b[0m\n\u001b[1;32m    209\u001b[0m             \u001b[0ml1\u001b[0m \u001b[0;34m=\u001b[0m \u001b[0mself\u001b[0m\u001b[0;34m.\u001b[0m\u001b[0mlimits\u001b[0m\u001b[0;34m[\u001b[0m\u001b[0;36m0\u001b[0m\u001b[0;34m]\u001b[0m\u001b[0;34m\u001b[0m\u001b[0;34m\u001b[0m\u001b[0m\n\u001b[1;32m    210\u001b[0m             \u001b[0ml2\u001b[0m \u001b[0;34m=\u001b[0m \u001b[0mself\u001b[0m\u001b[0;34m.\u001b[0m\u001b[0mlimits\u001b[0m\u001b[0;34m[\u001b[0m\u001b[0;36m1\u001b[0m\u001b[0;34m]\u001b[0m\u001b[0;34m\u001b[0m\u001b[0;34m\u001b[0m\u001b[0m\n\u001b[0;32m--> 211\u001b[0;31m             \u001b[0ma1\u001b[0m \u001b[0;34m=\u001b[0m \u001b[0mnp\u001b[0m\u001b[0;34m.\u001b[0m\u001b[0mwhere\u001b[0m\u001b[0;34m(\u001b[0m\u001b[0;34m(\u001b[0m\u001b[0mx1\u001b[0m \u001b[0;34m>=\u001b[0m \u001b[0ml1\u001b[0m\u001b[0;34m)\u001b[0m \u001b[0;34m*\u001b[0m \u001b[0;34m(\u001b[0m\u001b[0mx1\u001b[0m \u001b[0;34m<=\u001b[0m \u001b[0ml2\u001b[0m\u001b[0;34m)\u001b[0m\u001b[0;34m,\u001b[0m \u001b[0ma1\u001b[0m\u001b[0;34m,\u001b[0m \u001b[0mnp\u001b[0m\u001b[0;34m.\u001b[0m\u001b[0mzeros_like\u001b[0m\u001b[0;34m(\u001b[0m\u001b[0ma1\u001b[0m\u001b[0;34m)\u001b[0m\u001b[0;34m)\u001b[0m\u001b[0;34m\u001b[0m\u001b[0;34m\u001b[0m\u001b[0m\n\u001b[0m\u001b[1;32m    212\u001b[0m             \u001b[0ma2\u001b[0m \u001b[0;34m=\u001b[0m \u001b[0mnp\u001b[0m\u001b[0;34m.\u001b[0m\u001b[0mwhere\u001b[0m\u001b[0;34m(\u001b[0m\u001b[0;34m(\u001b[0m\u001b[0mx2\u001b[0m \u001b[0;34m>=\u001b[0m \u001b[0ml1\u001b[0m\u001b[0;34m)\u001b[0m \u001b[0;34m*\u001b[0m \u001b[0;34m(\u001b[0m\u001b[0mx2\u001b[0m \u001b[0;34m<=\u001b[0m \u001b[0ml2\u001b[0m\u001b[0;34m)\u001b[0m\u001b[0;34m,\u001b[0m \u001b[0ma2\u001b[0m\u001b[0;34m,\u001b[0m \u001b[0mnp\u001b[0m\u001b[0;34m.\u001b[0m\u001b[0mzeros_like\u001b[0m\u001b[0;34m(\u001b[0m\u001b[0ma2\u001b[0m\u001b[0;34m)\u001b[0m\u001b[0;34m)\u001b[0m\u001b[0;34m\u001b[0m\u001b[0;34m\u001b[0m\u001b[0m\n\u001b[1;32m    213\u001b[0m \u001b[0;34m\u001b[0m\u001b[0m\n",
      "\u001b[0;32m~/anaconda3/envs/ml/lib/python3.7/site-packages/jax/numpy/lax_numpy.py\u001b[0m in \u001b[0;36mwhere\u001b[0;34m(condition, x, y)\u001b[0m\n\u001b[1;32m   1030\u001b[0m     \u001b[0;32mreturn\u001b[0m \u001b[0mnonzero\u001b[0m\u001b[0;34m(\u001b[0m\u001b[0masarray\u001b[0m\u001b[0;34m(\u001b[0m\u001b[0mcondition\u001b[0m\u001b[0;34m)\u001b[0m\u001b[0;34m)\u001b[0m\u001b[0;34m\u001b[0m\u001b[0;34m\u001b[0m\u001b[0m\n\u001b[1;32m   1031\u001b[0m   \u001b[0;32melse\u001b[0m\u001b[0;34m:\u001b[0m\u001b[0;34m\u001b[0m\u001b[0;34m\u001b[0m\u001b[0m\n\u001b[0;32m-> 1032\u001b[0;31m     \u001b[0;32mreturn\u001b[0m \u001b[0m_where\u001b[0m\u001b[0;34m(\u001b[0m\u001b[0mcondition\u001b[0m\u001b[0;34m,\u001b[0m \u001b[0mx\u001b[0m\u001b[0;34m,\u001b[0m \u001b[0my\u001b[0m\u001b[0;34m)\u001b[0m\u001b[0;34m\u001b[0m\u001b[0;34m\u001b[0m\u001b[0m\n\u001b[0m\u001b[1;32m   1033\u001b[0m \u001b[0;34m\u001b[0m\u001b[0m\n\u001b[1;32m   1034\u001b[0m \u001b[0;34m\u001b[0m\u001b[0m\n",
      "\u001b[0;32m~/anaconda3/envs/ml/lib/python3.7/site-packages/jax/api.py\u001b[0m in \u001b[0;36mf_jitted\u001b[0;34m(*args, **kwargs)\u001b[0m\n\u001b[1;32m    148\u001b[0m     \u001b[0mflat_fun\u001b[0m\u001b[0;34m,\u001b[0m \u001b[0mout_tree\u001b[0m \u001b[0;34m=\u001b[0m \u001b[0mflatten_fun\u001b[0m\u001b[0;34m(\u001b[0m\u001b[0mf\u001b[0m\u001b[0;34m,\u001b[0m \u001b[0min_tree\u001b[0m\u001b[0;34m)\u001b[0m\u001b[0;34m\u001b[0m\u001b[0;34m\u001b[0m\u001b[0m\n\u001b[1;32m    149\u001b[0m     out = xla.xla_call(flat_fun, *args_flat, device=device, backend=backend,\n\u001b[0;32m--> 150\u001b[0;31m                        name=flat_fun.__name__)\n\u001b[0m\u001b[1;32m    151\u001b[0m     \u001b[0;32mreturn\u001b[0m \u001b[0mtree_unflatten\u001b[0m\u001b[0;34m(\u001b[0m\u001b[0mout_tree\u001b[0m\u001b[0;34m(\u001b[0m\u001b[0;34m)\u001b[0m\u001b[0;34m,\u001b[0m \u001b[0mout\u001b[0m\u001b[0;34m)\u001b[0m\u001b[0;34m\u001b[0m\u001b[0;34m\u001b[0m\u001b[0m\n\u001b[1;32m    152\u001b[0m \u001b[0;34m\u001b[0m\u001b[0m\n",
      "\u001b[0;32m~/anaconda3/envs/ml/lib/python3.7/site-packages/jax/core.py\u001b[0m in \u001b[0;36mcall_bind\u001b[0;34m(primitive, f, *args, **params)\u001b[0m\n\u001b[1;32m    893\u001b[0m   \u001b[0;32mif\u001b[0m \u001b[0mtop_trace\u001b[0m \u001b[0;32mis\u001b[0m \u001b[0;32mNone\u001b[0m\u001b[0;34m:\u001b[0m\u001b[0;34m\u001b[0m\u001b[0;34m\u001b[0m\u001b[0m\n\u001b[1;32m    894\u001b[0m     \u001b[0;32mwith\u001b[0m \u001b[0mnew_sublevel\u001b[0m\u001b[0;34m(\u001b[0m\u001b[0;34m)\u001b[0m\u001b[0;34m:\u001b[0m\u001b[0;34m\u001b[0m\u001b[0;34m\u001b[0m\u001b[0m\n\u001b[0;32m--> 895\u001b[0;31m       \u001b[0mouts\u001b[0m \u001b[0;34m=\u001b[0m \u001b[0mprimitive\u001b[0m\u001b[0;34m.\u001b[0m\u001b[0mimpl\u001b[0m\u001b[0;34m(\u001b[0m\u001b[0mf\u001b[0m\u001b[0;34m,\u001b[0m \u001b[0;34m*\u001b[0m\u001b[0margs\u001b[0m\u001b[0;34m,\u001b[0m \u001b[0;34m**\u001b[0m\u001b[0mparams\u001b[0m\u001b[0;34m)\u001b[0m\u001b[0;34m\u001b[0m\u001b[0;34m\u001b[0m\u001b[0m\n\u001b[0m\u001b[1;32m    896\u001b[0m   \u001b[0;32melse\u001b[0m\u001b[0;34m:\u001b[0m\u001b[0;34m\u001b[0m\u001b[0;34m\u001b[0m\u001b[0m\n\u001b[1;32m    897\u001b[0m     \u001b[0mtracers\u001b[0m \u001b[0;34m=\u001b[0m \u001b[0mmap\u001b[0m\u001b[0;34m(\u001b[0m\u001b[0mtop_trace\u001b[0m\u001b[0;34m.\u001b[0m\u001b[0mfull_raise\u001b[0m\u001b[0;34m,\u001b[0m \u001b[0margs\u001b[0m\u001b[0;34m)\u001b[0m\u001b[0;34m\u001b[0m\u001b[0;34m\u001b[0m\u001b[0m\n",
      "\u001b[0;32m~/anaconda3/envs/ml/lib/python3.7/site-packages/jax/interpreters/xla.py\u001b[0m in \u001b[0;36m_xla_call_impl\u001b[0;34m(fun, device, backend, name, *args)\u001b[0m\n\u001b[1;32m    457\u001b[0m   \u001b[0mcompiled_fun\u001b[0m \u001b[0;34m=\u001b[0m \u001b[0m_xla_callable\u001b[0m\u001b[0;34m(\u001b[0m\u001b[0mfun\u001b[0m\u001b[0;34m,\u001b[0m \u001b[0mdevice\u001b[0m\u001b[0;34m,\u001b[0m \u001b[0mbackend\u001b[0m\u001b[0;34m,\u001b[0m \u001b[0mname\u001b[0m\u001b[0;34m,\u001b[0m \u001b[0;34m*\u001b[0m\u001b[0mmap\u001b[0m\u001b[0;34m(\u001b[0m\u001b[0marg_spec\u001b[0m\u001b[0;34m,\u001b[0m \u001b[0margs\u001b[0m\u001b[0;34m)\u001b[0m\u001b[0;34m)\u001b[0m\u001b[0;34m\u001b[0m\u001b[0;34m\u001b[0m\u001b[0m\n\u001b[1;32m    458\u001b[0m   \u001b[0;32mtry\u001b[0m\u001b[0;34m:\u001b[0m\u001b[0;34m\u001b[0m\u001b[0;34m\u001b[0m\u001b[0m\n\u001b[0;32m--> 459\u001b[0;31m     \u001b[0;32mreturn\u001b[0m \u001b[0mcompiled_fun\u001b[0m\u001b[0;34m(\u001b[0m\u001b[0;34m*\u001b[0m\u001b[0margs\u001b[0m\u001b[0;34m)\u001b[0m\u001b[0;34m\u001b[0m\u001b[0;34m\u001b[0m\u001b[0m\n\u001b[0m\u001b[1;32m    460\u001b[0m   \u001b[0;32mexcept\u001b[0m \u001b[0mFloatingPointError\u001b[0m\u001b[0;34m:\u001b[0m\u001b[0;34m\u001b[0m\u001b[0;34m\u001b[0m\u001b[0m\n\u001b[1;32m    461\u001b[0m     print(\"Invalid value encountered in the output of a jit function. \"\n",
      "\u001b[0;32m~/anaconda3/envs/ml/lib/python3.7/site-packages/jax/interpreters/xla.py\u001b[0m in \u001b[0;36m_execute_compiled\u001b[0;34m(compiled, backend, handlers, tuple_args, *args)\u001b[0m\n\u001b[1;32m    562\u001b[0m   \u001b[0mdevice\u001b[0m\u001b[0;34m,\u001b[0m \u001b[0;34m=\u001b[0m \u001b[0mcompiled\u001b[0m\u001b[0;34m.\u001b[0m\u001b[0mlocal_devices\u001b[0m\u001b[0;34m(\u001b[0m\u001b[0;34m)\u001b[0m\u001b[0;34m\u001b[0m\u001b[0;34m\u001b[0m\u001b[0m\n\u001b[1;32m    563\u001b[0m   \u001b[0minput_bufs\u001b[0m \u001b[0;34m=\u001b[0m \u001b[0;34m[\u001b[0m\u001b[0mdevice_put\u001b[0m\u001b[0;34m(\u001b[0m\u001b[0mx\u001b[0m\u001b[0;34m,\u001b[0m \u001b[0mdevice\u001b[0m\u001b[0;34m)\u001b[0m \u001b[0;32mfor\u001b[0m \u001b[0mx\u001b[0m \u001b[0;32min\u001b[0m \u001b[0margs\u001b[0m \u001b[0;32mif\u001b[0m \u001b[0mx\u001b[0m \u001b[0;32mis\u001b[0m \u001b[0;32mnot\u001b[0m \u001b[0mtoken\u001b[0m\u001b[0;34m]\u001b[0m\u001b[0;34m\u001b[0m\u001b[0;34m\u001b[0m\u001b[0m\n\u001b[0;32m--> 564\u001b[0;31m   \u001b[0mout_bufs\u001b[0m \u001b[0;34m=\u001b[0m \u001b[0mcompiled\u001b[0m\u001b[0;34m.\u001b[0m\u001b[0mExecute\u001b[0m\u001b[0;34m(\u001b[0m\u001b[0minput_bufs\u001b[0m\u001b[0;34m,\u001b[0m \u001b[0mtuple_arguments\u001b[0m\u001b[0;34m=\u001b[0m\u001b[0mtuple_args\u001b[0m\u001b[0;34m)\u001b[0m\u001b[0;34m\u001b[0m\u001b[0;34m\u001b[0m\u001b[0m\n\u001b[0m\u001b[1;32m    565\u001b[0m   \u001b[0;32mif\u001b[0m \u001b[0mFLAGS\u001b[0m\u001b[0;34m.\u001b[0m\u001b[0mjax_debug_nans\u001b[0m\u001b[0;34m:\u001b[0m \u001b[0mcheck_nans\u001b[0m\u001b[0;34m(\u001b[0m\u001b[0mxla_call_p\u001b[0m\u001b[0;34m,\u001b[0m \u001b[0mout_bufs\u001b[0m\u001b[0;34m)\u001b[0m\u001b[0;34m\u001b[0m\u001b[0;34m\u001b[0m\u001b[0m\n\u001b[1;32m    566\u001b[0m   \u001b[0;32mreturn\u001b[0m \u001b[0;34m[\u001b[0m\u001b[0mhandler\u001b[0m\u001b[0;34m(\u001b[0m\u001b[0mout_buf\u001b[0m\u001b[0;34m)\u001b[0m \u001b[0;32mfor\u001b[0m \u001b[0mhandler\u001b[0m\u001b[0;34m,\u001b[0m \u001b[0mout_buf\u001b[0m \u001b[0;32min\u001b[0m \u001b[0mzip\u001b[0m\u001b[0;34m(\u001b[0m\u001b[0mhandlers\u001b[0m\u001b[0;34m,\u001b[0m \u001b[0mout_bufs\u001b[0m\u001b[0;34m)\u001b[0m\u001b[0;34m]\u001b[0m\u001b[0;34m\u001b[0m\u001b[0;34m\u001b[0m\u001b[0m\n",
      "\u001b[0;31mKeyboardInterrupt\u001b[0m: "
     ]
    }
   ],
   "source": [
    "# records\n",
    "ctrl_record = []\n",
    "x_record = []\n",
    "u_record = []\n",
    "run_cost_record = []\n",
    "f_cost_record = []\n",
    "ini_state = [bak_pack]\n",
    "\n",
    "# plots\n",
    "IF_PLOT = True\n",
    "\n",
    "if IF_PLOT:\n",
    "    fig, axs = plt.subplots(3,figsize=(12,9))\n",
    "\n",
    "    total = []\n",
    "    f_ax, r_ax, t_ax = axs\n",
    "    PLOT_LEN = 30\n",
    "\n",
    "    plt.ion()\n",
    "\n",
    "    fig.show()\n",
    "    fig.canvas.draw()\n",
    "\n",
    "render_controller.show_window()\n",
    "for i in trange(500):\n",
    "    x_seq, u_seq, pack_seq = ilqr.predict(x_seq, u_seq, pack_seq)\n",
    "\n",
    "    u = u_seq[0]\n",
    "\n",
    "    robot.set_qf(u)\n",
    "    s0.step()\n",
    "    s0.update_render()\n",
    "    render_controller.render()\n",
    "\n",
    "    new_x = misc.get_state(robot)\n",
    "    new_pack = robot.pack()\n",
    "\n",
    "    f_cost = final_cost(x_seq[-1])\n",
    "    run_cost = onp.sum([running_cost(x, u) for x, u in zip(x_seq[:-1], u_seq[:-1])])\n",
    "    cost = f_cost + run_cost\n",
    "\n",
    "    # record\n",
    "    ctrl_record.append(u)\n",
    "    f_cost_record.append(f_cost)\n",
    "    run_cost_record.append(run_cost)\n",
    "    x_record.append(x_seq)\n",
    "    u_record.append(u_seq)\n",
    "\n",
    "    # update x and u, since we need to record old x u\n",
    "    x_seq[0] = new_x\n",
    "    pack_seq[0] = new_pack\n",
    "\n",
    "    # plot\n",
    "    if IF_PLOT:\n",
    "        total.append(cost)\n",
    "        f_ax.clear()\n",
    "        r_ax.clear()\n",
    "        t_ax.clear()\n",
    "\n",
    "        y_lim = np.max(total[-PLOT_LEN:])\n",
    "        f_ax.set_ylim(0, y_lim)\n",
    "        r_ax.set_ylim(0, y_lim)\n",
    "        f_ax.set_ylim(0, y_lim)\n",
    "\n",
    "        x_lim = max(0, i - PLOT_LEN)\n",
    "        f_ax.set_xlim(x_lim, i)\n",
    "        r_ax.set_xlim(x_lim, i)\n",
    "        t_ax.set_xlim(x_lim, i)\n",
    "\n",
    "\n",
    "        f_ax.plot(f_cost_record)\n",
    "        f_ax.set_title(\"Final\")\n",
    "        r_ax.plot(run_cost_record)\n",
    "        r_ax.set_title(\"Running\")\n",
    "\n",
    "        t_ax.plot(total, label=\"Total\")\n",
    "        t_ax.plot(f_cost_record, label=\"Final\")\n",
    "        t_ax.plot(run_cost_record, label=\"Running\")\n",
    "        t_ax.legend()\n",
    "        t_ax.set_title(\"Total\")\n",
    "\n",
    "        fig.canvas.draw()\n",
    "        fig.show()\n"
   ]
  },
  {
   "cell_type": "code",
   "execution_count": null,
   "metadata": {
    "pycharm": {
     "is_executing": true,
     "name": "#%%\n"
    }
   },
   "outputs": [],
   "source": [
    "records = {\n",
    "    'ctrl_record': ctrl_record,\n",
    "    'x_record': x_record,\n",
    "    'u_record': u_record,\n",
    "    'run_cost_record': run_cost_record,\n",
    "    'f_cost_record': f_cost_record,\n",
    "    'ini_state': ini_state,\n",
    "}\n",
    "\n",
    "np.save('records' + str(datetime.utcnow()), records)\n"
   ]
  }
 ],
 "metadata": {
  "kernelspec": {
   "display_name": "Python 3.7.6 64-bit ('ml': conda)",
   "language": "python",
   "name": "python37664bitmlconda2e170bd122e545f6bb518a813f3b75e9"
  },
  "language_info": {
   "codemirror_mode": {
    "name": "ipython",
    "version": 3
   },
   "file_extension": ".py",
   "mimetype": "text/x-python",
   "name": "python",
   "nbconvert_exporter": "python",
   "pygments_lexer": "ipython3",
   "version": "3.7.6"
  }
 },
 "nbformat": 4,
 "nbformat_minor": 1
}
