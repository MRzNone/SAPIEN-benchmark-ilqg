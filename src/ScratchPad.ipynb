{
 "cells": [
  {
   "cell_type": "code",
   "execution_count": 1,
   "outputs": [
    {
     "name": "stdout",
     "output_type": "stream",
     "text": [
      "Using default glsl path /home/zack/anaconda3/envs/ml/lib/python3.7/site-packages/sapien/glsl_shader/130\n",
      "env: XLA_PYTHON_CLIENT_MEM_FRACTION=.40\n"
     ]
    }
   ],
   "source": [
    "import sapien.core as sapien\n",
    "from Tools import misc, ForwardKinematics, ModelSim, NumForwardDynamicsDer, Dynamics, MathForwardDynamicsDer\n",
    "import numpy as onp\n",
    "import jax.numpy as np\n",
    "from jax import jit, jacfwd, jacrev, grad\n",
    "from ilqr import ILQR\n",
    "from datetime import datetime\n",
    "from tqdm.notebook import trange\n",
    "import matplotlib.pyplot as plt\n",
    "\n",
    "%matplotlib notebook\n",
    "%env XLA_PYTHON_CLIENT_MEM_FRACTION=.40\n",
    "\n",
    "\n",
    "sim = sapien.Engine()\n",
    "renderer = sapien.OptifuserRenderer()\n",
    "sim.set_renderer(renderer)\n",
    "render_controller = sapien.OptifuserController(renderer)"
   ],
   "metadata": {
    "collapsed": false,
    "pycharm": {
     "name": "#%%\n"
    }
   }
  },
  {
   "cell_type": "code",
   "execution_count": 2,
   "outputs": [],
   "source": [
    "DEBUG = False\n",
    "\n",
    "stabled = False\n",
    "\n",
    "\n",
    "def create_scene(timestep, visual):\n",
    "    s = sim.create_scene([0, 0, 0])\n",
    "    s.add_ground(-1)\n",
    "    s.set_timestep(timestep)\n",
    "\n",
    "    loader = s.create_urdf_loader()\n",
    "    loader.fix_root_link = True\n",
    "    if visual:\n",
    "        loader.collision_is_visual = True\n",
    "        s.set_ambient_light([0.5, 0.5, 0.5])\n",
    "        s.set_shadow_light([0, 1, -1], [0.5, 0.5, 0.5])\n",
    "\n",
    "    # build\n",
    "    robot = loader.load(\"../assets/Arm/panda.urdf\")\n",
    "\n",
    "    for joint in robot.get_joints():\n",
    "        joint.set_drive_property(stiffness=0, damping=1)\n",
    "    robot.set_qpos(np.array([0, 1.7, 0, -1.5, 0, 2.5, 0.7, 0.4, 0.4]))\n",
    "\n",
    "    return s, robot\n",
    "\n",
    "\n",
    "sim_timestep = 1 / 60\n",
    "optim_timestep = 1 / 60\n",
    "s0, robot = create_scene(sim_timestep, True)\n",
    "\n",
    "render_controller.set_camera_position(-5, 0, 0)\n",
    "render_controller.set_current_scene(s0)"
   ],
   "metadata": {
    "collapsed": false,
    "pycharm": {
     "name": "#%%\n"
    }
   }
  },
  {
   "cell_type": "code",
   "execution_count": 19,
   "outputs": [
    {
     "name": "stdout",
     "output_type": "stream",
     "text": [
      "1.6421484\n",
      "1.4442369\n",
      "0.6969862\n",
      "2.322577\n",
      "2.547936\n"
     ]
    }
   ],
   "source": [
    "m1 = robot.compute_mass_matrix()\n",
    "for _ in range(5):\n",
    "    u = onp.random.random(robot.dof) * 500\n",
    "    robot.set_qf(u)\n",
    "    s0.step()\n",
    "\n",
    "    m2 = robot.compute_mass_matrix()\n",
    "    print(np.linalg.norm(m2-m1))\n",
    "    m1 = m2"
   ],
   "metadata": {
    "collapsed": false,
    "pycharm": {
     "name": "#%%\n"
    }
   }
  },
  {
   "cell_type": "code",
   "execution_count": null,
   "outputs": [],
   "source": [
    "def inverseDynamics(robot:sapien.Articulation, qAcc):\n",
    "    # linear\n",
    "    M = robot.compute_mass_matrix()\n",
    "    linear_force = M @ qAcc\n",
    "\n",
    "    # other\n",
    "    F = robot.compute_passive_force(False, False, False)\n",
    "\n",
    "    return linear_force + F"
   ],
   "metadata": {
    "collapsed": false,
    "pycharm": {
     "name": "#%%\n"
    }
   }
  },
  {
   "cell_type": "code",
   "execution_count": null,
   "outputs": [],
   "source": [
    "packs = []\n",
    "\n",
    "for _ in range(100):\n",
    "    qAcc = onp.random.randn(robot.dof)\n",
    "    robot.set_qf(qAcc)\n",
    "    s0.step()\n",
    "\n",
    "    f1 = robot.compute_inverse_dynamics(qAcc)\n",
    "    f2 = inverseDynamics(robot, qAcc)\n",
    "\n",
    "    diff = onp.linalg.norm(f1 - f2)\n",
    "    if diff > 1e-6:\n",
    "        print(diff)"
   ],
   "metadata": {
    "collapsed": false,
    "pycharm": {
     "name": "#%%\n"
    }
   }
  },
  {
   "cell_type": "code",
   "execution_count": null,
   "outputs": [],
   "source": [
    "dym = Dynamics(robot, sim_timestep, True, True, True)\n",
    "\n",
    "for _ in range(5):\n",
    "    qpos = robot.get_qpos()\n",
    "\n",
    "    u = onp.random.randn(robot.dof) * 10\n",
    "    robot.set_qf(u)\n",
    "    s0.step()\n",
    "\n",
    "    dPos = dym.forward(u)\n",
    "\n",
    "    pos1 = robot.get_qpos()\n",
    "    pos2 = qpos + dPos\n",
    "\n",
    "    diff = np.linalg.norm(pos1 - pos2)\n",
    "\n",
    "    # print(diff)\n",
    "\n",
    "    print(pos1)\n",
    "    print(pos2, \"\\n\")"
   ],
   "metadata": {
    "collapsed": false,
    "pycharm": {
     "name": "#%%\n"
    }
   }
  },
  {
   "cell_type": "code",
   "execution_count": null,
   "outputs": [],
   "source": [
    "fu = jacfwd(dym.forward)\n",
    "u = onp.random.randn(robot.dof) * 10\n",
    "fu(u)"
   ],
   "metadata": {
    "collapsed": false,
    "pycharm": {
     "name": "#%%\n"
    }
   }
  },
  {
   "cell_type": "code",
   "execution_count": null,
   "outputs": [],
   "source": [
    "der = MathForwardDynamicsDer(robot, sim_timestep, True, True, True)\n",
    "\n",
    "der.fu(u, None).shape"
   ],
   "metadata": {
    "collapsed": false,
    "pycharm": {
     "name": "#%%\n"
    }
   }
  },
  {
   "cell_type": "code",
   "execution_count": null,
   "outputs": [],
   "source": [
    "\n"
   ],
   "metadata": {
    "collapsed": false,
    "pycharm": {
     "name": "#%%\n"
    }
   }
  }
 ],
 "metadata": {
  "kernelspec": {
   "display_name": "Python 3",
   "language": "python",
   "name": "python3"
  },
  "language_info": {
   "codemirror_mode": {
    "name": "ipython",
    "version": 2
   },
   "file_extension": ".py",
   "mimetype": "text/x-python",
   "name": "python",
   "nbconvert_exporter": "python",
   "pygments_lexer": "ipython2",
   "version": "2.7.6"
  }
 },
 "nbformat": 4,
 "nbformat_minor": 0
}