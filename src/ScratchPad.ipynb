{
 "cells": [
  {
   "cell_type": "code",
   "execution_count": 1,
   "outputs": [
    {
     "name": "stdout",
     "output_type": "stream",
     "text": [
      "Using default glsl path /home/zack/anaconda3/envs/ml/lib/python3.7/site-packages/sapien/glsl_shader/130\n"
     ]
    }
   ],
   "source": [
    "import sapien.core as sapien\n",
    "from Tools import misc, ForwardKinematics, ModelSim, NumForwardDynamicsDer, MathForwardDynamicsDer\n",
    "import numpy as onp\n",
    "import jax.numpy as np\n",
    "from jax import jit, jacfwd, jacrev, grad, ShapedArray\n",
    "from ilqr import ILQR\n",
    "from datetime import datetime\n",
    "from tqdm import trange\n",
    "# from tqdm.notebook import trange\n",
    "import matplotlib.pyplot as plt\n",
    "\n",
    "sim = sapien.Engine()\n",
    "renderer = sapien.OptifuserRenderer()\n",
    "sim.set_renderer(renderer)\n",
    "render_controller = sapien.OptifuserController(renderer)"
   ],
   "metadata": {
    "collapsed": false,
    "pycharm": {
     "name": "#%%\n"
    }
   }
  },
  {
   "cell_type": "code",
   "execution_count": 2,
   "outputs": [],
   "source": [
    "DEBUG = True\n",
    "\n",
    "stabled = False\n",
    "\n",
    "\n",
    "def create_scene(timestep, visual):\n",
    "    s = sim.create_scene([0, 0, 0])\n",
    "    s.add_ground(-1)\n",
    "    s.set_timestep(timestep)\n",
    "\n",
    "    loader = s.create_urdf_loader()\n",
    "    loader.fix_root_link = True\n",
    "    if visual:\n",
    "        loader.collision_is_visual = True\n",
    "        s.set_ambient_light([0.5, 0.5, 0.5])\n",
    "        s.set_shadow_light([0, 1, -1], [0.5, 0.5, 0.5])\n",
    "\n",
    "    # build\n",
    "    robot = loader.load(\"../assets/Arm/panda.urdf\")\n",
    "\n",
    "    for joint in robot.get_joints():\n",
    "        joint.set_drive_property(stiffness=0, damping=50)\n",
    "    # robot.set_qpos(np.array([0, 1.7, 0, -1.5, 0, 2.5, 0.7, 0.04, 0.04]))\n",
    "    p = onp.random.random(robot.dof) * 3 - 1.5\n",
    "    lim = robot.get_qlimits().T\n",
    "    p = onp.clip(p, lim[0], lim[1])\n",
    "    robot.set_qpos(p)\n",
    "\n",
    "    return s, robot\n",
    "\n",
    "\n",
    "# renderer_timestep = 1 / 60\n",
    "optim_timestep = 1 / 500\n",
    "sim_timestep = 1 / 60\n",
    "s0, robot = create_scene(sim_timestep, True)\n",
    "\n",
    "render_controller.set_camera_position(-5, 0, 0)\n",
    "render_controller.set_current_scene(s0)\n"
   ],
   "metadata": {
    "collapsed": false,
    "pycharm": {
     "name": "#%%\n"
    }
   }
  },
  {
   "cell_type": "code",
   "execution_count": 3,
   "outputs": [],
   "source": [
    "def smooth_abs(x, alpha):\n",
    "    return np.mean((alpha ** 2) * (np.cosh(x / alpha) - 1))\n",
    "\n",
    "\n",
    "robo_pose = robot.get_root_pose()\n",
    "\n",
    "dof = robot.dof\n",
    "factor = np.array([150, 150, 150, 100, 300, 300, 300, 10, 10])\n",
    "u_range = np.array([-factor, factor])\n",
    "q_range = robot.get_qlimits().T\n",
    "q_mean = np.mean(q_range, axis=0)\n",
    "q_radius = q_range[1] - q_mean\n",
    "\n",
    "pred_time = 0.3\n",
    "horizon = int(pred_time / optim_timestep) + 1\n",
    "per_iter = 2\n",
    "\n",
    "fk = ForwardKinematics(robot)"
   ],
   "metadata": {
    "collapsed": false,
    "pycharm": {
     "name": "#%%\n"
    }
   }
  },
  {
   "cell_type": "code",
   "execution_count": 45,
   "outputs": [],
   "source": [
    "@jit\n",
    "def final_cost(x, alpha1=0.3, alpha2=0.5, alpha3=0.5):\n",
    "    # add base pose\n",
    "    qpos = x[:dof]\n",
    "    qvel = x[dof:]\n",
    "    pos = np.concatenate((qpos, robo_pose.p, robo_pose.q))\n",
    "\n",
    "    cart_pos = fk.fk(pos).reshape(-1, 3)[:, :3]\n",
    "    end_effector_pos = cart_pos[-3]\n",
    "\n",
    "    target_pos = robo_pose.p + [0, 0, 1.2]\n",
    "    # penalize not raising high\n",
    "    term1 = smooth_abs(end_effector_pos[2] - target_pos[2], alpha1)\n",
    "\n",
    "    # penalize high velocity\n",
    "    term2 = smooth_abs(qvel / (q_radius * 2 * 3), alpha2)  # 3 seconds go full qpos span\n",
    "\n",
    "    # penalize stuck at boundary\n",
    "    term3 = smooth_abs((qpos - q_mean) / q_radius * 2, alpha3)\n",
    "\n",
    "    return term1 * 3 + term2 * 2 + term3\n"
   ],
   "metadata": {
    "collapsed": false,
    "pycharm": {
     "name": "#%%\n"
    }
   }
  },
  {
   "cell_type": "code",
   "execution_count": null,
   "outputs": [],
   "source": [
    "\n"
   ],
   "metadata": {
    "collapsed": false,
    "pycharm": {
     "name": "#%%\n"
    }
   }
  }
 ],
 "metadata": {
  "kernelspec": {
   "display_name": "Python 3",
   "language": "python",
   "name": "python3"
  },
  "language_info": {
   "codemirror_mode": {
    "name": "ipython",
    "version": 2
   },
   "file_extension": ".py",
   "mimetype": "text/x-python",
   "name": "python",
   "nbconvert_exporter": "python",
   "pygments_lexer": "ipython2",
   "version": "2.7.6"
  }
 },
 "nbformat": 4,
 "nbformat_minor": 0
}